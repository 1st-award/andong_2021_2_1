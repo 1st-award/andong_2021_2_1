{
  "nbformat": 4,
  "nbformat_minor": 0,
  "metadata": {
    "colab": {
      "name": "202104koreanPopu.ipynb",
      "provenance": [],
      "collapsed_sections": [],
      "authorship_tag": "ABX9TyPS0DTzfn78fMbfllwm8vAL",
      "include_colab_link": true
    },
    "kernelspec": {
      "name": "python3",
      "display_name": "Python 3"
    },
    "language_info": {
      "name": "python"
    }
  },
  "cells": [
    {
      "cell_type": "markdown",
      "metadata": {
        "id": "view-in-github",
        "colab_type": "text"
      },
      "source": [
        "<a href=\"https://colab.research.google.com/github/1st-award/andong_2021_2_1/blob/main/Python/%ED%95%84%EA%B8%B0%20%EC%82%AC%EB%B3%B8/202104koreanPopu.ipynb\" target=\"_parent\"><img src=\"https://colab.research.google.com/assets/colab-badge.svg\" alt=\"Open In Colab\"/></a>"
      ]
    },
    {
      "cell_type": "markdown",
      "metadata": {
        "id": "RGcc-2eMCs8H"
      },
      "source": [
        "# Choropleth map\n",
        "- 지리적 영역 범휘별 수치 데이터 값을 **색**이나 패턴으로 표현한 지도유형\n",
        "- 예: 미국의 대통령 선거에서 투표한 정당의 후보에 따라 각 주가 빨간색 또는 파란색으로 표시된 미국의 지도"
      ]
    },
    {
      "cell_type": "markdown",
      "metadata": {
        "id": "Zu6DpvOOCwVX"
      },
      "source": [
        "## folium.map()의 tiles 속성\n",
        "- OpenStreetMap: 기본\n",
        "- Mapquestopen\n",
        "- MapQuest Open Aerial\n",
        "- Mapbox Bright\n",
        "- Mapbox Control room\n",
        "- **Stamen Terrain**\n",
        "- **Stamen Toner**\n",
        "- stamenwatercolor\n",
        "- cartodbpositron\n",
        "- cartodbdark_matter"
      ]
    },
    {
      "cell_type": "markdown",
      "metadata": {
        "id": "W1rWb32LCxUr"
      },
      "source": [
        "## 데이터 가져오기 및 정제"
      ]
    },
    {
      "cell_type": "code",
      "metadata": {
        "id": "zRupB4yj17CH"
      },
      "source": [
        "from google.colab import drive\n",
        "drive.mount('/gdrive', force_remount=True)"
      ],
      "execution_count": null,
      "outputs": []
    },
    {
      "cell_type": "code",
      "metadata": {
        "id": "JcecMHlY2Yg7"
      },
      "source": [
        "import pandas as pd\n",
        "import folium as fl\n",
        "import json"
      ],
      "execution_count": null,
      "outputs": []
    },
    {
      "cell_type": "code",
      "metadata": {
        "id": "_oknNxhY2Tw9"
      },
      "source": [
        "popuDF = pd.read_excel('/gdrive/My Drive/Python/202104_주민등록인구및세대현황.xlsx')\n",
        "popuDF"
      ],
      "execution_count": null,
      "outputs": []
    },
    {
      "cell_type": "code",
      "metadata": {
        "id": "yVktEJtV3CmF"
      },
      "source": [
        "popuDF.drop([0, 1, 2], inplace=True)\n",
        "popuDF.head()"
      ],
      "execution_count": null,
      "outputs": []
    },
    {
      "cell_type": "code",
      "metadata": {
        "id": "MVluSzU23NIH"
      },
      "source": [
        "popuDF.drop(['※ 매월 말일자 통계 현황'], axis=1, inplace=True)\n",
        "popuDF.head()"
      ],
      "execution_count": null,
      "outputs": []
    },
    {
      "cell_type": "code",
      "metadata": {
        "id": "Zu4hYcXb3cm9"
      },
      "source": [
        "# 행정기관 총인구수 세대수  세대당 인구 남자 인구수  여자 인구수  남여 비율\n",
        "popuDF.columns = (['행정구역', '총인구수', '세대수', '세대당 인구', '남자', '여자', '남녀비율'])\n",
        "popuDF.head()"
      ],
      "execution_count": null,
      "outputs": []
    },
    {
      "cell_type": "code",
      "metadata": {
        "id": "IimgpVqS4haM"
      },
      "source": [
        "popuDF = popuDF.set_index('행정구역')\n",
        "popuDF"
      ],
      "execution_count": null,
      "outputs": []
    },
    {
      "cell_type": "code",
      "metadata": {
        "id": "MfYcsuu94JR0"
      },
      "source": [
        "# 천 단위 구분 기호를 제거하고 문자열을 수로 변환\n",
        "delComma = lambda x : x.replace(',','')\n",
        "for c in range(5):\n",
        "  popuDF.iloc[:, c] = popuDF.iloc[:, c].apply(delComma)\n",
        "\n",
        "popuDF"
      ],
      "execution_count": null,
      "outputs": []
    },
    {
      "cell_type": "code",
      "metadata": {
        "id": "lqZthP185w09"
      },
      "source": [
        "print('before', popuDF.dtypes)\n",
        "for c in range(6):\n",
        "  popuDF.iloc[:, c] = pd.to_numeric(popuDF.iloc[:, c])\n",
        "\n",
        "print('after', popuDF.dtypes)"
      ],
      "execution_count": null,
      "outputs": []
    },
    {
      "cell_type": "code",
      "metadata": {
        "id": "xlAR3CqS7gQi"
      },
      "source": [
        "# 시도청 공백 제거\n",
        "delSpace = lambda x : x.replace(' ', '')\n",
        "popuDF.index = map(delSpace, popuDF.index)\n",
        "popuDF.index"
      ],
      "execution_count": null,
      "outputs": []
    },
    {
      "cell_type": "code",
      "metadata": {
        "id": "ZobI2jQd6Iht"
      },
      "source": [
        "with open('/gdrive/My Drive/Python/TL_SCCO_CTPRVN.json') as json_file:\n",
        "  korea_geo = json.load(json_file)\n",
        "korea_geo"
      ],
      "execution_count": null,
      "outputs": []
    },
    {
      "cell_type": "code",
      "metadata": {
        "id": "OxbPFdK_6oSZ"
      },
      "source": [
        "# 각 광역시도청 위치 정보 파일 읽기\n",
        "office = pd.read_csv(\"/gdrive/My Drive/Python/광역시도청_위치.csv\", encoding='utf-8')\n",
        "office.set_index(office['행정기관'], inplace = True)\n",
        "del office['행정기관']\n",
        "office"
      ],
      "execution_count": null,
      "outputs": []
    },
    {
      "cell_type": "code",
      "metadata": {
        "id": "OhJWNCTI65si"
      },
      "source": [
        "popuKorea = fl.Map(location=[36, 127], tiles = 'stamenwatercolor', zoom_start=7)\n",
        "fl.Choropleth(\n",
        "    geo_data=korea_geo,\n",
        "    name = 'Population Distribution by Region in Korea',\n",
        "    data = popuDF['총인구수'],\n",
        "    columns = [popuDF.index, popuDF['총인구수']],\n",
        "    key_on = 'feature.properties.CTP_KOR_NM',\n",
        "    fill_color='YlGnBu',\n",
        "    fill_opacity = 0.7,\n",
        "    line_opacitruety = 0.3,\n",
        "    highlight = True,\n",
        "    legend_name = '지역별 총인구수'\n",
        ").add_to(popuKorea)\n",
        "\n",
        "for i in range(len(office)):\n",
        "  lati, longi = office.iat[i, 0], office.iat[i, 1]\n",
        "  fl.Marker([lati, longi], tooltip = '[' + office.index[i] + '] ' + str(popuDF.iloc[i, 0])+ '명',\n",
        "                icon=fl.Icon(icon='info-sign', color='red')).add_to(popuKorea)\n",
        "popuKorea"
      ],
      "execution_count": null,
      "outputs": []
    },
    {
      "cell_type": "markdown",
      "metadata": {
        "id": "2g5_LK3SBarT"
      },
      "source": [
        "## 전체 코드 정리"
      ]
    },
    {
      "cell_type": "code",
      "metadata": {
        "id": "w66U8OjxBcdD"
      },
      "source": [
        "# 전체 코드 정리\n",
        "# 1. 라이브러리 가져오기\n",
        "import pandas as pd\n",
        "import folium as fl\n",
        "import json\n",
        "from google.colab import drive\n",
        "drive.mount('/gdrive', force_remount=True)\n",
        "\n",
        "# 2. 인구 데이터 파일 읽고 정제하기\n",
        "popuDF = pd.read_excel('/gdrive/My Drive/Python/202104_주민등록인구및세대현황.xlsx')\n",
        "popuDF.drop([0, 1, 2], inplace=True)\n",
        "popuDF.drop(['※ 매월 말일자 통계 현황'], axis=1, inplace=True)\n",
        "# 행정기관 총인구수 세대수  세대당 인구 남자 인구수  여자 인구수  남여 비율\n",
        "popuDF.columns = (['행정구역', '총인구수', '세대수', '세대당 인구', '남자', '여자', '남녀비율'])\n",
        "popuDF = popuDF.set_index('행정구역')\n",
        "# 천 단위 구분 기호를 제거하고 문자열을 수로 변환\n",
        "delComma = lambda x : x.replace(',','')\n",
        "for c in range(5):\n",
        "  popuDF.iloc[:, c] = popuDF.iloc[:, c].apply(delComma)\n",
        "# 인구 데이터를 수로 변환\n",
        "for c in range(6):\n",
        "  popuDF.iloc[:, c] = pd.to_numeric(popuDF.iloc[:, c])\n",
        "# 행정 구역명에 포함된 불필요한 공백 제거\n",
        "delSpace = lambda x : x.replace(' ', '')\n",
        "popuDF.index = map(delSpace, popuDF.index)\n",
        "# 3. JSON 파일 읽기\n",
        "with open('/gdrive/My Drive/Python/TL_SCCO_CTPRVN.json') as json_file:\n",
        "  korea_geo = json.load(json_file)\n",
        "# 4. 각 광역시도청 위치 정보 파일 읽기\n",
        "office = pd.read_csv(\"/gdrive/My Drive/Python/광역시도청_위치.csv\", encoding='utf-8')\n",
        "office.set_index(office['행정기관'], inplace = True)\n",
        "del office['행정기관']\n",
        "office\n",
        "# 5. 등치 지도 그리기\n",
        "popuKorea = fl.Map(location=[36, 127], tiles = 'stamenwatercolor', zoom_start=7)\n",
        "fl.Choropleth(\n",
        "    geo_data=korea_geo,\n",
        "    name = 'Population Distribution by Region in Korea',\n",
        "    data = popuDF['총인구수'],\n",
        "    columns = [popuDF.index, popuDF['총인구수']],\n",
        "    key_on = 'feature.properties.CTP_KOR_NM',\n",
        "    fill_color='YlGnBu',\n",
        "    fill_opacity = 0.7,\n",
        "    line_opacitruety = 0.3,\n",
        "    highlight = True,\n",
        "    legend_name = '지역별 총인구수'\n",
        ").add_to(popuKorea)\n",
        "\n",
        "# 6. 등치 지도 위에 각 시/도청 위치에 표식 달기\n",
        "for i in range(len(office)):\n",
        "  lati, longi = office.iat[i, 0], office.iat[i, 1]\n",
        "  fl.Marker([lati, longi], tooltip = '[' + office.index[i] + '] ' + str(popuDF.iloc[i, 0])+ '명',\n",
        "                icon=fl.Icon(icon='info-sign', color='red')).add_to(popuKorea)\n",
        "\n",
        "# 지도 출력하기\n",
        "popuKorea"
      ],
      "execution_count": null,
      "outputs": []
    }
  ]
}