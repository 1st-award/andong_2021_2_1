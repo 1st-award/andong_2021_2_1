{
  "nbformat": 4,
  "nbformat_minor": 0,
  "metadata": {
    "colab": {
      "name": "data_structure.ipynb",
      "provenance": [],
      "collapsed_sections": [],
      "toc_visible": true,
      "authorship_tag": "ABX9TyOPiIJANwJIIu0WgCeafT0+",
      "include_colab_link": true
    },
    "kernelspec": {
      "name": "python3",
      "display_name": "Python 3"
    },
    "language_info": {
      "name": "python"
    }
  },
  "cells": [
    {
      "cell_type": "markdown",
      "metadata": {
        "id": "view-in-github",
        "colab_type": "text"
      },
      "source": [
        "<a href=\"https://colab.research.google.com/github/1st-award/andong_2021_2_1/blob/main/Python/%ED%95%84%EA%B8%B0%20%EC%82%AC%EB%B3%B8/data_structure.ipynb\" target=\"_parent\"><img src=\"https://colab.research.google.com/assets/colab-badge.svg\" alt=\"Open In Colab\"/></a>"
      ]
    },
    {
      "cell_type": "markdown",
      "metadata": {
        "id": "dYwFjjDbQyHJ"
      },
      "source": [
        "# 리스트(List)\n",
        "\n",
        "- 프로그램의 수행에 필요한 데이터를 관리하기 쉽도록 **순서**를 정하여 차례대로 저장해놓은 **시퀀스(일련의 연속적인)** 자료구조<br>\n",
        "- 리스트의 생성: 대괄호 []안에 원소(element 또는 item)들을 쉼표로 구분하여 차례대로 나열<br>\n",
        "- 원소의 내용 변경, 삽입 및 삭제가 가능<br>\n",
        "\n"
      ]
    },
    {
      "cell_type": "markdown",
      "metadata": {
        "id": "dBT-ViNCRQcc"
      },
      "source": [
        "## 리스트의 생성"
      ]
    },
    {
      "cell_type": "code",
      "metadata": {
        "id": "gkjHzbLcQmCO"
      },
      "source": [
        "shopping_list = ['딸기', '바나나', '우유', '달걀', '양배추', '당근', '소고기']\n",
        "shopping_list"
      ],
      "execution_count": null,
      "outputs": []
    },
    {
      "cell_type": "code",
      "metadata": {
        "id": "-Yv5YCnIRhsx"
      },
      "source": [
        "score = [45, 74, 68, 86, 50, 70, 90, 96, 84]\n",
        "score"
      ],
      "execution_count": null,
      "outputs": []
    },
    {
      "cell_type": "markdown",
      "metadata": {
        "id": "kuY_6WO5R1yZ"
      },
      "source": [
        "## 리스트 원소 변경"
      ]
    },
    {
      "cell_type": "code",
      "metadata": {
        "id": "yoSSdLy6R4dG"
      },
      "source": [
        "shopping_list[4] = \"상추\"\n",
        "shopping_list"
      ],
      "execution_count": null,
      "outputs": []
    },
    {
      "cell_type": "markdown",
      "metadata": {
        "id": "FtPG9ZzGRjCK"
      },
      "source": [
        "## 리스트 원소 추가\n",
        "\n",
        "**list.append(x)** - 리스트 '맨 끝'에 x원소를 추가 "
      ]
    },
    {
      "cell_type": "code",
      "metadata": {
        "id": "_tLFQUYfRkrm"
      },
      "source": [
        "shopping_list.append('마늘')\n",
        "shopping_list"
      ],
      "execution_count": null,
      "outputs": []
    },
    {
      "cell_type": "markdown",
      "metadata": {
        "id": "zWPYlTGOSFHJ"
      },
      "source": [
        "## 특정 위치에 원소 삽입\n",
        "\n",
        "**list.insert(a, b)** - 리스트의 a위치에 b의 값을 삽입"
      ]
    },
    {
      "cell_type": "code",
      "metadata": {
        "colab": {
          "base_uri": "https://localhost:8080/"
        },
        "id": "nLiBMq9gSKzo",
        "outputId": "49089aa2-0ee1-470a-c25a-1094a036024f"
      },
      "source": [
        "shopping_list.insert(2, '오렌지') # shopping_list[2]에 오렌지를 추가\n",
        "shopping_list"
      ],
      "execution_count": null,
      "outputs": [
        {
          "output_type": "execute_result",
          "data": {
            "text/plain": [
              "['딸기', '바나나', '오렌지', '오렌지', '우유', '달걀', '상추', '당근', '소고기']"
            ]
          },
          "metadata": {
            "tags": []
          },
          "execution_count": 7
        }
      ]
    },
    {
      "cell_type": "markdown",
      "metadata": {
        "id": "Y5vPxJYUSkvx"
      },
      "source": [
        "## 리스트 원소 삭제\n",
        "\n",
        "**list.pop(n)** - 리스트의 n번 위치의 값을 꺼내어 반환하고 리스트에서 해당 값을 삭제<br>\n",
        "**list.pop()** - 리스트의 맨 마지막에 있는 값을 꺼내어 반환하고 리스트에서 해당 값을 삭제<br>"
      ]
    },
    {
      "cell_type": "code",
      "metadata": {
        "id": "jEgOqHnySw9k"
      },
      "source": [
        "shopping_list.pop(1) # shopping_list[1]을 꺼내어 반환하고(반환할 대상이 없으면 바로 삭제) 해당 값을 리스트에서 삭제\n",
        "shopping_list"
      ],
      "execution_count": null,
      "outputs": []
    },
    {
      "cell_type": "code",
      "metadata": {
        "id": "y6O7HBpvS3u5"
      },
      "source": [
        "del_item = shopping_list.pop() # 리스트 마지막에 있는 값을 꺼내어 del_item에 저장하고 삭제\n",
        "del_item"
      ],
      "execution_count": null,
      "outputs": []
    },
    {
      "cell_type": "code",
      "metadata": {
        "id": "dWhVTM9gS_Di"
      },
      "source": [
        "shopping_list"
      ],
      "execution_count": null,
      "outputs": []
    },
    {
      "cell_type": "markdown",
      "metadata": {
        "id": "7ET286ocTHRi"
      },
      "source": [
        "**list.remove(x)** - 리스트에서 특정 값 x를 찾아서 제거"
      ]
    },
    {
      "cell_type": "code",
      "metadata": {
        "id": "MI87R6MtTGyq"
      },
      "source": [
        "shopping_list.remove('달걀') # 리스트에서 달걀을 찾아 삭제"
      ],
      "execution_count": null,
      "outputs": []
    },
    {
      "cell_type": "code",
      "metadata": {
        "id": "xpYZe0HmTTaE"
      },
      "source": [
        "shopping_list"
      ],
      "execution_count": null,
      "outputs": []
    },
    {
      "cell_type": "markdown",
      "metadata": {
        "id": "k06K5krnUIDI"
      },
      "source": [
        "## 리스트 안에 어떤 원소가 있는지 확인"
      ]
    },
    {
      "cell_type": "code",
      "metadata": {
        "id": "aTYc9M3PULlT"
      },
      "source": [
        "'당근' in shopping_list"
      ],
      "execution_count": null,
      "outputs": []
    },
    {
      "cell_type": "code",
      "metadata": {
        "id": "Nlsh83SMUQUj"
      },
      "source": [
        "'바나나' in shopping_list"
      ],
      "execution_count": null,
      "outputs": []
    },
    {
      "cell_type": "markdown",
      "metadata": {
        "id": "y7gN1hXcT0SD"
      },
      "source": [
        "## 리스트 이어붙이기"
      ]
    },
    {
      "cell_type": "code",
      "metadata": {
        "id": "g-0JaVAkUVmF"
      },
      "source": [
        "color1 = [\"red\", \"green\", \"blue\"] # 리스트는 값(red, green, blue)을 저장하는게 아니라 리스트의 가장 앞의 주소(red의 첫번째 주소값)를 저장한다\n",
        "color2 = [\"whilte\", \"black\", \"cyan\"]"
      ],
      "execution_count": null,
      "outputs": []
    },
    {
      "cell_type": "code",
      "metadata": {
        "id": "HsqyPblLUj6F"
      },
      "source": [
        "color1 = color1 + color2 # 3개의 원소를 갖고있던 주소를 버리고 6개의 원소를 저장하고있는 첫번째 원소의 주소를 저장한다.\n",
        "color1"
      ],
      "execution_count": null,
      "outputs": []
    },
    {
      "cell_type": "code",
      "metadata": {
        "id": "h84r41C5UqSG"
      },
      "source": [
        "cities = [\"서울\", \"부산\", \"대구\"]\n",
        "cities.extend([\"대전\", \"광주\", \"울산\", \"인천\"]) # extend -> 확장이라는 단어\n",
        "cities"
      ],
      "execution_count": null,
      "outputs": []
    },
    {
      "cell_type": "code",
      "metadata": {
        "id": "EGE4ihj6WXFd"
      },
      "source": [
        "cities = [\"서울\", \"부산\", \"대구\"]\n",
        "newCities = 3 * cities # newCities = newCities + newCities + newCities\n",
        "newCities"
      ],
      "execution_count": null,
      "outputs": []
    },
    {
      "cell_type": "markdown",
      "metadata": {
        "id": "p6deWbyAU514"
      },
      "source": [
        "## 리스트 정렬\n",
        "\n",
        "- 글자는 가, 나, 다 순서 숫자는 1, 2, 3 순서로 저장된다"
      ]
    },
    {
      "cell_type": "code",
      "metadata": {
        "id": "UHfE00SUU4md"
      },
      "source": [
        "num = [9, 3, 7, 5, 1, 2, 8]\n",
        "num"
      ],
      "execution_count": null,
      "outputs": []
    },
    {
      "cell_type": "code",
      "metadata": {
        "id": "pGdjnuhdW9yo"
      },
      "source": [
        "# 오름차순 정렬\n",
        "num.sort()\n",
        "num"
      ],
      "execution_count": null,
      "outputs": []
    },
    {
      "cell_type": "code",
      "metadata": {
        "id": "MhcesyBXXBHz"
      },
      "source": [
        "# 내림차순 정렬\n",
        "num.sort(reverse=True)\n",
        "num"
      ],
      "execution_count": null,
      "outputs": []
    },
    {
      "cell_type": "markdown",
      "metadata": {
        "id": "gKwASOs-XGHs"
      },
      "source": [
        "## 리스트 슬라이시싱"
      ]
    },
    {
      "cell_type": "code",
      "metadata": {
        "colab": {
          "base_uri": "https://localhost:8080/"
        },
        "id": "oCyi87J8XFig",
        "outputId": "b5d713bf-dc4b-4117-bfbb-e51efde97bae"
      },
      "source": [
        "cities"
      ],
      "execution_count": null,
      "outputs": [
        {
          "output_type": "execute_result",
          "data": {
            "text/plain": [
              "['서울', '부산', '대구', '대전', '광주', '울산', '인천']"
            ]
          },
          "metadata": {
            "tags": []
          },
          "execution_count": 23
        }
      ]
    },
    {
      "cell_type": "code",
      "metadata": {
        "colab": {
          "base_uri": "https://localhost:8080/"
        },
        "id": "D7bb56-pXVIi",
        "outputId": "794aa425-75d8-45a1-8e27-d8b211e002ba"
      },
      "source": [
        "tour_list = cities[1:5] # cities[1]부터 cities[4]까지 tour_list에 저장\n",
        "tour_list"
      ],
      "execution_count": null,
      "outputs": [
        {
          "output_type": "execute_result",
          "data": {
            "text/plain": [
              "['부산', '대구', '대전', '광주']"
            ]
          },
          "metadata": {
            "tags": []
          },
          "execution_count": 22
        }
      ]
    },
    {
      "cell_type": "code",
      "metadata": {
        "colab": {
          "base_uri": "https://localhost:8080/"
        },
        "id": "ecEaqKOqXqj0",
        "outputId": "df3a42ef-4fb2-406e-aa2e-c2c5d2932d1c"
      },
      "source": [
        "visited_list = cities[:4] # cities[0]부터 cities[3]까지 visited_list에 저장\n",
        "visited_list"
      ],
      "execution_count": null,
      "outputs": [
        {
          "output_type": "execute_result",
          "data": {
            "text/plain": [
              "['서울', '부산', '대구', '대전']"
            ]
          },
          "metadata": {
            "tags": []
          },
          "execution_count": 24
        }
      ]
    },
    {
      "cell_type": "code",
      "metadata": {
        "colab": {
          "base_uri": "https://localhost:8080/"
        },
        "id": "lete3UUrX0Kr",
        "outputId": "afc038c2-253c-43f3-e6c1-9c30f172dccb"
      },
      "source": [
        "to_go = cities[4:] # cities[4]부터 cities원소 끝까지 to_go에 저장\n",
        "to_go"
      ],
      "execution_count": null,
      "outputs": [
        {
          "output_type": "execute_result",
          "data": {
            "text/plain": [
              "['광주', '울산', '인천']"
            ]
          },
          "metadata": {
            "tags": []
          },
          "execution_count": 25
        }
      ]
    },
    {
      "cell_type": "code",
      "metadata": {
        "id": "eU-4JN7LYEaW"
      },
      "source": [
        "to_go = cities[-3:] # cities문자열의 뒤에서 세 번째 원소 부터 cities원소 끝번까지 to_go에 저장\n",
        "to_go"
      ],
      "execution_count": null,
      "outputs": []
    },
    {
      "cell_type": "code",
      "metadata": {
        "id": "MsKOERJjYi_x"
      },
      "source": [
        "to_go = cities[3:-2] # cities[3]부터 뒤에서 세 번째 원소까지 to_go에 출력\n",
        "to_go"
      ],
      "execution_count": null,
      "outputs": []
    },
    {
      "cell_type": "code",
      "metadata": {
        "id": "j9-jBHmEZs2l"
      },
      "source": [
        "score = [45, 74, 68, 86, 50, 70, 90, 96, 84]\n",
        "score"
      ],
      "execution_count": null,
      "outputs": []
    },
    {
      "cell_type": "code",
      "metadata": {
        "id": "9nx5E_SHZuSJ"
      },
      "source": [
        "score[3:-2] = [65, 89, 78, 54] # score[3]부터 socore[-2]앞까지(-3까지)의 원소를 기존과 교체\n",
        "score"
      ],
      "execution_count": null,
      "outputs": []
    },
    {
      "cell_type": "markdown",
      "metadata": {
        "id": "ood814ONZGUu"
      },
      "source": [
        "## 리스트 함축\n",
        "\n",
        "리스트 함축은 수학자들이 집합을 정의하는 것과 유사하다.<br>\n",
        "0부터 9까지의 자연수의 제곱의 값을 원소로 갖는 리스트를 다음과 같이 정의할 수 있다."
      ]
    },
    {
      "cell_type": "code",
      "metadata": {
        "id": "27_BRCWCZR5J"
      },
      "source": [
        "s = [x ** 2 for x in range(10)] #s라는 리스트에 x^2이 들어간다\n",
        "s"
      ],
      "execution_count": null,
      "outputs": []
    },
    {
      "cell_type": "markdown",
      "metadata": {
        "id": "2qZCN141acwV"
      },
      "source": [
        "리스트[3, 4, 5]의 모든 원소에 2를 곱한 값을 원소로 갖는 새로운 리스트를 다음과 같이 정의할 수 있다."
      ]
    },
    {
      "cell_type": "code",
      "metadata": {
        "id": "okNSriBvai8s"
      },
      "source": [
        "list1 = [3, 4, 5]\n",
        "list2 = [2 * x for x in list1] # 2*x를 한 값을 list2에 저장된다 (이때 x는 list1의 원소 값을 순서대로 갖는다)\n",
        "list2"
      ],
      "execution_count": null,
      "outputs": []
    },
    {
      "cell_type": "markdown",
      "metadata": {
        "id": "aXX-EwrRa0E5"
      },
      "source": [
        "### **조건이 붙는 리스트 함축**<br>\n",
        "1부터 20사이의 짝수를 원소로 갖는 리스트 정의"
      ]
    },
    {
      "cell_type": "code",
      "metadata": {
        "id": "67cZTj-razwK"
      },
      "source": [
        "evenNum = [x for x in range(1, 21) if x % 2 == 0] # evenNum은 1~20까지의 숫자에서 짝수라면 그 원소를 갖게된다\n",
        "evenNum"
      ],
      "execution_count": null,
      "outputs": []
    },
    {
      "cell_type": "markdown",
      "metadata": {
        "id": "2ehuTaJ8bejd"
      },
      "source": [
        "### **다양한 자료형에 대한 리스트 함축**"
      ]
    },
    {
      "cell_type": "code",
      "metadata": {
        "id": "VzjK1frQbh_9"
      },
      "source": [
        "word_list = [\"Every\", \"bad\", \"thing\", \"has\", \"its\", \"end\"]\n",
        "item = [i[0] for i in word_list] # i원소[Every]에서 맨 첫번째 원소[E]를 빼내어 item 리스트에 저장한다\n",
        "item"
      ],
      "execution_count": null,
      "outputs": []
    },
    {
      "cell_type": "code",
      "metadata": {
        "id": "iRYJbs8ucPzf"
      },
      "source": [
        "word_list = 'Every bad thing has its end.'.split() # .split() -> 공백으로 단어들을 분리 시켜 word_list에 저장한다\n",
        "word_len = [len(w) for w in word_list] # word_list안에 있는 원소들의 단어길이를 word_len에 저장한다\n",
        "word_len"
      ],
      "execution_count": null,
      "outputs": []
    },
    {
      "cell_type": "markdown",
      "metadata": {
        "id": "f9rSpy-Tct_z"
      },
      "source": [
        "## 리스트 활용"
      ]
    },
    {
      "cell_type": "code",
      "metadata": {
        "id": "Bku8HcoocvZo"
      },
      "source": [
        "# 최댓값 찾기\n",
        "score = [45, 74, 68, 86, 50, 70, 90, 96, 84]\n",
        "maxScore = score[0]\n",
        "\n",
        "for x in range(1, len(score)): # socre[1]부터 score의 원소 갯수-1 까지 x에 저장해 반복\n",
        "  if (score[x] > maxScore):\n",
        "    maxScore = score[x]\n",
        "\n",
        "maxScore"
      ],
      "execution_count": null,
      "outputs": []
    },
    {
      "cell_type": "code",
      "metadata": {
        "id": "qssV8f2Heel6"
      },
      "source": [
        "# 조건을 만족하는 항목 모두 찾기\n",
        "score = [45, 74, 68, 86, 50, 70, 90, 96, 84]\n",
        "excellent = []\n",
        "for value in score: # score원소를 처음부터 끝까지 value에 순서대로 반복하고\n",
        "  if value >= 80: # value에 80이상 값이 들어왔을 때\n",
        "    excellent.append(value) # excellent 리스트에 추가한다.\n",
        "\n",
        "excellent"
      ],
      "execution_count": null,
      "outputs": []
    },
    {
      "cell_type": "markdown",
      "metadata": {
        "id": "viYpuz9Zd2yC"
      },
      "source": [
        "filter()함수를 이용하여 조건을 만족하는 항목 모두 찾기"
      ]
    },
    {
      "cell_type": "code",
      "metadata": {
        "colab": {
          "base_uri": "https://localhost:8080/"
        },
        "id": "DqukaZCXd2eT",
        "outputId": "e3e659dc-05e7-4671-8ee8-322658f642d5"
      },
      "source": [
        "score = [36, 78, 55, 49, 68, 64, 80, 93, 88, 84]\n",
        "excellent = list(filter(lambda x : x >= 80, score)) # score안에 있는 원소 중에 80이상인 원소를 리스트로 만들어 excellent로 저장\n",
        "excellent"
      ],
      "execution_count": null,
      "outputs": [
        {
          "output_type": "execute_result",
          "data": {
            "text/plain": [
              "[<function __main__.<lambda>>, [36, 78, 55, 49, 68, 64, 80, 93, 88, 84]]"
            ]
          },
          "metadata": {
            "tags": []
          },
          "execution_count": 56
        }
      ]
    },
    {
      "cell_type": "markdown",
      "metadata": {
        "id": "ZaXDr27afELX"
      },
      "source": [
        "## 내장 순차 자료형 함수\n",
        "\n",
        "리스트에 map()함수 사용 (복습)\n",
        "map() 함수: 반복 가능한 객체를 입력 받아서,<br> 각 요소에 지정한 함수를 적용할 수 있는 함수\n",
        "\n",
        "예를 들어, 다음과 같은 리스트 a가 있다고 하자.\n",
        "a = [1, 2, 3, 4, 5]<br>\n",
        "리스트 a의 원소를 모드 2배씩 증가시킨 리스트 b를 생성하려면 어떻게 해야할까?"
      ]
    },
    {
      "cell_type": "code",
      "metadata": {
        "id": "9ju8k2UpfRqB"
      },
      "source": [
        "def times2x(x):\n",
        "  return 2*x\n",
        "\n",
        "numList = [1, 2, 3, 4, 5]\n",
        "newList = []\n",
        "for n in numList:\n",
        "  newList.append(times2x(n))\n",
        "\n",
        "newList"
      ],
      "execution_count": null,
      "outputs": []
    },
    {
      "cell_type": "markdown",
      "metadata": {
        "id": "vhuBiMGDhKnc"
      },
      "source": [
        "**map() 함수 이용**"
      ]
    },
    {
      "cell_type": "code",
      "metadata": {
        "colab": {
          "base_uri": "https://localhost:8080/"
        },
        "id": "8AxvcZJbhNbe",
        "outputId": "c1d5b820-86d0-4930-e372-97eb0ce37ae9"
      },
      "source": [
        "def times2x(x):\n",
        "  return 2*x\n",
        "\n",
        "numList = [1, 2, 3, 4, 5]\n",
        "newList = list(map(times2x, numList))\n",
        "\n",
        "newList"
      ],
      "execution_count": null,
      "outputs": [
        {
          "output_type": "execute_result",
          "data": {
            "text/plain": [
              "[2, 4, 6, 8, 10]"
            ]
          },
          "metadata": {
            "tags": []
          },
          "execution_count": 71
        }
      ]
    },
    {
      "cell_type": "code",
      "metadata": {
        "id": "BfJ3uF9siYY3"
      },
      "source": [
        "# 실수 리스트 원소를 한꺼번에 정수로 변환\n",
        "fl = [3.6, 4.3, 7.8, 9.2, 10.5, 8.7]\n",
        "il = list(map(int, fl))\n",
        "il"
      ],
      "execution_count": null,
      "outputs": []
    },
    {
      "cell_type": "code",
      "metadata": {
        "id": "5bRdVu01ilku"
      },
      "source": [
        "# 정수 리스트의 원소를 한꺼번에 문자열로 변환\n",
        "intList = [x for x in range(10)]\n",
        "strList = list(map(str, intList))\n",
        "strList"
      ],
      "execution_count": null,
      "outputs": []
    },
    {
      "cell_type": "markdown",
      "metadata": {
        "id": "Th1fOKpRi4lC"
      },
      "source": [
        "input().split()함수를 이용하여 리스트에 원소를 한꺼번에 입력하기 (복습)"
      ]
    },
    {
      "cell_type": "code",
      "metadata": {
        "id": "Yhbe1Hbai4Hi"
      },
      "source": [
        "names = input().split()\n",
        "names"
      ],
      "execution_count": null,
      "outputs": []
    },
    {
      "cell_type": "code",
      "metadata": {
        "id": "xxRYa9RjjCdx"
      },
      "source": [
        "score = input().split()\n",
        "score = list(map(int, score))\n",
        "score"
      ],
      "execution_count": null,
      "outputs": []
    },
    {
      "cell_type": "markdown",
      "metadata": {
        "id": "djBolnUDjvgT"
      },
      "source": [
        "# 파이썬의 자료구조\n",
        "\n",
        "파이썬의 기본 자료 구조: 리스트(List), 튜플(Tuple), 사전(Dictionary), 집합(set)"
      ]
    },
    {
      "cell_type": "markdown",
      "metadata": {
        "id": "6x9IYHs2j6pG"
      },
      "source": [
        "## 튜플 : 순서쌍\n",
        "\n",
        "```\n",
        "리스트처럼 요소들이 순서를 가지는 치퀀스 형태로 저장되지만, 저장된 요ㅕ소를 변경, 추가, 삭제할 수는 없는 자료형\n",
        "```"
      ]
    },
    {
      "cell_type": "markdown",
      "metadata": {
        "id": "LPWvkIWOkFHx"
      },
      "source": [
        "## 튜플의 생성\n",
        "- 쉼표로 구분된 값을 대입, 또는\n",
        "- 쉼표로 구분된 값을 관호()로 묶어서 대입\n",
        "\n",
        "(예)\n",
        "- 튜플 = 값, 값, 값\n",
        "- 튜플 = (값, 값, 값)"
      ]
    },
    {
      "cell_type": "code",
      "metadata": {
        "id": "ouzV7ScSkRh4"
      },
      "source": [
        "rectangle1 = 100, 200 # 너비 100, 높이 200인 직사각형\n",
        "rectangle1 # 순서를 갖는다. 인덱스(rectangle1)를 통하여 저장된 위치에 접근할 수 있다."
      ],
      "execution_count": null,
      "outputs": []
    },
    {
      "cell_type": "code",
      "metadata": {
        "colab": {
          "base_uri": "https://localhost:8080/"
        },
        "id": "M9ZO6O-9kVmS",
        "outputId": "109b3cd3-bc31-46d7-f3bb-ea4bf938e455"
      },
      "source": [
        "rectangle1 = (100, 200) # 너비 100, 높이 200인 직사각형\n",
        "rectangle1"
      ],
      "execution_count": null,
      "outputs": [
        {
          "output_type": "execute_result",
          "data": {
            "text/plain": [
              "(100, 200)"
            ]
          },
          "metadata": {
            "tags": []
          },
          "execution_count": 88
        }
      ]
    },
    {
      "cell_type": "code",
      "metadata": {
        "id": "uVKuflYDkech"
      },
      "source": [
        "ractangle1[0]"
      ],
      "execution_count": null,
      "outputs": []
    },
    {
      "cell_type": "code",
      "metadata": {
        "id": "BicRPyMNkvmt"
      },
      "source": [
        "ractangle1[1]"
      ],
      "execution_count": null,
      "outputs": []
    },
    {
      "cell_type": "code",
      "metadata": {
        "id": "ewIOtTVskygC"
      },
      "source": [
        "ractangle2 = (0, 0), 100, 100 # (0, 0) -> rectangle[0], 100 -> rectangle[1], 100 ->rectangle[2]\n",
        "ractangle2 # 3개의 원소를 갖는다"
      ],
      "execution_count": null,
      "outputs": []
    },
    {
      "cell_type": "code",
      "metadata": {
        "id": "uzh9An-MlN7C"
      },
      "source": [
        "ractangle3 = (100, 100), (200, 300) #2개의 원소를 갖는다 200 -> ractangle[1][0] - >200\n",
        "ractangle3"
      ],
      "execution_count": null,
      "outputs": []
    },
    {
      "cell_type": "code",
      "metadata": {
        "id": "OiXnEG4wlWua"
      },
      "source": [
        "ract_pos = (100, 100), 200, 100 # (100, 100)의 위치에서 너비 200, 높이 100인 직사각형\n",
        "ract_pos"
      ],
      "execution_count": null,
      "outputs": []
    },
    {
      "cell_type": "code",
      "metadata": {
        "id": "FcvrA2J5lTXK"
      },
      "source": [
        "ract_pos[1] # 200"
      ],
      "execution_count": null,
      "outputs": []
    },
    {
      "cell_type": "code",
      "metadata": {
        "id": "pLZoBLeMlU7Z"
      },
      "source": [
        "circle = (200, 200), 100 #중심이 200, 200에 위치하며 반지름의 길이가 100인 원\n",
        "circle\n",
        "circle[0][0] # 200"
      ],
      "execution_count": null,
      "outputs": []
    },
    {
      "cell_type": "markdown",
      "metadata": {
        "id": "i8TklILfmC2D"
      },
      "source": [
        "range를 이용하여 튜플 만들기"
      ]
    },
    {
      "cell_type": "code",
      "metadata": {
        "id": "yW4yvN8ImAfI"
      },
      "source": [
        "num = tuple(range(10))\n",
        "num"
      ],
      "execution_count": null,
      "outputs": []
    },
    {
      "cell_type": "markdown",
      "metadata": {
        "id": "68lr2Dd7mKhI"
      },
      "source": [
        "리스트를 튜플로, 튜플을 리스트로 만들기"
      ]
    },
    {
      "cell_type": "code",
      "metadata": {
        "colab": {
          "base_uri": "https://localhost:8080/"
        },
        "id": "gOLL3SrzmN79",
        "outputId": "c89f9b34-2294-45cb-daa9-3b3fe94f19f5"
      },
      "source": [
        "numList = [x for x in range(10)]\n",
        "numList"
      ],
      "execution_count": null,
      "outputs": [
        {
          "output_type": "execute_result",
          "data": {
            "text/plain": [
              "[0, 1, 2, 3, 4, 5, 6, 7, 8, 9]"
            ]
          },
          "metadata": {
            "tags": []
          },
          "execution_count": 109
        }
      ]
    },
    {
      "cell_type": "code",
      "metadata": {
        "colab": {
          "base_uri": "https://localhost:8080/"
        },
        "id": "gt7pGiPimfiJ",
        "outputId": "d49b010d-9fb9-4e3f-886a-b0891f9a0339"
      },
      "source": [
        "numTuple = tuple(numList)\n",
        "numTuple"
      ],
      "execution_count": null,
      "outputs": [
        {
          "output_type": "execute_result",
          "data": {
            "text/plain": [
              "(0, 1, 2, 3, 4, 5, 6, 7, 8, 9)"
            ]
          },
          "metadata": {
            "tags": []
          },
          "execution_count": 110
        }
      ]
    },
    {
      "cell_type": "code",
      "metadata": {
        "id": "Y0pe4eXymjB-"
      },
      "source": [
        "numNumList = list(numTuple)\n",
        "numNumList"
      ],
      "execution_count": null,
      "outputs": []
    },
    {
      "cell_type": "markdown",
      "metadata": {
        "id": "Ftaj7xAQmp2Q"
      },
      "source": [
        "튜플도 리스트처럼 여러 자료형을 섞어서 저장해도 된다."
      ]
    },
    {
      "cell_type": "code",
      "metadata": {
        "id": "AOf4K9SPmuRY"
      },
      "source": [
        "student = ('20210000', '홍길동', 20, 4, 3)\n",
        "student"
      ],
      "execution_count": null,
      "outputs": []
    },
    {
      "cell_type": "markdown",
      "metadata": {
        "id": "8ftpZ3zjm1UR"
      },
      "source": [
        "**튜플의 원소의 값을 변경할 수 없다**"
      ]
    },
    {
      "cell_type": "code",
      "metadata": {
        "id": "PYyJhkSzm1Gc"
      },
      "source": [
        "student[2] = 21"
      ],
      "execution_count": null,
      "outputs": []
    },
    {
      "cell_type": "markdown",
      "metadata": {
        "id": "sXd3LTI5nR_B"
      },
      "source": [
        "**중첩된 튜플**"
      ]
    },
    {
      "cell_type": "code",
      "metadata": {
        "id": "1tY10qFYnUum"
      },
      "source": [
        "ract_pos = (100, 100), 200, 100 # 100, 100의 위치에서 너비 200, 높이 100인 직사각형\n",
        "pos = ract_pos[0]\n",
        "width = ract_pos[1]\n",
        "height = ract_pos[2]\n",
        "print(\"하각형의 시작좌표\", pos)\n",
        "print(\"너비 =\", width)\n",
        "print(\"높이 =\", height)"
      ],
      "execution_count": null,
      "outputs": []
    },
    {
      "cell_type": "code",
      "metadata": {
        "id": "o3K2PxLtoAD3"
      },
      "source": [
        "circle = (200, 200), 100 # 중심이 200, 200에 위치하며 반지름의 길이가 100인 원\n",
        "center_x = circle[0][0]\n",
        "center_y = circle[0][1]\n",
        "radius = circle[1]\n",
        "print(\"중심 좌표_x:\", center_x)\n",
        "print(\"중심 좌표_y:\", center_y)\n",
        "print(\"반지름 길이:\", radius)"
      ],
      "execution_count": null,
      "outputs": []
    },
    {
      "cell_type": "markdown",
      "metadata": {
        "id": "VQwu5L8UoW7P"
      },
      "source": [
        "**튜플에서 값 분리하기**"
      ]
    },
    {
      "cell_type": "code",
      "metadata": {
        "id": "dSI178HeoY1Y"
      },
      "source": [
        "ract_pos = (100, 100), 200, 100\n",
        "pos, width, height = ract_pos #pos, width, height에 ract_pos의 원소들을 순서대로 끌고와 각각 저장한다\n",
        "print(\"시작좌표 =\", pos,\"너비 =\", width, \"높이 =\", height)"
      ],
      "execution_count": null,
      "outputs": []
    },
    {
      "cell_type": "code",
      "metadata": {
        "id": "z4gpbmSJo0Tv"
      },
      "source": [
        "circle = (200, 200), 100\n",
        "center, radius = circle\n",
        "print(\"중심 좌표:\", center, \"반지름 길이:\", radius)"
      ],
      "execution_count": null,
      "outputs": []
    },
    {
      "cell_type": "markdown",
      "metadata": {
        "id": "5nORip65o985"
      },
      "source": [
        "**두 변수의 값 교환**"
      ]
    },
    {
      "cell_type": "code",
      "metadata": {
        "id": "jeI0OSxTpBIV"
      },
      "source": [
        "a, b = 10, 20"
      ],
      "execution_count": null,
      "outputs": []
    },
    {
      "cell_type": "code",
      "metadata": {
        "id": "uyPQNr5rpCwU"
      },
      "source": [
        "a"
      ],
      "execution_count": null,
      "outputs": []
    },
    {
      "cell_type": "code",
      "metadata": {
        "id": "qxRVYKHJpFBX"
      },
      "source": [
        "b"
      ],
      "execution_count": null,
      "outputs": []
    },
    {
      "cell_type": "code",
      "metadata": {
        "id": "_DaDu-gOpSz6"
      },
      "source": [
        "b, a = a, b # b 에는 a값을 a 에는 b의 값을 넣어 저장한다"
      ],
      "execution_count": null,
      "outputs": []
    },
    {
      "cell_type": "code",
      "metadata": {
        "id": "98VvidolpVu_"
      },
      "source": [
        "a"
      ],
      "execution_count": null,
      "outputs": []
    },
    {
      "cell_type": "code",
      "metadata": {
        "id": "qjRMfydipV7q"
      },
      "source": [
        "b"
      ],
      "execution_count": null,
      "outputs": []
    },
    {
      "cell_type": "markdown",
      "metadata": {
        "id": "9Zp6MnmEi0tP"
      },
      "source": [
        "# 3. 사전(disctionary)\n",
        "\n",
        "사전\n",
        "- 키(Key)와 값(value)의 쌍으로 구성된 순서가 없는(인덱스로 접근할 수 없는) 자료구조\n",
        "  - *순서가 없기* 때문에 *인덱스로는 접근 할 수 없으며* 반드시 키를 이용하여 접근해야한다\n",
        "  - 값은 중복될 수 있지만 키는 중복될 수 없다. 키가 중복되면 마지막 값으로 덮어쓰기가 된다\n",
        "- 키를 이용하여 값을 신속하게 찾아내는 헤시테이블(Hash Table)구조\n",
        "- **pandas의 Dataframe을 생성할 때 Dictionary 구조의 key-value를 통하여 데이터 입력**"
      ]
    },
    {
      "cell_type": "markdown",
      "metadata": {
        "id": "CxcciKaNqmlU"
      },
      "source": [
        "###사전 선언하기\n",
        "\n",
        "중괄호{}를 이용하여 사전을 선언한다"
      ]
    },
    {
      "cell_type": "code",
      "metadata": {
        "id": "BwxG9CAwqGKC"
      },
      "source": [
        "# 사전 구조의 학생 성적 입력 (키: 번호)\n",
        "score1 = {1:88, 2:96, 3:73, 4:68, 5:72, 6:80}\n",
        "score1\n"
      ],
      "execution_count": null,
      "outputs": []
    },
    {
      "cell_type": "code",
      "metadata": {
        "id": "1j_beTWnq-7X"
      },
      "source": [
        "# 사전 구조의 학생 성적 입력 (키: 이름)\n",
        "score2 = {\"강은미\":88, \"김영민\":96, \"도민준\":73, \"박현우\":68, \"이기쁨\":72, \"하지은\":80}\n",
        "score2"
      ],
      "execution_count": null,
      "outputs": []
    },
    {
      "cell_type": "code",
      "metadata": {
        "colab": {
          "base_uri": "https://localhost:8080/"
        },
        "id": "IKpTwtHZrBr9",
        "outputId": "483cd3a5-25d0-4643-c043-0eaeb4f09b70"
      },
      "source": [
        "# dict() 함수를 이용한 사전 선언\n",
        "score3 = dict(강은미=88, 김영민=96, 도민준=73, 박현우=68, 이기쁨=72, 하지은=80)\n",
        "score3"
      ],
      "execution_count": null,
      "outputs": [
        {
          "output_type": "execute_result",
          "data": {
            "text/plain": [
              "{'강은미': 88, '김영민': 96, '도민준': 73, '박현우': 68, '이기쁨': 72, '하지은': 80}"
            ]
          },
          "metadata": {
            "tags": []
          },
          "execution_count": 149
        }
      ]
    },
    {
      "cell_type": "code",
      "metadata": {
        "id": "fAvX2cASr6HM"
      },
      "source": [
        "circle = {\"center\":(10, 10), \"radius\":5}\n",
        "circle"
      ],
      "execution_count": null,
      "outputs": []
    },
    {
      "cell_type": "markdown",
      "metadata": {
        "id": "LKKqWJyXsAOw"
      },
      "source": [
        "**사전의 원소에 접근**\n",
        "키를 이용하여 접근한다. 순서가 없기 때문에 *인덱스로는 접근할 수 없다.*"
      ]
    },
    {
      "cell_type": "code",
      "metadata": {
        "id": "RREkHE4csIUt"
      },
      "source": [
        "# 박현우의 성적을 알고 싶은데 score2 사전의 3번 인덱스로 접근하면 될까?\n",
        "score2[3]"
      ],
      "execution_count": null,
      "outputs": []
    },
    {
      "cell_type": "code",
      "metadata": {
        "id": "RqYtwDp8slxo"
      },
      "source": [
        "score2[\"박현우\"]"
      ],
      "execution_count": null,
      "outputs": []
    },
    {
      "cell_type": "code",
      "metadata": {
        "id": "qOMy0M7lspus"
      },
      "source": [
        "# 그런데 이건 왜 될까\n",
        "score1[3] #[3]은 인덱스가 아니라 키(key)다."
      ],
      "execution_count": null,
      "outputs": []
    },
    {
      "cell_type": "markdown",
      "metadata": {
        "id": "2Z7nyLyis0Cp"
      },
      "source": [
        "## **사전의 원소 값(value) 변경** \n",
        "\n",
        "- Key를 통하영 접근 후 값을 할당\n",
        "- 튜플과 사전의 차이\n",
        "  - 튜플 : 순서 o, 인덱스로 접근 o, 값의 변경 x\n",
        "  - 사전 : 순서 x, 인덱스로 접근 x, 값의 변경 o"
      ]
    },
    {
      "cell_type": "code",
      "metadata": {
        "id": "Ephwz8G-s2Cc"
      },
      "source": [
        "score1[3] = 75\n",
        "score2['이기쁨'] = 78\n",
        "\n",
        "print(score1)\n",
        "print(score2)"
      ],
      "execution_count": null,
      "outputs": []
    },
    {
      "cell_type": "markdown",
      "metadata": {
        "id": "hpZimzORuWng"
      },
      "source": [
        "**update() 함수를 이용한 원소의 변경**"
      ]
    },
    {
      "cell_type": "code",
      "metadata": {
        "id": "S7HtJzXyujyM"
      },
      "source": [
        "#키가 문자일 때 update(키 = 값)\n",
        "score2.update(도민준=90)\n",
        "score2"
      ],
      "execution_count": null,
      "outputs": []
    },
    {
      "cell_type": "code",
      "metadata": {
        "id": "MjG8bTteurdI"
      },
      "source": [
        "# 사전의 여러 원소를 한꺼번에 변경\n",
        "score2.updtae(강은미=89, 하지은=83)\n",
        "score2"
      ],
      "execution_count": null,
      "outputs": []
    },
    {
      "cell_type": "code",
      "metadata": {
        "id": "a89hurV3u8xU"
      },
      "source": [
        "#키가 숫자일 때 update(키: 값)\n",
        "score1.update({2:100})\n",
        "score1"
      ],
      "execution_count": null,
      "outputs": []
    },
    {
      "cell_type": "markdown",
      "metadata": {
        "id": "xYTcoIIavA8z"
      },
      "source": [
        "## 사전에서 키-값 쌍의 삭제\n",
        "pop(), del[]\n",
        "\n",
        "**pop() 함수: 사전에서 특정 키-값 쌍을 삭제한 뒤 삭제할 값을 반환한다**"
      ]
    },
    {
      "cell_type": "code",
      "metadata": {
        "id": "2kf2n0bOvKsU"
      },
      "source": [
        "score3.pop(\"박현우\")"
      ],
      "execution_count": null,
      "outputs": []
    },
    {
      "cell_type": "code",
      "metadata": {
        "id": "sDnDi4w_vS9g"
      },
      "source": [
        "score3"
      ],
      "execution_count": null,
      "outputs": []
    },
    {
      "cell_type": "code",
      "metadata": {
        "id": "ye1GdL44vr1X"
      },
      "source": [
        "score3[\"강은미\"] = 100\n",
        "score3"
      ],
      "execution_count": null,
      "outputs": []
    },
    {
      "cell_type": "markdown",
      "metadata": {
        "id": "meHtgCL3vT9v"
      },
      "source": [
        "**dell[]**"
      ]
    },
    {
      "cell_type": "code",
      "metadata": {
        "id": "vkzZpBeevVP_"
      },
      "source": [
        "del score3['강은미']"
      ],
      "execution_count": null,
      "outputs": []
    },
    {
      "cell_type": "code",
      "metadata": {
        "id": "67WdH5AxvaFy"
      },
      "source": [
        "score3"
      ],
      "execution_count": null,
      "outputs": []
    },
    {
      "cell_type": "markdown",
      "metadata": {
        "id": "4z1M_z0xwBFD"
      },
      "source": [
        "## **사전의 모든 키-값 쌍 모두 삭제하기**\n",
        "clear()함수 이용\n",
        "\n",
        "> 들여쓴 블록\n",
        "\n"
      ]
    },
    {
      "cell_type": "code",
      "metadata": {
        "id": "pfQ2gxILwFyt"
      },
      "source": [
        "score3.clear()\n",
        "score3"
      ],
      "execution_count": null,
      "outputs": []
    },
    {
      "cell_type": "markdown",
      "metadata": {
        "id": "H6eJ4TPfwLa9"
      },
      "source": [
        "## 집합(Set)\n",
        "\n",
        "중복되지 않은 원소드르이 모임, 중괄호{}로 표현\n",
        "세트 안의 원소들은 순서가 없기 떄문에 인덱스르 가지고 세트의 원소에 접근할 수 없다."
      ]
    },
    {
      "cell_type": "code",
      "metadata": {
        "id": "ZrEGPx4WwUA8"
      },
      "source": [
        "numbers = {5, 2, 3, 5, 6, 8}\n",
        "numbers"
      ],
      "execution_count": null,
      "outputs": []
    },
    {
      "cell_type": "code",
      "metadata": {
        "colab": {
          "base_uri": "https://localhost:8080/",
          "height": 195
        },
        "id": "u6K5cPw5wdn8",
        "outputId": "e9788300-1a5f-4336-b2ef-215131aac8dd"
      },
      "source": [
        "num = numbers[2] # set 함수는 인덱스를 통해서 접근을 할 수 없다 -> 순서가 없기 때문에\n",
        "num"
      ],
      "execution_count": null,
      "outputs": [
        {
          "output_type": "error",
          "ename": "TypeError",
          "evalue": "ignored",
          "traceback": [
            "\u001b[0;31m---------------------------------------------------------------------------\u001b[0m",
            "\u001b[0;31mTypeError\u001b[0m                                 Traceback (most recent call last)",
            "\u001b[0;32m<ipython-input-166-ec6cc96fdd2f>\u001b[0m in \u001b[0;36m<module>\u001b[0;34m()\u001b[0m\n\u001b[0;32m----> 1\u001b[0;31m \u001b[0mnum\u001b[0m \u001b[0;34m=\u001b[0m \u001b[0mnumbers\u001b[0m\u001b[0;34m[\u001b[0m\u001b[0;36m2\u001b[0m\u001b[0;34m]\u001b[0m\u001b[0;34m\u001b[0m\u001b[0;34m\u001b[0m\u001b[0m\n\u001b[0m\u001b[1;32m      2\u001b[0m \u001b[0mnum\u001b[0m\u001b[0;34m\u001b[0m\u001b[0;34m\u001b[0m\u001b[0m\n",
            "\u001b[0;31mTypeError\u001b[0m: 'set' object is not subscriptable"
          ]
        }
      ]
    },
    {
      "cell_type": "code",
      "metadata": {
        "id": "6unFWIfDwpAI"
      },
      "source": [
        "# 집합의 원소 추가\n",
        "numbers.add(7)\n",
        "numbers"
      ],
      "execution_count": null,
      "outputs": []
    },
    {
      "cell_type": "code",
      "metadata": {
        "id": "CWK9QlCpwssJ"
      },
      "source": [
        "# 집합의 원소 삭제\n",
        "numbers.discard(6)\n",
        "numbers"
      ],
      "execution_count": null,
      "outputs": []
    },
    {
      "cell_type": "code",
      "metadata": {
        "id": "DismFKzEwxrX"
      },
      "source": [
        "# 집합을 공집합으로 만들기\n",
        "numbers.clear()\n",
        "numbers"
      ],
      "execution_count": null,
      "outputs": []
    },
    {
      "cell_type": "code",
      "metadata": {
        "id": "_7w0byuUw3Wd"
      },
      "source": [
        "len(numbers)"
      ],
      "execution_count": null,
      "outputs": []
    },
    {
      "cell_type": "markdown",
      "metadata": {
        "id": "QkjAp0tyw5MY"
      },
      "source": [
        "## 집합의 연산: 합집합, 교집합, 차집합 등"
      ]
    },
    {
      "cell_type": "code",
      "metadata": {
        "id": "IJQ-HHVRw8R4"
      },
      "source": [
        "a = {5, 7, 3, 8, 9, 1}\n",
        "b = {8, 4, 2, 3, 5, 6}\n",
        "\n",
        "a | b # 합집합"
      ],
      "execution_count": null,
      "outputs": []
    },
    {
      "cell_type": "code",
      "metadata": {
        "id": "3VV0LNgVxEng"
      },
      "source": [
        "a.union(b) # a 합집합 b"
      ],
      "execution_count": null,
      "outputs": []
    },
    {
      "cell_type": "code",
      "metadata": {
        "id": "APVl2Mn8xGxw"
      },
      "source": [
        "b.union(a) # b 합집합 a"
      ],
      "execution_count": null,
      "outputs": []
    },
    {
      "cell_type": "code",
      "metadata": {
        "id": "Q7lAGEfUxMMj"
      },
      "source": [
        "a & b # 교집합"
      ],
      "execution_count": null,
      "outputs": []
    },
    {
      "cell_type": "code",
      "metadata": {
        "id": "ss8-oIGIxhN8"
      },
      "source": [
        "a.intersection(b) # a 교집합 b"
      ],
      "execution_count": null,
      "outputs": []
    },
    {
      "cell_type": "code",
      "metadata": {
        "id": "lt_hW1IHxkOr"
      },
      "source": [
        "b.intersection(a) # b 교집합 a"
      ],
      "execution_count": null,
      "outputs": []
    },
    {
      "cell_type": "code",
      "metadata": {
        "id": "cM1vWlvyxnca"
      },
      "source": [
        "a - b # a에는 들어가지만 b에는 안들어가는 것(차집합)"
      ],
      "execution_count": null,
      "outputs": []
    },
    {
      "cell_type": "code",
      "metadata": {
        "id": "vrSXJQ2PyAaM"
      },
      "source": [
        "b - a # b에는 들어가지만 a에는 안들어가는 것"
      ],
      "execution_count": null,
      "outputs": []
    }
  ]
}