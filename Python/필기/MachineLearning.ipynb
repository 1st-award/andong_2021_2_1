{
 "nbformat": 4,
 "nbformat_minor": 0,
 "metadata": {
  "colab": {
   "name": "MachineLearning.ipynb",
   "provenance": [],
   "collapsed_sections": [],
   "toc_visible": true,
   "authorship_tag": "ABX9TyMTZ7X2aCZgb/0VS2nybJio",
   "include_colab_link": true
  },
  "kernelspec": {
   "name": "python3",
   "display_name": "Python 3"
  },
  "language_info": {
   "name": "python"
  }
 },
 "cells": [
  {
   "cell_type": "markdown",
   "metadata": {
    "id": "view-in-github",
    "colab_type": "text"
   },
   "source": [
    "<a href=\"https://colab.research.google.com/github/1st-award/andong_2021_2_1/blob/main/Python/%ED%95%84%EA%B8%B0%20%EC%82%AC%EB%B3%B8/MachineLearning.ipynb\" target=\"_parent\"><img src=\"https://colab.research.google.com/assets/colab-badge.svg\" alt=\"Open In Colab\"/></a>"
   ]
  },
  {
   "cell_type": "markdown",
   "metadata": {
    "id": "ToJnEDFcauVr"
   },
   "source": [
    "# 머신러닝(Machine learning)\n",
    "\n",
    "- **머신러닝(Machine learning)**: 기계가 일일이 코드로 명시하지 않은 동작을 데이터로부터 학습하여 실행할 수 있도록 하는 알고리즘을 개발\n",
    "- **기계 학습에서의 일반화**: 훈련 이후 새롭게 들어온 데이터를 정확히 처리할 수 있는 능력"
   ]
  },
  {
   "cell_type": "markdown",
   "metadata": {
    "id": "pHdR1OYba2FL"
   },
   "source": [
    "## 머신러닝 알고리즘의 종류\n",
    "\n"
   ]
  },
  {
   "cell_type": "markdown",
   "metadata": {
    "id": "hKLYAO3bhX_8"
   },
   "source": [
    "### 지도학습(Supervised Learning)\n",
    "\n",
    "**정답을 알려주며 학습시키는 것**<br>\n",
    "input data의 정답 label을 함께 제공하며 기계를 학습시킴\n",
    "- 고양이 사진(input data)제시 - 고양이라는 정답 레이블도 함께 제공\n",
    "- 강아지 사진(input data)제시 - 강아지라는 정답 레이블도 함께 제공\n",
    "\n",
    "**지도학습의 대표적 종류**\n",
    "- SVM(Support Vector Machine)\n",
    "- 결정트리(DecisionTreeClassifier)\n",
    "- K-근접 이웃(K-Nearest Neighbor, KNN)\n",
    "- 로지스틱 회귀(LogisticRegression)\n",
    "- RandomForestClassifier"
   ]
  },
  {
   "cell_type": "markdown",
   "metadata": {
    "id": "9qGwyGkChcsb"
   },
   "source": [
    "### 비지도학습(Non-supervised Learning)\n",
    "\n",
    "**정답을 따로 알려주지 않고 비슷한 데이터들을 군집화 하는 것**<br>\n",
    "(예) 사람, 닭, 강아지, 기린 사진을 이용하여 비지도학습 실시\n",
    "- 다리가 2개이며 세로로 길쭉한 사람을 한 그룹으로 분류\n",
    "- 얇고 짧은 다리가 2개이며 몸통이 동그랗고 머리가 작은 닭을 한 그룹으로 분류\n",
    "- 다리가 4개인 강아지를 한 그룹으로 분류\n",
    "- 다리가 4개이며 목이 긴 기린을 또 다른 그룹으로 분류"
   ]
  },
  {
   "cell_type": "markdown",
   "metadata": {
    "id": "tEMFp9GPhe8I"
   },
   "source": [
    "### 강화학습(Reinforcement Learning)\n",
    "\n",
    "**상과 벌이라는 보상(reward)을 주며 상을 최대화하고 벌을 최소화 하도록 강화 학습하는 방식**<br>\n",
    "정확한 정답은 없지만, 반복적인 행동들을 통하여 칭찬과 벌을 받음으로써 보상의 가중치를 최대화 하는 것이 목표"
   ]
  },
  {
   "cell_type": "markdown",
   "metadata": {
    "id": "pAH_z6LbhiIh"
   },
   "source": [
    "## 머신러닝으로 할 수 있는 일\n",
    "- 이미지 분류(MRI검사, 사진, 위성 이미지)\n",
    "- 대량의 텍스트 문서나 이메일에서 키워드 찾기\n",
    "- 사기일 가능성이 높은 거래 행위 긴고\n",
    "- 고객 행동을 기준으로 제품 추천 맞춤설정\n",
    "- 음성 명령에 정확하게 반응하는 소프트웨어 개발\n",
    "- 날씨 패턴 또는 다른 기후 조건 예측\n",
    "- 언어를 텍스트 또는 음성으로 변환"
   ]
  },
  {
   "cell_type": "markdown",
   "metadata": {
    "id": "X78GxrKJhCTc"
   },
   "source": [
    "## 머신러닝을 이용한 불꽃 품종 분류"
   ]
  },
  {
   "cell_type": "markdown",
   "metadata": {
    "id": "fx7C2wbuhoL7"
   },
   "source": [
    "### 데이터 셋 가져오기"
   ]
  },
  {
   "cell_type": "markdown",
   "metadata": {
    "id": "m1mkaLqBhqnr"
   },
   "source": [
    "#### 사이킷런(Scikit-learn)라이브러리\n",
    "\n",
    "- 파이썬의 대표적인 머신러닝 라이브러리 중 하나\n",
    "- 분류(classification), 회귀(regression), 군집화(clustering), 의사결정트리(decision tree)등의 머신러닝 알고리즘을 적용할 수 있는 함수 제공\n",
    "- 빌트 인 데이터 셋 제공\n",
    "\n",
    "  - 붓꽃(Iris) 데이터 셋: sklearn.datasets.loads_iris\n",
    "  - 손으로 쓴 숫자(0~9) 이미지 데이터 셋: sklearn.datasets.load_digits\n",
    "  - 당뇨병 진행도 데이터 셋: sklearn.datasets.loads_breast_cancer\n",
    "  - 보스턴 집값 데이터 셋: sklearn.datasets.load_boston\n",
    "  - 와인 데이터 셋: sklearn.datasets.load_wine"
   ]
  },
  {
   "cell_type": "markdown",
   "metadata": {
    "id": "7zTD9rZvioSK"
   },
   "source": [
    "### 붓꽃 데이터 셋 가져오기"
   ]
  },
  {
   "cell_type": "code",
   "metadata": {
    "id": "xiPzr2Cbaseg"
   },
   "source": [
    "import numpy as np\n",
    "import pandas as pd\n",
    "from sklearn.datasets import load_iris\n",
    "\n",
    "iris_dataset = load_iris() # 붓꽃 데이터 읽어오기\n",
    "iris_dataset.keys()"
   ],
   "execution_count": null,
   "outputs": []
  },
  {
   "cell_type": "markdown",
   "metadata": {
    "id": "GwdwwtDtjCHF"
   },
   "source": [
    "### 붓꽃 품종 확인"
   ]
  },
  {
   "cell_type": "code",
   "metadata": {
    "id": "k9J43oexjNzm"
   },
   "source": [
    "iris_dataset['target_names']"
   ],
   "execution_count": null,
   "outputs": []
  },
  {
   "cell_type": "markdown",
   "metadata": {
    "id": "cPNQlrHVjPP3"
   },
   "source": [
    "### 각 품종을 분류하는 특성 확인"
   ]
  },
  {
   "cell_type": "code",
   "metadata": {
    "id": "-XV-tBaOjRSb"
   },
   "source": [
    "iris_dataset['feature_names']"
   ],
   "execution_count": null,
   "outputs": []
  },
  {
   "cell_type": "markdown",
   "metadata": {
    "id": "eQntKfNxjcIh"
   },
   "source": [
    "### 데이터 셋에 대한 간략한 설명 확인"
   ]
  },
  {
   "cell_type": "code",
   "metadata": {
    "id": "LboLuaa-jftY"
   },
   "source": [
    "print(iris_dataset['DESCR'][:193] + '\\n')"
   ],
   "execution_count": null,
   "outputs": []
  },
  {
   "cell_type": "markdown",
   "metadata": {
    "id": "5kjbNyxElapN"
   },
   "source": [
    "### 데이터 확인하기"
   ]
  },
  {
   "cell_type": "markdown",
   "metadata": {
    "id": "7B017B-elcL_"
   },
   "source": [
    "**data**: 꽃잎의 길이와 폭, 꽃받침의 길이와 폭을 수치로 가지고 있는 numpy 배열"
   ]
  },
  {
   "cell_type": "code",
   "metadata": {
    "id": "UyGXRPlZlhzR"
   },
   "source": [
    "# 데이터의 타입과 크기(모양) 확인\n",
    "print('Type of data : {}'.format(iris_dataset['data'].dtype))\n",
    "print('Size of data : {}'.format(iris_dataset['data'].shape))"
   ],
   "execution_count": null,
   "outputs": []
  },
  {
   "cell_type": "markdown",
   "metadata": {
    "id": "OU8Isx_kl7Ta"
   },
   "source": [
    "**target**: 샘플 붓꽃의 품종 이름을 가지고 있는 numpy 배열"
   ]
  },
  {
   "cell_type": "code",
   "metadata": {
    "id": "UZh2NmlWmBKu"
   },
   "source": [
    "print('Type of target : {}'.format(iris_dataset['target'].dtype))\n",
    "print('Size of target : {}'.format(iris_dataset['target'].shape))"
   ],
   "execution_count": null,
   "outputs": []
  },
  {
   "cell_type": "markdown",
   "metadata": {
    "id": "jEUP3lDWmU7x"
   },
   "source": [
    "## 붓꽃 품종 분류를 위한 학습과 테스트"
   ]
  },
  {
   "cell_type": "markdown",
   "metadata": {
    "id": "sj1AO-57mXYZ"
   },
   "source": [
    "### 훈련 데이터와 테스트 데이터 나누기\n",
    "\n",
    "- 150개의 붓꽃 데이터를 훈련 데이터(75%)와 테스트 데이터(25%)로 나눈다.\n",
    "- 2차원 배열 형태인 data를 X, 1차원 배열 형태인 target을 y로 표현한다. y = f(X)\n",
    "- 옵션 test_size: 기본값: 0.25, 예: test_size=0.3\n",
    "- 옵션 random_state: 정수를 입력하면 숫자를 random하게 생성할 떄 사용되는 seed 숫자로 사용\n",
    "- 옵션 shuffle: bool값, 데이터를 분리하기 전에 섞을 것인지를 지정, 기본값은 True\n",
    "\n",
    "**train_test_split(arrays, test_size, train_size, random_state, shuffle, stratify)**\n",
    "(1) Parameter\n",
    "\n",
    "- arrays: 분할시킬 데이터를 입력(Python list, Numpy array, Pandas dataframe 등..)\n",
    "- test_size: 테스트 데이터셋의 비율(float)이나 갯수(int) (default = 0.25)\n",
    "- train_size: 학습 데이터의 비율(float)이나 갯수(int)(default = test_size의 나머지)\n",
    "- random_state: 데이터 분할시 셔플이 이루어지는데 이를 위한 시드값(int나 RandomState로 입력)\n",
    "- shuffle: 셔플여부설정(default=True)\n",
    "- stratify: 지정한 Data의 비율을 유지한다. 예를 들어, Label Set인 Y가 25%, 75%로 유지한 채 분할된다."
   ]
  },
  {
   "cell_type": "code",
   "metadata": {
    "id": "6jMj54jioM9H"
   },
   "source": [
    "from sklearn.model_selection import train_test_split\n",
    "X_train, X_test, y_train, y_test = train_test_split(iris_dataset['data'], iris_dataset['target'], test_size = 0.2, random_state=0)\n",
    "\n",
    "print(\"X_train의 크기와 모양: {}\".format(X_train.shape))\n",
    "print(\"y_train의 크기와 모양: {}\".format(y_train.shape))\n",
    "print(\"X_test의 크기와 모양: {}\".format(X_test.shape))\n",
    "print(\"y_test의 크기와 모양: {}\".format(y_test.shape))\n",
    "# 75와 25로 나눠질 것이다"
   ],
   "execution_count": null,
   "outputs": []
  },
  {
   "cell_type": "markdown",
   "metadata": {
    "id": "Y6FUkdizpmdt"
   },
   "source": [
    "### 데이터의 이상 유무 살펴보기\n",
    "\n",
    "- 머신러닝이 없어도 풀 수 있는 문제는 아닌지\n",
    "- 필요한 정보가 누락되지 않았는지\n",
    "- 비정상적인 값이나 특이값은 없는지"
   ]
  },
  {
   "cell_type": "code",
   "metadata": {
    "id": "9Bv_SKSTpzRP"
   },
   "source": [
    "import matplotlib.pyplot as plt\n",
    "import seaborn as sb"
   ],
   "execution_count": null,
   "outputs": []
  },
  {
   "cell_type": "markdown",
   "metadata": {
    "id": "_E6y4tIyp3PA"
   },
   "source": [
    "### X_train 데이터를 사용하여 데이터프레임 만들기"
   ]
  },
  {
   "cell_type": "code",
   "metadata": {
    "id": "PSZgAdeepzOy"
   },
   "source": [
    "# 칼럼의 이름: iris_}dataset, feature_names에 있는 문자열을 이용\n",
    "dfIris = pd.DataFrame(X_train, columns=iris_dataset.feature_names)\n",
    "dfIris['kind'] = y_train\n",
    "dfIris"
   ],
   "execution_count": null,
   "outputs": []
  },
  {
   "cell_type": "code",
   "metadata": {
    "id": "Bzol02NIq2oa"
   },
   "source": [
    "sb.pairplot(dfIris, vars=['sepal length (cm)', 'sepal width (cm)', 'petal length (cm)', 'petal width (cm)'],\n",
    "            hue = 'kind', markers=[\"o\", \"s\", \"D\"], palette=\"Set2\", height=3)\n",
    "plt.show()"
   ],
   "execution_count": null,
   "outputs": []
  },
  {
   "cell_type": "markdown",
   "metadata": {
    "id": "qIlQQfQor4Pq"
   },
   "source": [
    "### KNN(K-근접 이웃) 알고리즘\n",
    "\n",
    "- 유유상종(類類相從): 무리 유(類), 무리 유(類), 서로 상(相), 좇을 종(從)\n",
    "- 거리(유클리디안 거리)기반 분류 분석 모델로 지도 학습(Supervised Learning)의 한 종류\n",
    "- 새로운 데이터가 등장하면 거리가 가까운 k개의 다른 데이터의 레이블을 확인하여, 가장 많은 레이블과 같은 종류로 해당 데이터의 종류를 분류\n",
    "- 영상에서 글자 인식, 얼굴 인식, 개인별 선호 예측, 상품 추천, 유전데이터의 패턴 인식, 암 진단 등 많은 분야에 응용\n",
    "\n",
    "k는 훈련데이터에서 새로운 데이터 포인트에 가장 가까운 'k'개의 이웃을 찾는다는 의미이며 동점 발생을 피하기 위하여 주로 홀수로 저장한다."
   ]
  },
  {
   "cell_type": "code",
   "metadata": {
    "id": "YIbDu7L1t5e7"
   },
   "source": [
    "from sklearn.neighbors import KNeighborsClassifier as knc\n",
    "model = knc(n_neighbors = 3)\n",
    "model.fit(X_train, y_train)\n",
    "knc(algorithm = 'auto', leaf_size=30, metric='minkowski', metric_params=None, n_jobs=1,\n",
    "    n_neighbors=3, p=2, weights='uniform')\n"
   ],
   "execution_count": null,
   "outputs": []
  },
  {
   "cell_type": "code",
   "metadata": {
    "id": "xlnwV4tru1_0"
   },
   "source": [
    "X_new = np.array([[5, 2.9, 1, 0.2]])\n",
    "prediction = model.predict(X_new)\n",
    "\n",
    "print(\"예측: {}\".format(prediction))\n",
    "print(\"예측한 타깃의 이름 {}\".format(iris_dataset['target_names'][prediction]))"
   ],
   "execution_count": null,
   "outputs": []
  },
  {
   "cell_type": "markdown",
   "metadata": {
    "id": "XtvUFxUyvt75"
   },
   "source": [
    "### 테스트 셋 확인하기"
   ]
  },
  {
   "cell_type": "code",
   "metadata": {
    "id": "ULHQRnu2vvjC"
   },
   "source": [
    "dfIrisTestSet = pd.DataFrame(X_test, columns=iris_dataset.feature_names)\n",
    "dfIrisTestSet"
   ],
   "execution_count": null,
   "outputs": []
  },
  {
   "cell_type": "markdown",
   "metadata": {
    "id": "q-40K3aov8Iv"
   },
   "source": [
    "### 테스트 셋 테스트 결과 확인하기"
   ]
  },
  {
   "cell_type": "code",
   "metadata": {
    "colab": {
     "base_uri": "https://localhost:8080/"
    },
    "id": "GtXNkkuqv97X",
    "outputId": "03c17e32-d6ae-4b27-af70-fc74957d002d"
   },
   "source": [
    "y_pred = model.predict(X_test)\n",
    "\n",
    "print(\"테스트 세트에 대한 예측값: {}\".format(y_pred))\n",
    "print(\"테스트 세트의 정확도: {:.2f}\".format(model.score(X_test, y_test)))"
   ],
   "execution_count": null,
   "outputs": [
    {
     "output_type": "stream",
     "text": [
      "테스트 세트에 대한 예측값: [2 1 0 2 0 2 0 1 1 1 2 1 1 1 2 0 1 1 0 0 2 1 0 0 2 0 0 1 1 0]\n",
      "테스트 세트의 정확도: 0.97\n"
     ],
     "name": "stdout"
    }
   ]
  },
  {
   "cell_type": "markdown",
   "metadata": {
    "id": "PFerjSNWwV9K"
   },
   "source": [
    "### 정답 확인하기"
   ]
  },
  {
   "cell_type": "code",
   "metadata": {
    "colab": {
     "base_uri": "https://localhost:8080/"
    },
    "id": "SQLcHlpxwXhZ",
    "outputId": "836b8e9c-8757-4b97-b4d2-ac4d08e0b5dd"
   },
   "source": [
    "y_test"
   ],
   "execution_count": null,
   "outputs": [
    {
     "output_type": "execute_result",
     "data": {
      "text/plain": [
       "array([2, 1, 0, 2, 0, 2, 0, 1, 1, 1, 2, 1, 1, 1, 1, 0, 1, 1, 0, 0, 2, 1,\n",
       "       0, 0, 2, 0, 0, 1, 1, 0])"
      ]
     },
     "metadata": {
      "tags": []
     },
     "execution_count": 34
    }
   ]
  },
  {
   "cell_type": "markdown",
   "metadata": {
    "id": "77IIdyGQwY_C"
   },
   "source": [
    "### 모델의 정확도(Accuracy)평가하기"
   ]
  },
  {
   "cell_type": "code",
   "metadata": {
    "id": "Li6gzFT5wdLl"
   },
   "source": [
    "print(model.score(X_test, y_test))"
   ],
   "execution_count": null,
   "outputs": []
  },
  {
   "cell_type": "markdown",
   "metadata": {
    "id": "jv6KGpDLwyS7"
   },
   "source": [
    "## 종합 코드"
   ]
  },
  {
   "cell_type": "code",
   "metadata": {
    "id": "Jfj_sG1Zwn0n"
   },
   "source": [
    "import numpy as np\n",
    "import pandas as pd\n",
    "from sklearn.datasets import load_iris\n",
    "from sklearn.model_selection import train_test_split\n",
    "from sklearn.neighbors import KNeighborsClassifier as knc\n",
    "\n",
    "iris_dataset = load_iris() # 붓꽃 데이터 읽어오기\n",
    "X_train, X_test, y_train, y_test = train_test_split(iris_dataset['data'], iris_dataset['target'], test_size = 0.2, random_state=19)\n",
    "\n",
    "# 훈련 시작\n",
    "model = knc(n_neighbors = 11)\n",
    "model.fit(X_train, y_train)\n",
    "knc(algorithm = 'auto', leaf_size=30, metric='minkowski', metric_params=None, n_jobs=1,\n",
    "    n_neighbors=3, p=2, weights='uniform')\n",
    "\n",
    "y_pred = model.predict(X_test)\n",
    "\n",
    "print(\"테스트 세트에 대한 예측값: {}\".format(y_pred))\n",
    "print(\"테스트 세트의 실제 정답: {}\".format(y_test))\n",
    "print(model.score(X_test, y_test))"
   ],
   "execution_count": null,
   "outputs": []
  }
 ]
}