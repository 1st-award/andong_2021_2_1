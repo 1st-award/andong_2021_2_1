{
  "nbformat": 4,
  "nbformat_minor": 0,
  "metadata": {
    "colab": {
      "name": "pandas_basic_02.ipynb",
      "provenance": [],
      "collapsed_sections": [],
      "toc_visible": true,
      "authorship_tag": "ABX9TyN3LbQXrQGO89X9RiROCmi3",
      "include_colab_link": true
    },
    "kernelspec": {
      "name": "python3",
      "display_name": "Python 3"
    },
    "language_info": {
      "name": "python"
    }
  },
  "cells": [
    {
      "cell_type": "markdown",
      "metadata": {
        "id": "view-in-github",
        "colab_type": "text"
      },
      "source": [
        "<a href=\"https://colab.research.google.com/github/1st-award/andong_2021_2_1/blob/main/Python/%ED%95%84%EA%B8%B0%20%EC%82%AC%EB%B3%B8/pandas_basic_02.ipynb\" target=\"_parent\"><img src=\"https://colab.research.google.com/assets/colab-badge.svg\" alt=\"Open In Colab\"/></a>"
      ]
    },
    {
      "cell_type": "markdown",
      "metadata": {
        "id": "4yX6hxtjeq-4"
      },
      "source": [
        "# 데이터 프레임 다루기\n",
        "- 특정 행 또는 열을 선택하기\n",
        "- 행과 열의 삽입 삭제\n",
        "- 데이터프레임의 원소를 이용하여 계산하기\n",
        "- DataFrame과 Series 사이의 연산\n"
      ]
    },
    {
      "cell_type": "markdown",
      "metadata": {
        "id": "HxaVKMGnfLG7"
      },
      "source": [
        "## iloc, loc를 이용하여 행/열 선택하기\n",
        "iloc은 인텍스 번호로 데이터프레임의 데이터를 선택하고, loc는 label을 기준으로 선택한다.\n",
        "다음과 같이 데이터 프레임을 생성하자"
      ]
    },
    {
      "cell_type": "code",
      "metadata": {
        "id": "eer0ptz_fKoj"
      },
      "source": [
        "import numpy as np\n",
        "import pandas as pd\n",
        "\n",
        "df2d = pd.DataFrame(np.random.randint(50, 101, (5, 8)), \n",
        "                    columns=['국어', '영어', '수학', '한국사', '사회', '과학', '체육', '예술'],\n",
        "                    index = ['김효림', '박민철', '정윤주', '최나은', '홍길동'])\n",
        "df2d"
      ],
      "execution_count": null,
      "outputs": []
    },
    {
      "cell_type": "markdown",
      "metadata": {
        "id": "hItrgRsdfwIQ"
      },
      "source": [
        "### 행 번호로 선택하는 방법(iloc)"
      ]
    },
    {
      "cell_type": "code",
      "metadata": {
        "id": "IVyBvm_XeqB-"
      },
      "source": [
        "# df2d 데이터프레임의 첫 행만 확인\n",
        "df2d.iloc[0]"
      ],
      "execution_count": null,
      "outputs": []
    },
    {
      "cell_type": "code",
      "metadata": {
        "id": "Jj23J7k6f8m6"
      },
      "source": [
        "# df2d 데이터프레임의 처음 세 개의 행을 확인\n",
        "df2d.iloc[:3] "
      ],
      "execution_count": null,
      "outputs": []
    },
    {
      "cell_type": "code",
      "metadata": {
        "id": "dxkOmEUcgEiE"
      },
      "source": [
        "# df2d 데이터프레임의 3번 행부터 끝까지 확인\n",
        "df2d.iloc[3:]"
      ],
      "execution_count": null,
      "outputs": []
    },
    {
      "cell_type": "code",
      "metadata": {
        "id": "TqQunH4HgJZK"
      },
      "source": [
        "# 여학생 정보만 추출\n",
        "femail = df2d.iloc[[0, 2, 3]]\n",
        "femail"
      ],
      "execution_count": null,
      "outputs": []
    },
    {
      "cell_type": "code",
      "metadata": {
        "id": "JVTLmwrWgYZs"
      },
      "source": [
        "# df2d 데이터프레임의 끝에서 세 번째 열을 확인\n",
        "df2d.iloc[:, -3]"
      ],
      "execution_count": null,
      "outputs": []
    },
    {
      "cell_type": "code",
      "metadata": {
        "id": "j922INtpgowy"
      },
      "source": [
        "# df2d 데이터프레임의 처음 세 개의 열을 확인\n",
        "df2d.iloc[:, :3]"
      ],
      "execution_count": null,
      "outputs": []
    },
    {
      "cell_type": "code",
      "metadata": {
        "id": "l4IErH9egywk"
      },
      "source": [
        "# df2d 데이터프래임의 3번째 열부터 끝까지 확인\n",
        "df2d.iloc[:, 3:]"
      ],
      "execution_count": null,
      "outputs": []
    },
    {
      "cell_type": "code",
      "metadata": {
        "id": "mD4VPWR5hCdf"
      },
      "source": [
        "# 국어, 수학, 과학 과목만 선택한 후 확인\n",
        "choice = df2d.iloc[:, [0, 2, 5]]\n",
        "choice"
      ],
      "execution_count": null,
      "outputs": []
    },
    {
      "cell_type": "markdown",
      "metadata": {
        "id": "nWkfJVSwhPI_"
      },
      "source": [
        "### label을 이용하여 데이터 선택(loc)"
      ]
    },
    {
      "cell_type": "code",
      "metadata": {
        "id": "3RkhxjTUhYbm"
      },
      "source": [
        "# label이 '정윤주'인 행을 확인\n",
        "df2d.loc['정윤주']"
      ],
      "execution_count": null,
      "outputs": []
    },
    {
      "cell_type": "code",
      "metadata": {
        "id": "l7ExKSW1heZ5"
      },
      "source": [
        "# label이 '박민철'과 '최나은'인 행을 확인\n",
        "df2d.loc[['박민철', '최나은']] # 반드시 이중의 대괄호 사용"
      ],
      "execution_count": null,
      "outputs": []
    },
    {
      "cell_type": "code",
      "metadata": {
        "id": "_zQl9KmkhmUP"
      },
      "source": [
        "# '정윤주', '박민철'과 '최나은'의 '국어', '국어', '사회', '과학' 점수 확인\n",
        "df2d.loc[['정윤주', '박민철', '최나은'], ['국어', '사회', '과학']]"
      ],
      "execution_count": null,
      "outputs": []
    },
    {
      "cell_type": "markdown",
      "metadata": {
        "id": "cC1-zlMGiFkg"
      },
      "source": [
        "## 행 또는 열의 추가 및 삭제"
      ]
    },
    {
      "cell_type": "markdown",
      "metadata": {
        "id": "e_oBaa03iJe3"
      },
      "source": [
        "### 열 추가"
      ]
    },
    {
      "cell_type": "code",
      "metadata": {
        "id": "RFC5ERZ1iLBH"
      },
      "source": [
        "df2d['한문'] = 0\n",
        "df2d"
      ],
      "execution_count": null,
      "outputs": []
    },
    {
      "cell_type": "code",
      "metadata": {
        "id": "jUfFoc8riQ-b"
      },
      "source": [
        "df2d['한문'] = np.random.randint(50, 101, 5)\n",
        "df2d"
      ],
      "execution_count": null,
      "outputs": []
    },
    {
      "cell_type": "markdown",
      "metadata": {
        "id": "Lgni_ZOJiZNe"
      },
      "source": [
        "### 열 **삭제**"
      ]
    },
    {
      "cell_type": "markdown",
      "metadata": {
        "id": "RdZibBMPiuhS"
      },
      "source": [
        "#### **del 명령을 이용하여 하나의 열을 삭제**"
      ]
    },
    {
      "cell_type": "code",
      "metadata": {
        "id": "JruvPe_zihij"
      },
      "source": [
        "del df2d['한문']\n",
        "df2d"
      ],
      "execution_count": null,
      "outputs": []
    },
    {
      "cell_type": "markdown",
      "metadata": {
        "id": "HLrh0CJmin8r"
      },
      "source": [
        "#### **drop()을 이용하여 하나의 열을 삭제**\n",
        "데이터프레임명.drop('컬럼명', axis=1, inplace=True)\n"
      ]
    },
    {
      "cell_type": "code",
      "metadata": {
        "id": "OGR9ZQY6i9QX"
      },
      "source": [
        "new_df2d = df2d.copy()\n",
        "new_df2d"
      ],
      "execution_count": null,
      "outputs": []
    },
    {
      "cell_type": "code",
      "metadata": {
        "id": "fCoyCYgfjCNe"
      },
      "source": [
        "new_df2d.drop('사회', axis=1)\n",
        "new_df2d # '사회' 칼럼이 삭제되었을까?"
      ],
      "execution_count": null,
      "outputs": []
    },
    {
      "cell_type": "code",
      "metadata": {
        "id": "FcXhYEZyjdl4"
      },
      "source": [
        "#new_df2d = new_df2d.drop('사회', axis=1) 또는\n",
        "new_df2d.drop('사회', axis=1, inplace=True)\n",
        "new_df2d"
      ],
      "execution_count": null,
      "outputs": []
    },
    {
      "cell_type": "markdown",
      "metadata": {
        "id": "6B8MYPfVjsPt"
      },
      "source": [
        "#### drop()을 이용하여 여러 개의 열을 삭제\n",
        "데이터프레임명.drop(['컬럼명1', '컬럼명'2'], axis=1)"
      ]
    },
    {
      "cell_type": "code",
      "metadata": {
        "id": "quRlI-zqj2Sy"
      },
      "source": [
        "new_df2d.drop(['예술', '체육'], axis=1, inplace=True)\n",
        "new_df2d"
      ],
      "execution_count": null,
      "outputs": []
    },
    {
      "cell_type": "markdown",
      "metadata": {
        "id": "4yM38bF7aEBy"
      },
      "source": [
        "### 행 삭제"
      ]
    },
    {
      "cell_type": "markdown",
      "metadata": {
        "id": "koWqHcxkaIVs"
      },
      "source": [
        "#### drop()을 이용하여 행 삭제"
      ]
    },
    {
      "cell_type": "code",
      "metadata": {
        "id": "yKHcN711Z4tg"
      },
      "source": [
        "new_df2d.drop(['정윤주', '김효림'], inplace=True)\n",
        "new_df2d"
      ],
      "execution_count": null,
      "outputs": []
    },
    {
      "cell_type": "markdown",
      "metadata": {
        "id": "1yoedhJKaU6C"
      },
      "source": [
        "### 행 추가"
      ]
    },
    {
      "cell_type": "markdown",
      "metadata": {
        "id": "V7b1LGi1aWKb"
      },
      "source": [
        "#### loc을 이용하여 행 추가"
      ]
    },
    {
      "cell_type": "code",
      "metadata": {
        "id": "lRf8sniraZpN"
      },
      "source": [
        "#df3d.loc['남효민'] = \n",
        "#dataframe.loc[행정보, 열정보]\n",
        "df2d.loc['남효민'] = np.random.randint(50, 101, 8)\n",
        "df2d"
      ],
      "execution_count": null,
      "outputs": []
    },
    {
      "cell_type": "markdown",
      "metadata": {
        "id": "IDSqXMHKalmb"
      },
      "source": [
        "### 데이터프레임의 원소를 이용하여 계산하기"
      ]
    },
    {
      "cell_type": "code",
      "metadata": {
        "colab": {
          "base_uri": "https://localhost:8080/",
          "height": 294
        },
        "id": "tm1F3v3GapNo",
        "outputId": "6cf204c8-d24b-4511-c075-dfe6e146c06f"
      },
      "source": [
        "# 과목별 합곟와 평균을 계산하여 출력하기\n",
        "df2d.loc['합계', :] = df2d.iloc[:6].sum()\n",
        "df2d.loc['평균', :] = df2d.iloc[:6].mean()\n",
        "df2d"
      ],
      "execution_count": null,
      "outputs": [
        {
          "output_type": "execute_result",
          "data": {
            "text/html": [
              "<div>\n",
              "<style scoped>\n",
              "    .dataframe tbody tr th:only-of-type {\n",
              "        vertical-align: middle;\n",
              "    }\n",
              "\n",
              "    .dataframe tbody tr th {\n",
              "        vertical-align: top;\n",
              "    }\n",
              "\n",
              "    .dataframe thead th {\n",
              "        text-align: right;\n",
              "    }\n",
              "</style>\n",
              "<table border=\"1\" class=\"dataframe\">\n",
              "  <thead>\n",
              "    <tr style=\"text-align: right;\">\n",
              "      <th></th>\n",
              "      <th>국어</th>\n",
              "      <th>영어</th>\n",
              "      <th>수학</th>\n",
              "      <th>한국사</th>\n",
              "      <th>사회</th>\n",
              "      <th>과학</th>\n",
              "      <th>체육</th>\n",
              "      <th>예술</th>\n",
              "    </tr>\n",
              "  </thead>\n",
              "  <tbody>\n",
              "    <tr>\n",
              "      <th>김효림</th>\n",
              "      <td>65.0</td>\n",
              "      <td>77.000000</td>\n",
              "      <td>52.000000</td>\n",
              "      <td>86.0</td>\n",
              "      <td>52.0</td>\n",
              "      <td>57.000000</td>\n",
              "      <td>60.000000</td>\n",
              "      <td>61.000000</td>\n",
              "    </tr>\n",
              "    <tr>\n",
              "      <th>박민철</th>\n",
              "      <td>90.0</td>\n",
              "      <td>100.000000</td>\n",
              "      <td>78.000000</td>\n",
              "      <td>99.0</td>\n",
              "      <td>67.0</td>\n",
              "      <td>95.000000</td>\n",
              "      <td>87.000000</td>\n",
              "      <td>50.000000</td>\n",
              "    </tr>\n",
              "    <tr>\n",
              "      <th>정윤주</th>\n",
              "      <td>70.0</td>\n",
              "      <td>71.000000</td>\n",
              "      <td>51.000000</td>\n",
              "      <td>53.0</td>\n",
              "      <td>99.0</td>\n",
              "      <td>56.000000</td>\n",
              "      <td>58.000000</td>\n",
              "      <td>87.000000</td>\n",
              "    </tr>\n",
              "    <tr>\n",
              "      <th>최나은</th>\n",
              "      <td>87.0</td>\n",
              "      <td>76.000000</td>\n",
              "      <td>67.000000</td>\n",
              "      <td>56.0</td>\n",
              "      <td>87.0</td>\n",
              "      <td>63.000000</td>\n",
              "      <td>87.000000</td>\n",
              "      <td>79.000000</td>\n",
              "    </tr>\n",
              "    <tr>\n",
              "      <th>홍길동</th>\n",
              "      <td>100.0</td>\n",
              "      <td>92.000000</td>\n",
              "      <td>57.000000</td>\n",
              "      <td>57.0</td>\n",
              "      <td>92.0</td>\n",
              "      <td>69.000000</td>\n",
              "      <td>72.000000</td>\n",
              "      <td>94.000000</td>\n",
              "    </tr>\n",
              "    <tr>\n",
              "      <th>남효민</th>\n",
              "      <td>56.0</td>\n",
              "      <td>66.000000</td>\n",
              "      <td>62.000000</td>\n",
              "      <td>60.0</td>\n",
              "      <td>56.0</td>\n",
              "      <td>54.000000</td>\n",
              "      <td>78.000000</td>\n",
              "      <td>78.000000</td>\n",
              "    </tr>\n",
              "    <tr>\n",
              "      <th>합계</th>\n",
              "      <td>468.0</td>\n",
              "      <td>482.000000</td>\n",
              "      <td>367.000000</td>\n",
              "      <td>411.0</td>\n",
              "      <td>453.0</td>\n",
              "      <td>394.000000</td>\n",
              "      <td>442.000000</td>\n",
              "      <td>449.000000</td>\n",
              "    </tr>\n",
              "    <tr>\n",
              "      <th>평균</th>\n",
              "      <td>78.0</td>\n",
              "      <td>80.333333</td>\n",
              "      <td>61.166667</td>\n",
              "      <td>68.5</td>\n",
              "      <td>75.5</td>\n",
              "      <td>65.666667</td>\n",
              "      <td>73.666667</td>\n",
              "      <td>74.833333</td>\n",
              "    </tr>\n",
              "  </tbody>\n",
              "</table>\n",
              "</div>"
            ],
            "text/plain": [
              "        국어          영어          수학  ...          과학          체육          예술\n",
              "김효림   65.0   77.000000   52.000000  ...   57.000000   60.000000   61.000000\n",
              "박민철   90.0  100.000000   78.000000  ...   95.000000   87.000000   50.000000\n",
              "정윤주   70.0   71.000000   51.000000  ...   56.000000   58.000000   87.000000\n",
              "최나은   87.0   76.000000   67.000000  ...   63.000000   87.000000   79.000000\n",
              "홍길동  100.0   92.000000   57.000000  ...   69.000000   72.000000   94.000000\n",
              "남효민   56.0   66.000000   62.000000  ...   54.000000   78.000000   78.000000\n",
              "합계   468.0  482.000000  367.000000  ...  394.000000  442.000000  449.000000\n",
              "평균    78.0   80.333333   61.166667  ...   65.666667   73.666667   74.833333\n",
              "\n",
              "[8 rows x 8 columns]"
            ]
          },
          "metadata": {
            "tags": []
          },
          "execution_count": 10
        }
      ]
    },
    {
      "cell_type": "code",
      "metadata": {
        "id": "nYfxMSZXa9A2"
      },
      "source": [
        "df2d.loc[:, '총점'] = df2d.iloc[:, :8].sum(axis=1)\n",
        "df2d.loc[:, '성적'] = df2d.iloc[:, :8].mean(axis=1)\n",
        "df2d"
      ],
      "execution_count": null,
      "outputs": []
    }
  ]
}