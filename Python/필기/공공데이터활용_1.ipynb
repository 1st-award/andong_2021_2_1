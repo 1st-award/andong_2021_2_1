{
  "nbformat": 4,
  "nbformat_minor": 0,
  "metadata": {
    "colab": {
      "name": "공공데이터활용_1.ipynb",
      "provenance": [],
      "authorship_tag": "ABX9TyPhjLYiEs6DlbbrumFY/q29",
      "include_colab_link": true
    },
    "kernelspec": {
      "name": "python3",
      "display_name": "Python 3"
    },
    "language_info": {
      "name": "python"
    }
  },
  "cells": [
    {
      "cell_type": "markdown",
      "metadata": {
        "id": "view-in-github",
        "colab_type": "text"
      },
      "source": [
        "<a href=\"https://colab.research.google.com/github/1st-award/andong_2021_2_1/blob/main/Python/%ED%95%84%EA%B8%B0%20%EC%82%AC%EB%B3%B8/%EA%B3%B5%EA%B3%B5%EB%8D%B0%EC%9D%B4%ED%84%B0%ED%99%9C%EC%9A%A9_1.ipynb\" target=\"_parent\"><img src=\"https://colab.research.google.com/assets/colab-badge.svg\" alt=\"Open In Colab\"/></a>"
      ]
    },
    {
      "cell_type": "markdown",
      "metadata": {
        "id": "QY_jroNPkrLC"
      },
      "source": [
        "# 안동 기온 데이터 분석(1973/01/01 ~ 2020/12/31)"
      ]
    },
    {
      "cell_type": "markdown",
      "metadata": {
        "id": "dAWx6xC3kvfc"
      },
      "source": [
        "## 공공 데이터 얻기\n",
        "1. 기상자료개방포털(https://data.kma.go.kr/)접속\n",
        "2. 기후통계분석 >> 통계분석 >> 기온분석 메뉴로 들어가서\n",
        "3. 기간 설정: 1973년 1월 1일부터 2020년 12월 31일까지\n",
        "4. 지역: 경상북도 안동\n",
        "5. 검색 버튼 클릭\n",
        "6. 그래프가 나타나면[csv다운로드] 버튼 클릭\n",
        "7. 'andongTemp.csv'라는 이름으로 저장\n",
        "8. 다운로드한 csv파일을 메모장 프로그램으로 열고 1~7행을 모두 삭제한 후 'utf-8' 형식으로 다시 저장\n",
        "9. andongTemp.csv 파일을 현재 작업중인 구글 드라이브에 업로드한다.\n",
        "\n",
        "- csv: comma-separated values, 몇 가지 필드를 쉼표로 구분한 텍스트 데이터 및 텍스트 파일"
      ]
    },
    {
      "cell_type": "markdown",
      "metadata": {
        "id": "YwBkqiYlmtrF"
      },
      "source": [
        "## CSV파일 열기"
      ]
    },
    {
      "cell_type": "markdown",
      "metadata": {
        "id": "lyeCZZGOm2rb"
      },
      "source": [
        "### 구글 드라이브에 저장된 파일을 구글 코랩으로 불러오기"
      ]
    },
    {
      "cell_type": "markdown",
      "metadata": {
        "id": "ubXJHN7fm7Vf"
      },
      "source": [
        "#### 구글 드라이브를 연동할 계정 인증하기"
      ]
    },
    {
      "cell_type": "code",
      "metadata": {
        "id": "0DfTzEBEkc4s"
      },
      "source": [
        "from google.colab import drive\n",
        "drive.mount('/gdrive', force_remount=True)"
      ],
      "execution_count": null,
      "outputs": []
    },
    {
      "cell_type": "markdown",
      "metadata": {
        "id": "Lwcj5w0VnlJm"
      },
      "source": [
        "#### 불러올 파일의 경로와 이름 설정"
      ]
    },
    {
      "cell_type": "code",
      "metadata": {
        "colab": {
          "base_uri": "https://localhost:8080/",
          "height": 415
        },
        "id": "si8nMs4hnoyI",
        "outputId": "1cc728fc-207e-4d70-b949-1f09d68c9d0a"
      },
      "source": [
        "import numpy as np\n",
        "import pandas as pd\n",
        "temp_data =pd.read_csv('/gdrive/My Drive/Python/andongTemp.csv', encoding='utf-8')\n",
        "temp_data"
      ],
      "execution_count": null,
      "outputs": [
        {
          "output_type": "execute_result",
          "data": {
            "text/html": [
              "<div>\n",
              "<style scoped>\n",
              "    .dataframe tbody tr th:only-of-type {\n",
              "        vertical-align: middle;\n",
              "    }\n",
              "\n",
              "    .dataframe tbody tr th {\n",
              "        vertical-align: top;\n",
              "    }\n",
              "\n",
              "    .dataframe thead th {\n",
              "        text-align: right;\n",
              "    }\n",
              "</style>\n",
              "<table border=\"1\" class=\"dataframe\">\n",
              "  <thead>\n",
              "    <tr style=\"text-align: right;\">\n",
              "      <th></th>\n",
              "      <th>날짜</th>\n",
              "      <th>지점</th>\n",
              "      <th>평균기온(℃)</th>\n",
              "      <th>최저기온(℃)</th>\n",
              "      <th>최고기온(℃)</th>\n",
              "    </tr>\n",
              "  </thead>\n",
              "  <tbody>\n",
              "    <tr>\n",
              "      <th>0</th>\n",
              "      <td>1973-01-01</td>\n",
              "      <td>136</td>\n",
              "      <td>-0.5</td>\n",
              "      <td>-4.6</td>\n",
              "      <td>4.0</td>\n",
              "    </tr>\n",
              "    <tr>\n",
              "      <th>1</th>\n",
              "      <td>1973-01-02</td>\n",
              "      <td>136</td>\n",
              "      <td>-2.3</td>\n",
              "      <td>-8.2</td>\n",
              "      <td>3.0</td>\n",
              "    </tr>\n",
              "    <tr>\n",
              "      <th>2</th>\n",
              "      <td>1973-01-03</td>\n",
              "      <td>136</td>\n",
              "      <td>-4.2</td>\n",
              "      <td>-8.7</td>\n",
              "      <td>0.1</td>\n",
              "    </tr>\n",
              "    <tr>\n",
              "      <th>3</th>\n",
              "      <td>1973-01-04</td>\n",
              "      <td>136</td>\n",
              "      <td>-1.8</td>\n",
              "      <td>-7.0</td>\n",
              "      <td>4.1</td>\n",
              "    </tr>\n",
              "    <tr>\n",
              "      <th>4</th>\n",
              "      <td>1973-01-05</td>\n",
              "      <td>136</td>\n",
              "      <td>-1.3</td>\n",
              "      <td>-5.5</td>\n",
              "      <td>5.5</td>\n",
              "    </tr>\n",
              "    <tr>\n",
              "      <th>...</th>\n",
              "      <td>...</td>\n",
              "      <td>...</td>\n",
              "      <td>...</td>\n",
              "      <td>...</td>\n",
              "      <td>...</td>\n",
              "    </tr>\n",
              "    <tr>\n",
              "      <th>15821</th>\n",
              "      <td>2020-12-27</td>\n",
              "      <td>136</td>\n",
              "      <td>0.3</td>\n",
              "      <td>-3.6</td>\n",
              "      <td>5.4</td>\n",
              "    </tr>\n",
              "    <tr>\n",
              "      <th>15822</th>\n",
              "      <td>2020-12-28</td>\n",
              "      <td>136</td>\n",
              "      <td>1.8</td>\n",
              "      <td>-5.0</td>\n",
              "      <td>11.0</td>\n",
              "    </tr>\n",
              "    <tr>\n",
              "      <th>15823</th>\n",
              "      <td>2020-12-29</td>\n",
              "      <td>136</td>\n",
              "      <td>1.3</td>\n",
              "      <td>-4.0</td>\n",
              "      <td>8.2</td>\n",
              "    </tr>\n",
              "    <tr>\n",
              "      <th>15824</th>\n",
              "      <td>2020-12-30</td>\n",
              "      <td>136</td>\n",
              "      <td>-7.8</td>\n",
              "      <td>-11.2</td>\n",
              "      <td>0.0</td>\n",
              "    </tr>\n",
              "    <tr>\n",
              "      <th>15825</th>\n",
              "      <td>2020-12-31</td>\n",
              "      <td>136</td>\n",
              "      <td>-7.9</td>\n",
              "      <td>-13.5</td>\n",
              "      <td>-2.2</td>\n",
              "    </tr>\n",
              "  </tbody>\n",
              "</table>\n",
              "<p>15826 rows × 5 columns</p>\n",
              "</div>"
            ],
            "text/plain": [
              "               날짜   지점  평균기온(℃)  최저기온(℃)  최고기온(℃)\n",
              "0      1973-01-01  136     -0.5     -4.6      4.0\n",
              "1      1973-01-02  136     -2.3     -8.2      3.0\n",
              "2      1973-01-03  136     -4.2     -8.7      0.1\n",
              "3      1973-01-04  136     -1.8     -7.0      4.1\n",
              "4      1973-01-05  136     -1.3     -5.5      5.5\n",
              "...           ...  ...      ...      ...      ...\n",
              "15821  2020-12-27  136      0.3     -3.6      5.4\n",
              "15822  2020-12-28  136      1.8     -5.0     11.0\n",
              "15823  2020-12-29  136      1.3     -4.0      8.2\n",
              "15824  2020-12-30  136     -7.8    -11.2      0.0\n",
              "15825  2020-12-31  136     -7.9    -13.5     -2.2\n",
              "\n",
              "[15826 rows x 5 columns]"
            ]
          },
          "metadata": {
            "tags": []
          },
          "execution_count": 33
        }
      ]
    },
    {
      "cell_type": "markdown",
      "metadata": {
        "id": "PhV2eKdCoMD_"
      },
      "source": [
        "#### 지점 컬럼 삭제"
      ]
    },
    {
      "cell_type": "code",
      "metadata": {
        "colab": {
          "base_uri": "https://localhost:8080/",
          "height": 415
        },
        "id": "ep5zQgcOoPQo",
        "outputId": "65e4c554-4873-49c6-bc96-cb4cd77b5625"
      },
      "source": [
        "temp_data.drop('지점', axis=1, inplace=True)\n",
        "temp_data"
      ],
      "execution_count": null,
      "outputs": [
        {
          "output_type": "execute_result",
          "data": {
            "text/html": [
              "<div>\n",
              "<style scoped>\n",
              "    .dataframe tbody tr th:only-of-type {\n",
              "        vertical-align: middle;\n",
              "    }\n",
              "\n",
              "    .dataframe tbody tr th {\n",
              "        vertical-align: top;\n",
              "    }\n",
              "\n",
              "    .dataframe thead th {\n",
              "        text-align: right;\n",
              "    }\n",
              "</style>\n",
              "<table border=\"1\" class=\"dataframe\">\n",
              "  <thead>\n",
              "    <tr style=\"text-align: right;\">\n",
              "      <th></th>\n",
              "      <th>날짜</th>\n",
              "      <th>평균기온(℃)</th>\n",
              "      <th>최저기온(℃)</th>\n",
              "      <th>최고기온(℃)</th>\n",
              "    </tr>\n",
              "  </thead>\n",
              "  <tbody>\n",
              "    <tr>\n",
              "      <th>0</th>\n",
              "      <td>1973-01-01</td>\n",
              "      <td>-0.5</td>\n",
              "      <td>-4.6</td>\n",
              "      <td>4.0</td>\n",
              "    </tr>\n",
              "    <tr>\n",
              "      <th>1</th>\n",
              "      <td>1973-01-02</td>\n",
              "      <td>-2.3</td>\n",
              "      <td>-8.2</td>\n",
              "      <td>3.0</td>\n",
              "    </tr>\n",
              "    <tr>\n",
              "      <th>2</th>\n",
              "      <td>1973-01-03</td>\n",
              "      <td>-4.2</td>\n",
              "      <td>-8.7</td>\n",
              "      <td>0.1</td>\n",
              "    </tr>\n",
              "    <tr>\n",
              "      <th>3</th>\n",
              "      <td>1973-01-04</td>\n",
              "      <td>-1.8</td>\n",
              "      <td>-7.0</td>\n",
              "      <td>4.1</td>\n",
              "    </tr>\n",
              "    <tr>\n",
              "      <th>4</th>\n",
              "      <td>1973-01-05</td>\n",
              "      <td>-1.3</td>\n",
              "      <td>-5.5</td>\n",
              "      <td>5.5</td>\n",
              "    </tr>\n",
              "    <tr>\n",
              "      <th>...</th>\n",
              "      <td>...</td>\n",
              "      <td>...</td>\n",
              "      <td>...</td>\n",
              "      <td>...</td>\n",
              "    </tr>\n",
              "    <tr>\n",
              "      <th>15821</th>\n",
              "      <td>2020-12-27</td>\n",
              "      <td>0.3</td>\n",
              "      <td>-3.6</td>\n",
              "      <td>5.4</td>\n",
              "    </tr>\n",
              "    <tr>\n",
              "      <th>15822</th>\n",
              "      <td>2020-12-28</td>\n",
              "      <td>1.8</td>\n",
              "      <td>-5.0</td>\n",
              "      <td>11.0</td>\n",
              "    </tr>\n",
              "    <tr>\n",
              "      <th>15823</th>\n",
              "      <td>2020-12-29</td>\n",
              "      <td>1.3</td>\n",
              "      <td>-4.0</td>\n",
              "      <td>8.2</td>\n",
              "    </tr>\n",
              "    <tr>\n",
              "      <th>15824</th>\n",
              "      <td>2020-12-30</td>\n",
              "      <td>-7.8</td>\n",
              "      <td>-11.2</td>\n",
              "      <td>0.0</td>\n",
              "    </tr>\n",
              "    <tr>\n",
              "      <th>15825</th>\n",
              "      <td>2020-12-31</td>\n",
              "      <td>-7.9</td>\n",
              "      <td>-13.5</td>\n",
              "      <td>-2.2</td>\n",
              "    </tr>\n",
              "  </tbody>\n",
              "</table>\n",
              "<p>15826 rows × 4 columns</p>\n",
              "</div>"
            ],
            "text/plain": [
              "               날짜  평균기온(℃)  최저기온(℃)  최고기온(℃)\n",
              "0      1973-01-01     -0.5     -4.6      4.0\n",
              "1      1973-01-02     -2.3     -8.2      3.0\n",
              "2      1973-01-03     -4.2     -8.7      0.1\n",
              "3      1973-01-04     -1.8     -7.0      4.1\n",
              "4      1973-01-05     -1.3     -5.5      5.5\n",
              "...           ...      ...      ...      ...\n",
              "15821  2020-12-27      0.3     -3.6      5.4\n",
              "15822  2020-12-28      1.8     -5.0     11.0\n",
              "15823  2020-12-29      1.3     -4.0      8.2\n",
              "15824  2020-12-30     -7.8    -11.2      0.0\n",
              "15825  2020-12-31     -7.9    -13.5     -2.2\n",
              "\n",
              "[15826 rows x 4 columns]"
            ]
          },
          "metadata": {
            "tags": []
          },
          "execution_count": 34
        }
      ]
    },
    {
      "cell_type": "markdown",
      "metadata": {
        "id": "1mHRiah3o-Af"
      },
      "source": [
        "#### 날짜 컬럼을 인덱스로 지정하기"
      ]
    },
    {
      "cell_type": "code",
      "metadata": {
        "colab": {
          "base_uri": "https://localhost:8080/",
          "height": 446
        },
        "id": "eZD0bg7ppEKZ",
        "outputId": "c6e7a26d-4c9c-47f2-d778-d08c9da368b4"
      },
      "source": [
        "temp_data.set_index('날짜', inplace=True)\n",
        "temp_data"
      ],
      "execution_count": null,
      "outputs": [
        {
          "output_type": "execute_result",
          "data": {
            "text/html": [
              "<div>\n",
              "<style scoped>\n",
              "    .dataframe tbody tr th:only-of-type {\n",
              "        vertical-align: middle;\n",
              "    }\n",
              "\n",
              "    .dataframe tbody tr th {\n",
              "        vertical-align: top;\n",
              "    }\n",
              "\n",
              "    .dataframe thead th {\n",
              "        text-align: right;\n",
              "    }\n",
              "</style>\n",
              "<table border=\"1\" class=\"dataframe\">\n",
              "  <thead>\n",
              "    <tr style=\"text-align: right;\">\n",
              "      <th></th>\n",
              "      <th>평균기온(℃)</th>\n",
              "      <th>최저기온(℃)</th>\n",
              "      <th>최고기온(℃)</th>\n",
              "    </tr>\n",
              "    <tr>\n",
              "      <th>날짜</th>\n",
              "      <th></th>\n",
              "      <th></th>\n",
              "      <th></th>\n",
              "    </tr>\n",
              "  </thead>\n",
              "  <tbody>\n",
              "    <tr>\n",
              "      <th>1973-01-01</th>\n",
              "      <td>-0.5</td>\n",
              "      <td>-4.6</td>\n",
              "      <td>4.0</td>\n",
              "    </tr>\n",
              "    <tr>\n",
              "      <th>1973-01-02</th>\n",
              "      <td>-2.3</td>\n",
              "      <td>-8.2</td>\n",
              "      <td>3.0</td>\n",
              "    </tr>\n",
              "    <tr>\n",
              "      <th>1973-01-03</th>\n",
              "      <td>-4.2</td>\n",
              "      <td>-8.7</td>\n",
              "      <td>0.1</td>\n",
              "    </tr>\n",
              "    <tr>\n",
              "      <th>1973-01-04</th>\n",
              "      <td>-1.8</td>\n",
              "      <td>-7.0</td>\n",
              "      <td>4.1</td>\n",
              "    </tr>\n",
              "    <tr>\n",
              "      <th>1973-01-05</th>\n",
              "      <td>-1.3</td>\n",
              "      <td>-5.5</td>\n",
              "      <td>5.5</td>\n",
              "    </tr>\n",
              "    <tr>\n",
              "      <th>...</th>\n",
              "      <td>...</td>\n",
              "      <td>...</td>\n",
              "      <td>...</td>\n",
              "    </tr>\n",
              "    <tr>\n",
              "      <th>2020-12-27</th>\n",
              "      <td>0.3</td>\n",
              "      <td>-3.6</td>\n",
              "      <td>5.4</td>\n",
              "    </tr>\n",
              "    <tr>\n",
              "      <th>2020-12-28</th>\n",
              "      <td>1.8</td>\n",
              "      <td>-5.0</td>\n",
              "      <td>11.0</td>\n",
              "    </tr>\n",
              "    <tr>\n",
              "      <th>2020-12-29</th>\n",
              "      <td>1.3</td>\n",
              "      <td>-4.0</td>\n",
              "      <td>8.2</td>\n",
              "    </tr>\n",
              "    <tr>\n",
              "      <th>2020-12-30</th>\n",
              "      <td>-7.8</td>\n",
              "      <td>-11.2</td>\n",
              "      <td>0.0</td>\n",
              "    </tr>\n",
              "    <tr>\n",
              "      <th>2020-12-31</th>\n",
              "      <td>-7.9</td>\n",
              "      <td>-13.5</td>\n",
              "      <td>-2.2</td>\n",
              "    </tr>\n",
              "  </tbody>\n",
              "</table>\n",
              "<p>15826 rows × 3 columns</p>\n",
              "</div>"
            ],
            "text/plain": [
              "            평균기온(℃)  최저기온(℃)  최고기온(℃)\n",
              "날짜                                   \n",
              "1973-01-01     -0.5     -4.6      4.0\n",
              "1973-01-02     -2.3     -8.2      3.0\n",
              "1973-01-03     -4.2     -8.7      0.1\n",
              "1973-01-04     -1.8     -7.0      4.1\n",
              "1973-01-05     -1.3     -5.5      5.5\n",
              "...             ...      ...      ...\n",
              "2020-12-27      0.3     -3.6      5.4\n",
              "2020-12-28      1.8     -5.0     11.0\n",
              "2020-12-29      1.3     -4.0      8.2\n",
              "2020-12-30     -7.8    -11.2      0.0\n",
              "2020-12-31     -7.9    -13.5     -2.2\n",
              "\n",
              "[15826 rows x 3 columns]"
            ]
          },
          "metadata": {
            "tags": []
          },
          "execution_count": 35
        }
      ]
    },
    {
      "cell_type": "markdown",
      "metadata": {
        "id": "KRevP6kJpQrb"
      },
      "source": [
        "## 안동에서 가장 더웠던 날과 가장 추웠던 날은 언제일까?"
      ]
    },
    {
      "cell_type": "markdown",
      "metadata": {
        "id": "yeq83KY1pcPw"
      },
      "source": [
        "### 가장 더웠던 날과 그날의 기온 찾기 - 방법(1)"
      ]
    },
    {
      "cell_type": "code",
      "metadata": {
        "id": "IowwhRhKpgcd"
      },
      "source": [
        "maxTemp = -999 # 정수형 변수\n",
        "maxDate = ''\n",
        "date = temp_data.index\n",
        "for x in range(len(temp_data)):\n",
        "  highest = float(temp_data.iloc[x, 2]) # csv는 문자로 저장되기 때문\n",
        "  if maxTemp < highest:\n",
        "    maxTemp = highest\n",
        "    maxDate = date[x]\n",
        "print('기상 관측 이래 안동에서 가장 더웠던 날 :', maxDate)\n",
        "print('안동의 최고기온 :', maxTemp,'도')"
      ],
      "execution_count": null,
      "outputs": []
    },
    {
      "cell_type": "markdown",
      "metadata": {
        "id": "jyj9qkTMrQ0m"
      },
      "source": [
        "### 가장 더웠던 날과 그날의 기온 찾기 - 방법(2)"
      ]
    },
    {
      "cell_type": "code",
      "metadata": {
        "id": "ft04tN5brbeK"
      },
      "source": [
        "max_date = temp_data['최고기온(℃)'].idxmax() # 최고기온의 최대값이 있는 행의 인덱스반환\n",
        "max_temp = temp_data.loc[max_date] # 최고기온의 최대값이 있는 행의 모든 정보 반환\n",
        "print('기상 관측 이래 안동에서 가장 더웠던 날 :', max_date)\n",
        "print('안동의 최고기온 :', max_temp[-1], '도')"
      ],
      "execution_count": null,
      "outputs": []
    },
    {
      "cell_type": "markdown",
      "metadata": {
        "id": "1wm8E51tsszA"
      },
      "source": [
        "### 가장 추웠던 날과 그날의 기온 찾기 - 방법(1)"
      ]
    },
    {
      "cell_type": "code",
      "metadata": {
        "id": "lqSTtP0HsrNQ"
      },
      "source": [
        "minTemp = 999 # 정수형 변수\n",
        "maxDate = '' # 문자열형 변수\n",
        "date = temp_data.index\n",
        "for x in range(len(date)):\n",
        "  lowest = float(temp_data.iloc[x, 1])\n",
        "  if minTemp > lowest:\n",
        "    minTemp = lowest\n",
        "    minDate = date[x]\n",
        "print('기상 관측 이래 안동에서 가장 추웠던 날 :', minDate)\n",
        "print('안동의 최저 기온 :', minTemp, '도')"
      ],
      "execution_count": null,
      "outputs": []
    },
    {
      "cell_type": "markdown",
      "metadata": {
        "id": "HHPweVyXuIi9"
      },
      "source": [
        "### 가장 추웠던 날과 그날의 기온 찾기 - 방법(2)"
      ]
    },
    {
      "cell_type": "code",
      "metadata": {
        "id": "VJkXf1GiuKBP"
      },
      "source": [
        "min_date = temp_data['최저기온(℃)'].idxmin() # 최저기온의 최소값이 있는 행의 인덱스 반환\n",
        "min_temp = temp_data.loc[min_date] # 최저기온의 최소값이 있는 행의 모든 정보 반환\n",
        "print('기상 관측 이래 안동에서 가장 추웠던 날 :', min_date)\n",
        "print('안동의 최저 기온 :', min_temp[1], '도')"
      ],
      "execution_count": null,
      "outputs": []
    },
    {
      "cell_type": "markdown",
      "metadata": {
        "id": "14jG93jUumVJ"
      },
      "source": [
        "## 출생 이후 매년 생일날의 최고 기온과 최저 기온의 변화를 라인 그래프로 그려보기\n",
        "(ex. 2000년 8월 1일생)"
      ]
    },
    {
      "cell_type": "code",
      "metadata": {
        "colab": {
          "base_uri": "https://localhost:8080/",
          "height": 390
        },
        "id": "4XzZvoTkumCo",
        "outputId": "b0f6fe31-24bb-4c12-81da-ae554c1bd07a"
      },
      "source": [
        "import numpy as np\n",
        "import pandas as pd\n",
        "import matplotlib.pyplot as plt\n",
        "\n",
        "temp_data = pd.read_csv('/gdrive/My Drive/Python/andongTemp.csv', encoding='utf-8')\n",
        "temp_data.set_index('날짜', inplace=True)\n",
        "highest_temp = [] # 2000년 8월 1일부터 2020년 8월 1일까지 하루동안의 최고 기온\n",
        "lowest_temp = [] # 2000년 8월 1일부터 2020년 8월 1일까지 하루동안의 최저 기온\n",
        "date = temp_data.index\n",
        "year = []\n",
        "for a in range(len(temp_data)):\n",
        "  if int(date[a].split('-')[0]) >= 2000:\n",
        "    if date[a].split('-')[1] == '08' and date[a].split('-')[2] == '01':\n",
        "      row = temp_data.iloc[a]\n",
        "      highest_temp.append(float(row[-1]))\n",
        "      lowest_temp.append(float(row[-2]))\n",
        "      year.append(int(date[a].split('-')[0]))\n",
        "\n",
        "plt.title('Temperature change on August 1')\n",
        "plt.plot(highest_temp, 'ro-') # 빨간색 표식 o 실선\n",
        "plt.plot(lowest_temp, 'bo-') # 파란색 표식 o 실선\n",
        "plt.xticks(np.arange(len(year)), year)\n",
        "plt.rcParams[\"figure.figsize\"] = (12, 6) # 가로 12인치 세로 6인치\n",
        "plt.show()"
      ],
      "execution_count": null,
      "outputs": [
        {
          "output_type": "display_data",
          "data": {
            "image/png": "[encoded data removed]",
            "text/plain": [
              "<Figure size 864x432 with 1 Axes>"
            ]
          },
          "metadata": {
            "tags": [],
            "needs_background": "light"
          }
        }
      ]
    },
    {
      "cell_type": "markdown",
      "metadata": {
        "id": "KrNn8sRQywkn"
      },
      "source": [
        "## 그래프에 한글로 제목 표시"
      ]
    },
    {
      "cell_type": "markdown",
      "metadata": {
        "id": "UHjXOGH_x0Ap"
      },
      "source": [
        "### 한글 폰트 사용하기"
      ]
    },
    {
      "cell_type": "code",
      "metadata": {
        "id": "cmdtApvox2QK"
      },
      "source": [
        "# 폰트 설치\n",
        "!apt -qq -y install fonts-nanum\n",
        "!apt-get install fonts-nanum* -qq"
      ],
      "execution_count": null,
      "outputs": []
    },
    {
      "cell_type": "markdown",
      "metadata": {
        "id": "25sy4V_wx_1x"
      },
      "source": [
        "[런타임] - [런타임 다시 시작]"
      ]
    },
    {
      "cell_type": "code",
      "metadata": {
        "id": "yQulzLsPyCoB"
      },
      "source": [
        "import matplotlib.pyplot as plt\n",
        "import numpy as np\n",
        "import matplotlib.font_manager as fm\n",
        "\n",
        "plt.rcParams['font.family'] = 'NanumGothic'\n",
        "plt.rcParams['font.size'] = 12\n",
        "fm._rebuild()"
      ],
      "execution_count": null,
      "outputs": []
    },
    {
      "cell_type": "markdown",
      "metadata": {
        "id": "tXHJqiOfyjms"
      },
      "source": [
        "### 위 \"2000년 이후 매년 8월 1일의 최고 기온과 최저 기온의 변화를 라인 그래프로 그려보기\" 아래의 코드를 다시 실행"
      ]
    },
    {
      "cell_type": "code",
      "metadata": {
        "colab": {
          "base_uri": "https://localhost:8080/",
          "height": 391
        },
        "id": "E-6OOXFEy3VW",
        "outputId": "f7e818c5-6c7f-4526-f397-7a9854bb8876"
      },
      "source": [
        "plt.title('8월 1일 온도 변화')\n",
        "plt.xticks(np.arange(len(year)), labels=year[:])\n",
        "plt.plot(highest_temp, 'ro-')\n",
        "plt.plot(lowest_temp, 'bo-')\n",
        "plt.show()"
      ],
      "execution_count": null,
      "outputs": [
        {
          "output_type": "display_data",
          "data": {
            "image/png": "[encoded data removed]",
            "text/plain": [
              "<Figure size 864x432 with 1 Axes>"
            ]
          },
          "metadata": {
            "tags": [],
            "needs_background": "light"
          }
        }
      ]
    },
    {
      "cell_type": "markdown",
      "metadata": {
        "id": "LFrgGzzCzy8B"
      },
      "source": [
        "## 최고 온도와 최저 온도를 막대 그래프로 그리기"
      ]
    },
    {
      "cell_type": "code",
      "metadata": {
        "id": "ST0VOgkAz2BU"
      },
      "source": [
        "x_pos = np.arange(len(year))\n",
        "plt.bar(x_pos-0.2, highest_temp, label='최고온도', width=0.4, color='red')\n",
        "plt.bar(x_pos+0.2, lowest_temp, label='최저온도', width=0.4, color='blue')\n",
        "plt.xticks(np.arange(len(year)), labels=year[:])\n",
        "plt.title('2000년 이후 매년 8월 1일 온도')\n",
        "plt.legend()\n",
        "plt.show()"
      ],
      "execution_count": null,
      "outputs": []
    }
  ]
}