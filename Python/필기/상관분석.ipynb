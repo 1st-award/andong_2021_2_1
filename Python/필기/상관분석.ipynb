{
  "nbformat": 4,
  "nbformat_minor": 0,
  "metadata": {
    "colab": {
      "name": "상관분석.ipynb",
      "provenance": [],
      "collapsed_sections": [],
      "toc_visible": true,
      "authorship_tag": "ABX9TyOK27bWpBXIYDo3c3Eq378d",
      "include_colab_link": true
    },
    "kernelspec": {
      "name": "python3",
      "display_name": "Python 3"
    },
    "language_info": {
      "name": "python"
    }
  },
  "cells": [
    {
      "cell_type": "markdown",
      "metadata": {
        "id": "view-in-github",
        "colab_type": "text"
      },
      "source": [
        "<a href=\"https://colab.research.google.com/github/1st-award/andong_2021_2_1/blob/main/Python/%ED%95%84%EA%B8%B0%20%EC%82%AC%EB%B3%B8/%EC%83%81%EA%B4%80%EB%B6%84%EC%84%9D.ipynb\" target=\"_parent\"><img src=\"https://colab.research.google.com/assets/colab-badge.svg\" alt=\"Open In Colab\"/></a>"
      ]
    },
    {
      "cell_type": "markdown",
      "metadata": {
        "id": "nMMIUodJqG-M"
      },
      "source": [
        "# 상관분석"
      ]
    },
    {
      "cell_type": "markdown",
      "metadata": {
        "id": "b77B3EIHqKaE"
      },
      "source": [
        "## 공분산(Convariance) 및 상관계수 (Correlation Coefficient)\n",
        "- **공분산** 두 개의 확률변수 사이의 상관 정도를 나타내는 값으로 두 변수가 함께 변화하는 정도를 나타내는 지표\n",
        "  - 공분산이 양수: 두 변수가 같은 방향으로 변화(하나가 증가하면 다른 하나도 증가)\n",
        "  - 공분산이 음수: 두 변수가 반대 방향으로 변화(하나가 증가하면 다른 하나는 감소)\n",
        "  - 공분산이 0: 두 변수가 독립. 즉, 한 변수의 변화가 다른 변수의 변화에 영향을 미치지 못함\n",
        "  - 공분산의 크기는 변수 값의 단위에 따라 달라지므로 절대적 크기로 두 변수 사이의 사오간관계를 판단하기 어려움\n",
        "- **상관계수**: 공분산을 -1에서 1 사이의 실수로 표준화시킨 값\n",
        "  - 칼 피어스(Karl Pearson)이 개발하여, 일반적으로 상관계수라고 하면 피어슨 상관계수를 말함\n",
        "  - 0.3 ~ 0.7: 뚜렷한 양적 선형 관계, 0.7 ~ 1.0: 강한 양적 선형 관계"
      ]
    },
    {
      "cell_type": "markdown",
      "metadata": {
        "id": "rbK-_KbBsMVC"
      },
      "source": [
        "## 당뇨병 진행도"
      ]
    },
    {
      "cell_type": "markdown",
      "metadata": {
        "id": "1hLi_4Y-sObq"
      },
      "source": [
        "### 필요한 라이브러리 가져오기"
      ]
    },
    {
      "cell_type": "code",
      "metadata": {
        "id": "_nTWui8TsMIe"
      },
      "source": [
        "import pandas as pd\n",
        "import numpy as np\n",
        "import matplotlib.pyplot as plt\n",
        "from sklearn import datasets"
      ],
      "execution_count": null,
      "outputs": []
    },
    {
      "cell_type": "markdown",
      "metadata": {
        "id": "cOZq9d5ysZHN"
      },
      "source": [
        "### 데이터 셋 읽고 확인하기"
      ]
    },
    {
      "cell_type": "code",
      "metadata": {
        "colab": {
          "base_uri": "https://localhost:8080/"
        },
        "id": "5xxegBQWqBHy",
        "outputId": "a86bee93-b075-4639-ec39-9f7d25fb8ecf"
      },
      "source": [
        "dataset = datasets.load_diabetes()\n",
        "dataset.keys()"
      ],
      "execution_count": null,
      "outputs": [
        {
          "output_type": "execute_result",
          "data": {
            "text/plain": [
              "dict_keys(['data', 'target', 'DESCR', 'feature_names', 'data_filename', 'target_filename'])"
            ]
          },
          "metadata": {
            "tags": []
          },
          "execution_count": 4
        }
      ]
    },
    {
      "cell_type": "markdown",
      "metadata": {
        "id": "SucT1JEGso5i"
      },
      "source": [
        "- target: 당뇨병 수치\n",
        "- feature_names: 나이(age), 성별(sex), 체질량지수(bmi), 혈압(bp), 6종류의 혈액 검사 수치(s1 ~ s6)"
      ]
    },
    {
      "cell_type": "code",
      "metadata": {
        "id": "E66ePjf_sn-u"
      },
      "source": [
        "# DESCR: description, dataset에 대한 설명\n",
        "print(dataset['DESCR'])"
      ],
      "execution_count": null,
      "outputs": []
    },
    {
      "cell_type": "code",
      "metadata": {
        "id": "nIBT00w1tIq1"
      },
      "source": [
        "dataset['data'].shape"
      ],
      "execution_count": null,
      "outputs": []
    },
    {
      "cell_type": "code",
      "metadata": {
        "id": "RMyLMz53tMBh"
      },
      "source": [
        "dataset['target'].shape"
      ],
      "execution_count": null,
      "outputs": []
    },
    {
      "cell_type": "code",
      "metadata": {
        "id": "zhi16pErtPY1"
      },
      "source": [
        "dataset['feature_names']"
      ],
      "execution_count": null,
      "outputs": []
    },
    {
      "cell_type": "code",
      "metadata": {
        "id": "SxxVF1GPtTRW"
      },
      "source": [
        "df = pd.DataFrame(dataset['data'], columns=dataset['feature_names'])\n",
        "df.head()"
      ],
      "execution_count": null,
      "outputs": []
    },
    {
      "cell_type": "code",
      "metadata": {
        "id": "j_8Ci3i1tl01"
      },
      "source": [
        "# 데이터프레임의 마지막 컬러므올 당뇨병수치(target)를 추가\n",
        "df['target'] = dataset['target']\n",
        "df.head()"
      ],
      "execution_count": null,
      "outputs": []
    },
    {
      "cell_type": "markdown",
      "metadata": {
        "id": "Q7nhz5-ztO4f"
      },
      "source": [
        "### 체질량지수(bmi)와 당뇨병수치(target) 사이의 상관관계 분석"
      ]
    },
    {
      "cell_type": "markdown",
      "metadata": {
        "id": "ER37bp1cuLrk"
      },
      "source": [
        "#### 산점도(Scatter plot)"
      ]
    },
    {
      "cell_type": "code",
      "metadata": {
        "id": "j_GT95_FuOq_"
      },
      "source": [
        "X = df['bmi'].values\n",
        "Y = df['target'].values\n",
        "plt.scatter(X, Y, alpha=0.5)\n",
        "plt.title(\"Correlation between BMI and diabetes levels\")\n",
        "plt.xlabel(\"BMI\")\n",
        "plt.ylabel(\"Target\")\n",
        "plt.show()"
      ],
      "execution_count": null,
      "outputs": []
    },
    {
      "cell_type": "markdown",
      "metadata": {
        "id": "c_y8x7IluroI"
      },
      "source": [
        "**체질량지수(bmi)와 당뇨병수치(target) 사이의 공분산 계산**"
      ]
    },
    {
      "cell_type": "code",
      "metadata": {
        "colab": {
          "base_uri": "https://localhost:8080/"
        },
        "id": "P3z2rd4OuwQC",
        "outputId": "5ce41648-3cd1-47b3-c855-1cd5977b634d"
      },
      "source": [
        "# 공식을 이용한 공분산 계산\n",
        "cov = np.mean(X*Y) - np.mean(X)*np.mean(Y)\n",
        "cov"
      ],
      "execution_count": null,
      "outputs": [
        {
          "output_type": "execute_result",
          "data": {
            "text/plain": [
              "2.148043575529701"
            ]
          },
          "metadata": {
            "tags": []
          },
          "execution_count": 18
        }
      ]
    },
    {
      "cell_type": "code",
      "metadata": {
        "id": "HA2rNUO4vGPE"
      },
      "source": [
        "# numpy의 공분산 계산 함수 이용\n",
        "cov = np.cov(X, Y)\n",
        "cov"
      ],
      "execution_count": null,
      "outputs": []
    },
    {
      "cell_type": "code",
      "metadata": {
        "id": "8cwZIE26vK6e"
      },
      "source": [
        "# numpy의 공분산 계산 함수 이용\n",
        "cov = np.cov(X, Y)[0, 1]\n",
        "cov"
      ],
      "execution_count": null,
      "outputs": []
    },
    {
      "cell_type": "markdown",
      "metadata": {
        "id": "WpVPN7LWvc2c"
      },
      "source": [
        "**체질량지수(bmi)와 당뇨병수치(target) 사이의 상관계수 계산**"
      ]
    },
    {
      "cell_type": "code",
      "metadata": {
        "id": "VHEf36HyvhEb"
      },
      "source": [
        "# 공식을 이용한 상관계수 계산\n",
        "corrCoef = cov / (np.sqrt(np.var(X))*np.sqrt(np.var(Y)))\n",
        "corrCoef"
      ],
      "execution_count": null,
      "outputs": []
    },
    {
      "cell_type": "code",
      "metadata": {
        "id": "iOdjF-dtvrpS"
      },
      "source": [
        "# 공식을 이용한 상관계수 계산\n",
        "corrCoef = cov / (np.std(X)*np.std(Y))\n",
        "corrCoef"
      ],
      "execution_count": null,
      "outputs": []
    },
    {
      "cell_type": "code",
      "metadata": {
        "id": "j_6rlXJzvxo2"
      },
      "source": [
        "# numpy의 상관계수 계산 함수 이용\n",
        "corrCoef = np.corrcoef(X, Y)\n",
        "corrCoef"
      ],
      "execution_count": null,
      "outputs": []
    },
    {
      "cell_type": "code",
      "metadata": {
        "id": "3yWe8R6Yv3nv"
      },
      "source": [
        "# numpy의 상관계수 계산 함수 이용\n",
        "corrCoef = np.corrcoef(X, Y)[0, 1]\n",
        "corrCoef"
      ],
      "execution_count": null,
      "outputs": []
    },
    {
      "cell_type": "markdown",
      "metadata": {
        "id": "8PHyjTmGv_Sd"
      },
      "source": [
        "체질량지수(bmi)와 당뇨병수치(target) 사이의 상관계수 0.566은 뚜렷한 양적 선형관계를 이루고 있다고 볼 수 있다."
      ]
    },
    {
      "cell_type": "markdown",
      "metadata": {
        "id": "k0CPhfCrwv4H"
      },
      "source": [
        "### seaborn 라이브러리로 그래프 그리기\n",
        "seabron은 matplotlib을 기본으로 해서 통계분석을 목적으로 그래프를 더 쉽게 그리기 위하여 고급 인터퍼에스를 제공하는 라이브러리이다."
      ]
    },
    {
      "cell_type": "code",
      "metadata": {
        "id": "CV9erkGQw7vV"
      },
      "source": [
        "import seaborn as sns\n",
        "sns.pairplot(df[[\"target\", \"bmi\", \"bp\", \"s1\"]])\n",
        "plt.show()"
      ],
      "execution_count": null,
      "outputs": []
    },
    {
      "cell_type": "markdown",
      "metadata": {
        "id": "_lLEw_6Lx28W"
      },
      "source": [
        "\n",
        "**과제: 혈압(bp)과 당뇨병 수치(target) 사이에 선형관계가 있는지 확인하기 위하여 상관계수를 계산하는 코드를 작성하시오.**"
      ]
    },
    {
      "cell_type": "code",
      "metadata": {
        "id": "8CedJjLfyByS"
      },
      "source": [
        "import pandas as pd\n",
        "import numpy as np\n",
        "import matplotlib.pyplot as plt\n",
        "from sklearn import datasets\n",
        "\n",
        "dataset = datasets.load_diabetes()\n",
        "df = pd.DataFrame(dataset['data'], columns=dataset['feature_names'])\n",
        "df['target'] = dataset['target']\n",
        "X = df['bp'].values\n",
        "Y = df['target'].values\n",
        "corrCoef = np.corrcoef(X, Y)[0, 1]\n",
        "corrCoef"
      ],
      "execution_count": null,
      "outputs": []
    }
  ]
}