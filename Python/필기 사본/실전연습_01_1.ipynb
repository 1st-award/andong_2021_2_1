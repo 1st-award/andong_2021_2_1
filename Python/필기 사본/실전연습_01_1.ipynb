{
  "nbformat": 4,
  "nbformat_minor": 0,
  "metadata": {
    "colab": {
      "name": "실전연습_01_1.ipynb",
      "provenance": [],
      "collapsed_sections": [],
      "authorship_tag": "ABX9TyPWx15Gwyh0M8LtSP/jCdBJ",
      "include_colab_link": true
    },
    "kernelspec": {
      "name": "python3",
      "display_name": "Python 3"
    }
  },
  "cells": [
    {
      "cell_type": "markdown",
      "metadata": {
        "id": "view-in-github",
        "colab_type": "text"
      },
      "source": [
        "<a href=\"https://colab.research.google.com/github/1st-award/andong_2021_2_1/blob/main/Python/%ED%95%84%EA%B8%B0%20%EC%82%AC%EB%B3%B8/%EC%8B%A4%EC%A0%84%EC%97%B0%EC%8A%B5_01_1.ipynb\" target=\"_parent\"><img src=\"https://colab.research.google.com/assets/colab-badge.svg\" alt=\"Open In Colab\"/></a>"
      ]
    },
    {
      "cell_type": "markdown",
      "metadata": {
        "id": "lH1tMEshWO4z"
      },
      "source": [
        "#print() 함수 작성 연습"
      ]
    },
    {
      "cell_type": "markdown",
      "metadata": {
        "id": "DDpLLQ6xWcgo"
      },
      "source": [
        "####1. 문자열 **날개야 다시 돋아라** 출력 명령"
      ]
    },
    {
      "cell_type": "code",
      "metadata": {
        "id": "E-A3dEYdWjzX"
      },
      "source": [
        ""
      ],
      "execution_count": null,
      "outputs": []
    },
    {
      "cell_type": "markdown",
      "metadata": {
        "id": "DKDlEClhWsJp"
      },
      "source": [
        "####2. 문자열 \"**한번만 더 날아보자꾸나**\"출력 명령\n"
      ]
    },
    {
      "cell_type": "code",
      "metadata": {
        "id": "lVEdLISzWy4B"
      },
      "source": [
        ""
      ],
      "execution_count": null,
      "outputs": []
    },
    {
      "cell_type": "markdown",
      "metadata": {
        "id": "VaAoxKQjXUtC"
      },
      "source": [
        "####3. 여러 문자열의 출력\n",
        "\n",
        "(예) 월요일 화요일 수요일 목요일 금요일"
      ]
    },
    {
      "cell_type": "code",
      "metadata": {
        "id": "Ncy3HhYyYHwV"
      },
      "source": [
        "print('월요일', '화요일', '수요일', '목요일', '금요일', sep= '')"
      ],
      "execution_count": null,
      "outputs": []
    },
    {
      "cell_type": "markdown",
      "metadata": {
        "id": "RIGlhKXtX68I"
      },
      "source": [
        "(예)월요일, 화요일, 수요일, 목요일, 금요일"
      ]
    },
    {
      "cell_type": "code",
      "metadata": {
        "colab": {
          "base_uri": "https://localhost:8080/"
        },
        "id": "WEeFsH3SYAQJ",
        "outputId": "0e1d4b96-fc43-4244-e539-2eef50d099b7"
      },
      "source": [
        ""
      ],
      "execution_count": null,
      "outputs": [
        {
          "output_type": "stream",
          "text": [
            "월요일,화요일,수요일,목요일,금요일\n"
          ],
          "name": "stdout"
        }
      ]
    },
    {
      "cell_type": "markdown",
      "metadata": {
        "id": "BboYMlC2YWUc"
      },
      "source": [
        "(예)월요일/화요일/수요일/목요일/금요일"
      ]
    },
    {
      "cell_type": "code",
      "metadata": {
        "colab": {
          "base_uri": "https://localhost:8080/"
        },
        "id": "BrVZ7oGHYaHX",
        "outputId": "468decd5-520b-435e-b2d3-4f1c4afaad0b"
      },
      "source": [
        ""
      ],
      "execution_count": null,
      "outputs": [
        {
          "output_type": "stream",
          "text": [
            "월요일/화요일/수요일/목요일/금요일\n"
          ],
          "name": "stdout"
        }
      ]
    },
    {
      "cell_type": "markdown",
      "metadata": {
        "id": "fKz7DTvYYk8j"
      },
      "source": [
        "####4. 다음 코드의 출력 결과를 예측하시오."
      ]
    },
    {
      "cell_type": "code",
      "metadata": {
        "id": "5C6I7_xsYqYQ"
      },
      "source": [
        "print('봄 꽃 피는날')\n",
        "print('난 알았습니다')"
      ],
      "execution_count": null,
      "outputs": []
    },
    {
      "cell_type": "code",
      "metadata": {
        "id": "S-8YGG2uY-jt",
        "colab": {
          "base_uri": "https://localhost:8080/"
        },
        "outputId": "24fd51b0-ee23-4071-dfcc-b64ad3afd70d"
      },
      "source": [
        "print('내 마음에도', end= ' ')\n",
        "print('꽃이 활짝 피어나는 걸')"
      ],
      "execution_count": null,
      "outputs": [
        {
          "output_type": "stream",
          "text": [
            "내 마음에도 꽃이 활짝 피어나는 걸\n"
          ],
          "name": "stdout"
        }
      ]
    },
    {
      "cell_type": "markdown",
      "metadata": {
        "id": "t_RxqR7yZTJi"
      },
      "source": [
        "####5. 다음 연산 결과는 얼마일까요?"
      ]
    },
    {
      "cell_type": "code",
      "metadata": {
        "id": "yjuNKEosZXpo",
        "colab": {
          "base_uri": "https://localhost:8080/"
        },
        "outputId": "52a1873f-f9c0-4b97-d4eb-2a36dbb362fd"
      },
      "source": [
        "13/5"
      ],
      "execution_count": null,
      "outputs": [
        {
          "output_type": "execute_result",
          "data": {
            "text/plain": [
              "2.6"
            ]
          },
          "metadata": {
            "tags": []
          },
          "execution_count": 2
        }
      ]
    },
    {
      "cell_type": "code",
      "metadata": {
        "id": "nHMG-m-DZZI6",
        "colab": {
          "base_uri": "https://localhost:8080/"
        },
        "outputId": "38e6cc60-47fa-4e39-cac2-1e1ac9960c1c"
      },
      "source": [
        "13//5"
      ],
      "execution_count": null,
      "outputs": [
        {
          "output_type": "execute_result",
          "data": {
            "text/plain": [
              "2"
            ]
          },
          "metadata": {
            "tags": []
          },
          "execution_count": 3
        }
      ]
    },
    {
      "cell_type": "code",
      "metadata": {
        "id": "RgZihHhJZati",
        "colab": {
          "base_uri": "https://localhost:8080/"
        },
        "outputId": "bbebf022-444c-44e5-d64f-cf180fb667fb"
      },
      "source": [
        "13%5"
      ],
      "execution_count": null,
      "outputs": [
        {
          "output_type": "execute_result",
          "data": {
            "text/plain": [
              "3"
            ]
          },
          "metadata": {
            "tags": []
          },
          "execution_count": 4
        }
      ]
    },
    {
      "cell_type": "code",
      "metadata": {
        "id": "mj3xr5q4ZcON",
        "colab": {
          "base_uri": "https://localhost:8080/"
        },
        "outputId": "d1626421-e0b2-41c0-8884-699110207b93"
      },
      "source": [
        "4*3**2"
      ],
      "execution_count": null,
      "outputs": [
        {
          "output_type": "execute_result",
          "data": {
            "text/plain": [
              "36"
            ]
          },
          "metadata": {
            "tags": []
          },
          "execution_count": 5
        }
      ]
    },
    {
      "cell_type": "markdown",
      "metadata": {
        "id": "nx-JLQYHZkJB"
      },
      "source": [
        "####6. 다음 코드의 출력 결과를 예측하시오."
      ]
    },
    {
      "cell_type": "code",
      "metadata": {
        "colab": {
          "base_uri": "https://localhost:8080/"
        },
        "id": "VrsR9GCqZoWb",
        "outputId": "de538006-7487-4eb6-e8bf-65713f83f86c"
      },
      "source": [
        "str1= '졸참나무'\n",
        "str2= '오솔길'\n",
        "\n",
        "print(str1, str2)\n",
        "print(str1+str2)"
      ],
      "execution_count": null,
      "outputs": [
        {
          "output_type": "stream",
          "text": [
            "졸참나무 오솔길\n",
            "졸참나무오솔길\n"
          ],
          "name": "stdout"
        }
      ]
    },
    {
      "cell_type": "markdown",
      "metadata": {
        "id": "NltneI22aCPV"
      },
      "source": [
        "####7. 변수의 자료형 확인\n",
        "\n",
        "type() 함수를 이용하여 변수의 자료형을 확인할 수 있습니다."
      ]
    },
    {
      "cell_type": "code",
      "metadata": {
        "id": "0rvvh6NraJyU"
      },
      "source": [
        "var= 100\n",
        "print(type(var))"
      ],
      "execution_count": null,
      "outputs": []
    },
    {
      "cell_type": "markdown",
      "metadata": {
        "id": "WOFvHt0KaOQu"
      },
      "source": [
        "다음 변수의 자료형을 확인하는 코드를 작성해보시오."
      ]
    },
    {
      "cell_type": "code",
      "metadata": {
        "id": "3jKEFyAclEyh"
      },
      "source": [
        "value= '230'"
      ],
      "execution_count": null,
      "outputs": []
    },
    {
      "cell_type": "markdown",
      "metadata": {
        "id": "lVfnLM7waXFy"
      },
      "source": [
        "####8. 자료형 변환 함수"
      ]
    },
    {
      "cell_type": "code",
      "metadata": {
        "id": "O9cWdT7kaa_W"
      },
      "source": [
        "kor= '100' #str\n",
        "math= '96.75' #str"
      ],
      "execution_count": null,
      "outputs": []
    },
    {
      "cell_type": "markdown",
      "metadata": {
        "id": "W7RvQ4zeafnk"
      },
      "source": [
        "위 코드의 변수 kor을 정수형(int)으로 변환하시오."
      ]
    },
    {
      "cell_type": "code",
      "metadata": {
        "colab": {
          "base_uri": "https://localhost:8080/"
        },
        "id": "wlT7e92Cak0U",
        "outputId": "b77333ed-c34b-4fb7-d153-a4af4b3eeb8f"
      },
      "source": [
        "int(kor)"
      ],
      "execution_count": null,
      "outputs": [
        {
          "output_type": "execute_result",
          "data": {
            "text/plain": [
              "100"
            ]
          },
          "metadata": {
            "tags": []
          },
          "execution_count": 8
        }
      ]
    },
    {
      "cell_type": "markdown",
      "metadata": {
        "id": "yb8ytEhvbBJP"
      },
      "source": [
        "위 코드의 변수 math를 실수형(float)으로 변환하시오."
      ]
    },
    {
      "cell_type": "code",
      "metadata": {
        "colab": {
          "base_uri": "https://localhost:8080/"
        },
        "id": "eiOTH83ZbGt9",
        "outputId": "236408b0-6061-452e-bcae-fca99606e102"
      },
      "source": [
        ""
      ],
      "execution_count": null,
      "outputs": [
        {
          "output_type": "stream",
          "text": [
            "96.75\n"
          ],
          "name": "stdout"
        }
      ]
    },
    {
      "cell_type": "markdown",
      "metadata": {
        "id": "0-BrbpLfbLRY"
      },
      "source": [
        "####9. 사용자로부터 수를 입력받아서 10 증가시키는 문제"
      ]
    },
    {
      "cell_type": "code",
      "metadata": {
        "colab": {
          "base_uri": "https://localhost:8080/"
        },
        "id": "By05j6v_bP2z",
        "outputId": "d3c7464c-6d0d-474d-dc96-1bfd8676659c"
      },
      "source": [
        "score= input('국어 점수: ')\n",
        "score= score+10\n",
        "print('국어 점수:', score)"
      ],
      "execution_count": null,
      "outputs": [
        {
          "output_type": "stream",
          "text": [
            "국어 점수: 30\n",
            "국어 점수: 40\n"
          ],
          "name": "stdout"
        }
      ]
    },
    {
      "cell_type": "markdown",
      "metadata": {
        "id": "sgKIvrfFbvLr"
      },
      "source": [
        "위의 코드의 오류를 해결하시오."
      ]
    },
    {
      "cell_type": "code",
      "metadata": {
        "id": "ryin6GcJbxWp"
      },
      "source": [
        ""
      ],
      "execution_count": null,
      "outputs": []
    },
    {
      "cell_type": "markdown",
      "metadata": {
        "id": "H1PLgjWjb_T6"
      },
      "source": [
        "####10. 사용자로부터 국어, 영어, 수학 점수를 입력 받아서 총점과 평균을 계산하여 출력하시오."
      ]
    },
    {
      "cell_type": "code",
      "metadata": {
        "colab": {
          "base_uri": "https://localhost:8080/"
        },
        "id": "tIrH4wGacE0n",
        "outputId": "323a15b9-9f58-47b5-a8f3-24a92c293fe6"
      },
      "source": [
        ""
      ],
      "execution_count": null,
      "outputs": [
        {
          "output_type": "stream",
          "text": [
            "국어 점수: 22\n",
            "영어 점수: 11\n",
            "수학 점수: 13\n",
            "총점:  46\n",
            "평균: 15.33\n"
          ],
          "name": "stdout"
        }
      ]
    }
  ]
}