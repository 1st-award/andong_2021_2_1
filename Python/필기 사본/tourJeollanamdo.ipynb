{
  "nbformat": 4,
  "nbformat_minor": 0,
  "metadata": {
    "colab": {
      "name": "tourJeollanamdo.ipynb",
      "provenance": [],
      "collapsed_sections": [],
      "authorship_tag": "ABX9TyN3wUMCAKmpe9Fqe9FgJZOy",
      "include_colab_link": true
    },
    "kernelspec": {
      "name": "python3",
      "display_name": "Python 3"
    },
    "language_info": {
      "name": "python"
    }
  },
  "cells": [
    {
      "cell_type": "markdown",
      "metadata": {
        "id": "view-in-github",
        "colab_type": "text"
      },
      "source": [
        "<a href=\"https://colab.research.google.com/github/1st-award/andong_2021_2_1/blob/main/Python/%ED%95%84%EA%B8%B0%20%EC%82%AC%EB%B3%B8/tourJeollanamdo.ipynb\" target=\"_parent\"><img src=\"https://colab.research.google.com/assets/colab-badge.svg\" alt=\"Open In Colab\"/></a>"
      ]
    },
    {
      "cell_type": "code",
      "metadata": {
        "id": "NdH1Iln2g4af"
      },
      "source": [
        "from google.colab import drive\n",
        "drive.mount('/gdrive', force_remount=True)"
      ],
      "execution_count": null,
      "outputs": []
    },
    {
      "cell_type": "code",
      "metadata": {
        "id": "yfQKnes2kfpo"
      },
      "source": [
        "import numpy as np\n",
        "import pandas as pd\n",
        "import folium"
      ],
      "execution_count": null,
      "outputs": []
    },
    {
      "cell_type": "code",
      "metadata": {
        "id": "z8b34RfZktRU"
      },
      "source": [
        "tourJ = pd.read_excel(\"/gdrive/My Drive/Python/tourJeollanamdo.xlsx\")\n",
        "cityhall = pd.read_excel(\"/gdrive/My Drive/Python/jeollanamdoCityhall.xlsx\")\n",
        "tourJ.tail()"
      ],
      "execution_count": null,
      "outputs": []
    },
    {
      "cell_type": "code",
      "metadata": {
        "id": "o8vCHZ9Olm_P"
      },
      "source": [
        "cityName = input(\"시/군 = \")\n",
        "cityTour = tourJ[tourJ['주소'].str.contains(cityName)]\n",
        "office = cityhall[cityhall['시군청'].str.contains(cityName)]\n",
        "cityTour"
      ],
      "execution_count": null,
      "outputs": []
    },
    {
      "cell_type": "code",
      "metadata": {
        "id": "vh-znaOEmcrE"
      },
      "source": [
        "office"
      ],
      "execution_count": null,
      "outputs": []
    },
    {
      "cell_type": "markdown",
      "metadata": {
        "id": "uHEqFYmfrGzU"
      },
      "source": [
        "## 전라남도 관광지도 만들기"
      ]
    },
    {
      "cell_type": "markdown",
      "metadata": {
        "id": "Frxr6dDnrNly"
      },
      "source": [
        "### 데이터 파일 읽기"
      ]
    },
    {
      "cell_type": "code",
      "metadata": {
        "id": "NyBicT5qrGKi"
      },
      "source": [
        "import numpy as np\n",
        "import pandas as pd\n",
        "import folium\n",
        "from google.colab import drive\n",
        "drive.mount('/gdrive', force_remount=True)"
      ],
      "execution_count": null,
      "outputs": []
    },
    {
      "cell_type": "code",
      "metadata": {
        "id": "vzI6Ie9zmhYj"
      },
      "source": [
        "tourJ = pd.read_excel(\"/gdrive/My Drive/Python/tourJeollanamdo.xlsx\")\n",
        "cityhall = pd.read_excel(\"/gdrive/My Drive/Python/jeollanamdoCityhall.xlsx\")\n",
        "tourJ.tail()"
      ],
      "execution_count": null,
      "outputs": []
    },
    {
      "cell_type": "code",
      "metadata": {
        "id": "-ds2F3zGrhR1"
      },
      "source": [
        "cityName = input(\"시/군 = \")\n",
        "cityTour = tourJ[tourJ['주소'].str.contains(cityName)]\n",
        "office = cityhall[cityhall['시군청'].str.contains(cityName)]\n",
        "cityTour"
      ],
      "execution_count": null,
      "outputs": []
    },
    {
      "cell_type": "markdown",
      "metadata": {
        "id": "lYucM17sy5Cd"
      },
      "source": [
        "### Marker 사용"
      ]
    },
    {
      "cell_type": "code",
      "metadata": {
        "id": "2G2WBtBkri0i"
      },
      "source": [
        "# 지도의 중심 위치 잡기\n",
        "lati, longi = office.iat[0, 1], office.iat[0, 2]\n",
        "tourInfo = folium.Map(location=[lati, longi], zoom_start=13)\n",
        "\n",
        "# 해당지역의 관광명소들을 지도에 표시\n",
        "for i in range(len(cityTour)):\n",
        "  location=cityTour.iloc[i, 2], cityTour.iloc[i, 3]\n",
        "  marker = folium.Marker(location, tooltip = cityTour.iloc[i, 0], \n",
        "                         icon=folium.Icon(icon='info-sign', color='red'))\n",
        "  marker.add_to(tourInfo)\n",
        "# 지도 위의 관광명소 표식을 확인\n",
        "tourInfo"
      ],
      "execution_count": null,
      "outputs": []
    },
    {
      "cell_type": "markdown",
      "metadata": {
        "id": "NAk84ZO_y6_3"
      },
      "source": [
        "### CircleMarker 사용"
      ]
    },
    {
      "cell_type": "code",
      "metadata": {
        "id": "1SZmY1ZZuPXq"
      },
      "source": [
        "# 지도의 중심 위치 잡기\n",
        "lati, longi = office.iat[0, 1], office.iat[0, 2]\n",
        "tourInfo = folium.Map(location=[lati, longi], zoom_start=13)\n",
        "\n",
        "# 해당지역의 관광명소들을 지도에 표시\n",
        "for i in range(len(cityTour)):\n",
        "  location=cityTour.iloc[i, 2], cityTour.iloc[i, 3]\n",
        "  marker = folium.CircleMarker(location, tooltip = cityTour.iloc[i, 0], \n",
        "                         radius=10, color='red', fill_color='red')\n",
        "  marker.add_to(tourInfo)\n",
        "# 지도 위의 관광명소 표식을 확인\n",
        "tourInfo"
      ],
      "execution_count": null,
      "outputs": []
    },
    {
      "cell_type": "markdown",
      "metadata": {
        "id": "T8Y7S7TIy9QX"
      },
      "source": [
        "### RegularPolygonMarker 사용"
      ]
    },
    {
      "cell_type": "code",
      "metadata": {
        "id": "zso1X_i7wXw4"
      },
      "source": [
        "# 지도의 중심 위치 잡기\n",
        "lati, longi = office.iat[0, 1], office.iat[0, 2]\n",
        "tourInfo = folium.Map(location=[lati, longi], zoom_start=13)\n",
        "\n",
        "# 해당지역의 관광명소들을 지도에 표시\n",
        "for i in range(len(cityTour)):\n",
        "  location=cityTour.iloc[i, 2], cityTour.iloc[i, 3]\n",
        "  marker = folium.RegularPolygonMarker(location, tooltip = cityTour.iloc[i, 0], \n",
        "                         number_of_sides=4, radius=10, color='blue', fill_color='blue')\n",
        "  marker.add_to(tourInfo)\n",
        "# 지도 위의 관광명소 표식을 확인\n",
        "tourInfo"
      ],
      "execution_count": null,
      "outputs": []
    },
    {
      "cell_type": "markdown",
      "metadata": {
        "id": "JiPAtLsqzAdd"
      },
      "source": [
        "### 전체 결과물 (Marker)"
      ]
    },
    {
      "cell_type": "code",
      "metadata": {
        "id": "FAg1naPgw7mo"
      },
      "source": [
        "import numpy as np\n",
        "import pandas as pd\n",
        "import folium\n",
        "from google.colab import drive\n",
        "drive.mount('/gdrive', force_remount=True)\n",
        "\n",
        "tourJ = pd.read_excel(\"/gdrive/My Drive/Python/tourJeollanamdo.xlsx\")\n",
        "cityhall = pd.read_excel(\"/gdrive/My Drive/Python/jeollanamdoCityhall.xlsx\")\n",
        "\n",
        "cityName = input(\"시/군 = \")\n",
        "cityTour = tourJ[tourJ['주소'].str.contains(cityName)]\n",
        "office = cityhall[cityhall['시군청'].str.contains(cityName)]\n",
        "\n",
        "# 지도의 중심 위치 잡기\n",
        "lati, longi = office.iat[0, 1], office.iat[0, 2]\n",
        "tourInfo = folium.Map(location=[lati, longi], zoom_start=13)\n",
        "\n",
        "# 해당지역의 관광명소들을 지도에 표시\n",
        "for i in range(len(cityTour)):\n",
        "  location=cityTour.iloc[i, 2], cityTour.iloc[i, 3]\n",
        "  marker = folium.Marker(location, tooltip = '[' + cityTour.iloc[i, 0] + ']' + cityTour.iloc[i, 1], \n",
        "                         icon = folium.Icon(icon = 'info-sign', color='red'))\n",
        "  marker.add_to(tourInfo)\n",
        "# 지도 위의 관광명소 표식을 확인\n",
        "tourInfo"
      ],
      "execution_count": null,
      "outputs": []
    },
    {
      "cell_type": "markdown",
      "metadata": {
        "id": "HAvprZEdzD4P"
      },
      "source": [
        "### 전체 결과물2 (CircleMarker)"
      ]
    },
    {
      "cell_type": "code",
      "metadata": {
        "id": "NEOhXYkdyeHk"
      },
      "source": [
        "import numpy as np\n",
        "import pandas as pd\n",
        "import folium\n",
        "from google.colab import drive\n",
        "drive.mount('/gdrive', force_remount=True)\n",
        "\n",
        "tourJ = pd.read_excel(\"/gdrive/My Drive/Python/tourJeollanamdo.xlsx\")\n",
        "cityhall = pd.read_excel(\"/gdrive/My Drive/Python/jeollanamdoCityhall.xlsx\")\n",
        "\n",
        "cityName = input(\"시/군 = \")\n",
        "cityTour = tourJ[tourJ['주소'].str.contains(cityName)]\n",
        "office = cityhall[cityhall['시군청'].str.contains(cityName)]\n",
        "\n",
        "# 지도의 중심 위치 잡기\n",
        "lati, longi = office.iat[0, 1], office.iat[0, 2]\n",
        "tourInfo = folium.Map(location=[lati, longi], zoom_start=13)\n",
        "\n",
        "# 해당지역의 관광명소들을 지도에 표시\n",
        "for i in range(len(cityTour)):\n",
        "  location=cityTour.iloc[i, 2], cityTour.iloc[i, 3]\n",
        "  marker = folium.CircleMarker(location, tooltip = '[' + cityTour.iloc[i, 0] + ']' + cityTour.iloc[i, 1], \n",
        "                         radius=10, color='red', fill_color='red')\n",
        "  marker.add_to(tourInfo)\n",
        "# 지도 위의 관광명소 표식을 확인\n",
        "tourInfo"
      ],
      "execution_count": null,
      "outputs": []
    },
    {
      "cell_type": "markdown",
      "metadata": {
        "id": "ehcG0vjlspJs"
      },
      "source": [
        "##경상북도 관광명소"
      ]
    },
    {
      "cell_type": "code",
      "metadata": {
        "id": "bCS60pdjssBR"
      },
      "source": [
        "import numpy as np\n",
        "import pandas as pd\n",
        "import folium\n",
        "from google.colab import drive\n",
        "drive.mount('/gdrive', force_remount=True)\n",
        "\n",
        "tourG = pd.read_excel(\"/gdrive/My Drive/Python/tripGyeongsangbookdo.xlsx\")\n",
        "cityhall = pd.read_excel(\"/gdrive/My Drive/Python/gyeongsangbookdoCityhall.xlsx\")\n",
        "\n",
        "cityName = input(\"시/군 = \")\n",
        "cityTour = tourG[tourG['주소'].str.contains(cityName)]\n",
        "office = cityhall[cityhall['시군청'].str.contains(cityName)]\n",
        "\n",
        "# 지도의 중심 위치 잡기\n",
        "lati, longi = office.iat[0, 1], office.iat[0, 2]\n",
        "tourInfo = folium.Map(location=[lati, longi], zoom_start=10)\n",
        "\n",
        "# 해당지역의 관광명소들을 지도에 표시\n",
        "for i in range(len(cityTour)):\n",
        "  location=cityTour.iloc[i, 2], cityTour.iloc[i, 3]\n",
        "  marker = folium.CircleMarker(location, tooltip = '[' + cityTour.iloc[i, 0] + ']' + cityTour.iloc[i, 1], \n",
        "                         radius=10, color='red', fill_color='red')\n",
        "  marker.add_to(tourInfo)\n",
        "# 지도 위의 관광명소 표식을 확인\n",
        "tourInfo"
      ],
      "execution_count": null,
      "outputs": []
    }
  ]
}