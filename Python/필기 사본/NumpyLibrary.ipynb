{
  "nbformat": 4,
  "nbformat_minor": 0,
  "metadata": {
    "colab": {
      "name": "NumpyLibrary.ipynb",
      "provenance": [],
      "collapsed_sections": [],
      "toc_visible": true,
      "authorship_tag": "ABX9TyOJGO+lGpAn5+PaznXJzEzq",
      "include_colab_link": true
    },
    "kernelspec": {
      "name": "python3",
      "display_name": "Python 3"
    },
    "language_info": {
      "name": "python"
    }
  },
  "cells": [
    {
      "cell_type": "markdown",
      "metadata": {
        "id": "view-in-github",
        "colab_type": "text"
      },
      "source": [
        "<a href=\"https://colab.research.google.com/github/1st-award/andong_2021_2_1/blob/main/Python/%ED%95%84%EA%B8%B0%20%EC%82%AC%EB%B3%B8/NumpyLibrary.ipynb\" target=\"_parent\"><img src=\"https://colab.research.google.com/assets/colab-badge.svg\" alt=\"Open In Colab\"/></a>"
      ]
    },
    {
      "cell_type": "markdown",
      "metadata": {
        "id": "FOKBTTNmUqYw"
      },
      "source": [
        "Numpy 라이브러리\n",
        "- Numerical Python의 줄임말로 python으로 수치를 계산하기 위한 라이브러리\n",
        "- Python의 숫자 데이터와 관련된 대부분의 과학 응용 프로그램에 필요한 데이터 구조, 알고리즘 및 라이브러리 연결고리를 제공\n",
        "- 다차원 배열을 효율적으로 구현할 수 있고 빠르고 편리하게 벡터 및 행렬 연산이 가능\n",
        "- 데이터 분석에서 주요 용도 중 하나는 알고리즘과 라이브러리간에 데이터를 전달하는 컨테이너 역할 수행"
      ]
    },
    {
      "cell_type": "markdown",
      "metadata": {
        "id": "gd7TRTq-VCGk"
      },
      "source": [
        "# 1. 라이브러리 포함"
      ]
    },
    {
      "cell_type": "code",
      "metadata": {
        "id": "pfU2Ljo-UnPN"
      },
      "source": [
        "import numpy as np # numpy로 쓰지않고 np로 쓰겠다"
      ],
      "execution_count": null,
      "outputs": []
    },
    {
      "cell_type": "markdown",
      "metadata": {
        "id": "iCqlgX8TVPQD"
      },
      "source": [
        "# 2. numpy array와 python list의 비교\n",
        "- python list\n",
        "  - 하나의 list에 데이터 유형이 다른 여러 원소를 포함할 수 있다.<br>\n",
        "  ```student = ['2021000', '홍길동', 21, '남']```\n",
        "  - insert(), append(), pop() 및 remove() 함수를 이용하여 list의 크기를 동적으로 변경가능\n",
        "- numpy array\n",
        "  - 동일한 종류의 데이터 유형을 갖는 n차원 배열의 캡슐화<br>\n",
        "  ```score = np.array([6, 7.5, 8, 0, 1])```\n",
        "  - numpy 배열은 생성 시 고정된 크기를갖으며, ndarray의 크기를 변경하면 새로운 배열이 생성되고 원본은 삭제된다.\n",
        "  - numpy 배열은 많은 수의 데이터에 대한 고급 수학 및 기타 유형의 연상이 용이"
      ]
    },
    {
      "cell_type": "code",
      "metadata": {
        "id": "pZZgV26dVsEj"
      },
      "source": [
        "stList = ['2021000', \"홍길동\", 21, \"남\"]\n",
        "stList"
      ],
      "execution_count": null,
      "outputs": []
    },
    {
      "cell_type": "code",
      "metadata": {
        "id": "3pTQPBc6Wp-u"
      },
      "source": [
        "stList.append(4.3) # 기존의 stList의 마지막에 4.3이라는 원소가 추가\n",
        "stList"
      ],
      "execution_count": null,
      "outputs": []
    },
    {
      "cell_type": "code",
      "metadata": {
        "id": "1FdSK_4dW4AV"
      },
      "source": [
        "stArr = np.array([6, 7.5, 8, 0, 1])\n",
        "stArr"
      ],
      "execution_count": null,
      "outputs": []
    },
    {
      "cell_type": "code",
      "metadata": {
        "id": "3iHbPsP1YVuo"
      },
      "source": [
        "np.append(stArr, [4.3]) # 임시로 추가하고 stArr에는 추가가 안됨\n",
        "stArr"
      ],
      "execution_count": null,
      "outputs": []
    },
    {
      "cell_type": "code",
      "metadata": {
        "id": "2ChMD9i_XBPC"
      },
      "source": [
        "stArr =np.append(stArr, [4.3]) # 원래 있던 stArr은 삭제되고 새로운 starr이 생성\n",
        "stArr"
      ],
      "execution_count": null,
      "outputs": []
    },
    {
      "cell_type": "code",
      "metadata": {
        "id": "zPe7RJZVYdw8"
      },
      "source": [
        "my_arr = np.arange(1000000) # numpy의 array\n",
        "my_list = list(range(1000000)) # python의 list"
      ],
      "execution_count": null,
      "outputs": []
    },
    {
      "cell_type": "code",
      "metadata": {
        "id": "ykEORlAuYnbT"
      },
      "source": [
        "my_arr"
      ],
      "execution_count": null,
      "outputs": []
    },
    {
      "cell_type": "code",
      "metadata": {
        "id": "poit14LRYySJ"
      },
      "source": [
        "my_list"
      ],
      "execution_count": null,
      "outputs": []
    },
    {
      "cell_type": "code",
      "metadata": {
        "colab": {
          "base_uri": "https://localhost:8080/"
        },
        "id": "tlErrmKoYr1j",
        "outputId": "d28979fc-37cd-4bb6-f4ea-a89330bf3503"
      },
      "source": [
        "%time for _ in range(10): my_arr2 = my_arr *2"
      ],
      "execution_count": null,
      "outputs": [
        {
          "output_type": "stream",
          "text": [
            "CPU times: user 13 ms, sys: 8.05 ms, total: 21 ms\n",
            "Wall time: 25.1 ms\n"
          ],
          "name": "stdout"
        }
      ]
    },
    {
      "cell_type": "code",
      "metadata": {
        "colab": {
          "base_uri": "https://localhost:8080/"
        },
        "id": "_EAgr-VEY4Pi",
        "outputId": "ad90e207-7028-4a76-f9c8-6ce32336c592"
      },
      "source": [
        "%time for _ in range(10): my_list2 = [x * 2 for x in my_list]"
      ],
      "execution_count": null,
      "outputs": [
        {
          "output_type": "stream",
          "text": [
            "CPU times: user 754 ms, sys: 171 ms, total: 926 ms\n",
            "Wall time: 934 ms\n"
          ],
          "name": "stdout"
        }
      ]
    },
    {
      "cell_type": "markdown",
      "metadata": {
        "id": "Rry_qfB2ZPCo"
      },
      "source": [
        "**numpy 기반 알고리즘은 일반적으로 순수한 python 알고리즘보다 10 ~ 100배 더 빠르며 메로리를 훨씬 적게 사용한다.**"
      ]
    },
    {
      "cell_type": "markdown",
      "metadata": {
        "id": "aDkdHQIPZZSi"
      },
      "source": [
        "# 3. Creating ndarrays\n",
        "## **1차원 numpy array의 생성**\n",
        "\n",
        "## numpy array의 생성과 정보확인"
      ]
    },
    {
      "cell_type": "code",
      "metadata": {
        "colab": {
          "base_uri": "https://localhost:8080/"
        },
        "id": "q1iUKTFeZiqE",
        "outputId": "ddea01ec-ebc9-4750-b15c-d125e94fe468"
      },
      "source": [
        "# numpy 배열 score의 생성과 차원확인\n",
        "score = np.array([4.8, 3.6, 3.7, 4.2, 5.0, 2.8], dtype=\"float32\")\n",
        "score.ndim # 배열 score의 차원 확인"
      ],
      "execution_count": null,
      "outputs": [
        {
          "output_type": "execute_result",
          "data": {
            "text/plain": [
              "1"
            ]
          },
          "metadata": {
            "tags": []
          },
          "execution_count": 13
        }
      ]
    },
    {
      "cell_type": "code",
      "metadata": {
        "id": "WIdimGd5Zu-T"
      },
      "source": [
        "# 배열 score의 모양 확인\n",
        "score.shape"
      ],
      "execution_count": null,
      "outputs": []
    },
    {
      "cell_type": "code",
      "metadata": {
        "id": "XNblAkVgZ0JL"
      },
      "source": [
        "# 배열 score에 포함된 원소의 자료형 확인\n",
        "score.dtype"
      ],
      "execution_count": null,
      "outputs": []
    },
    {
      "cell_type": "markdown",
      "metadata": {
        "id": "4zv6bv_oZ66M"
      },
      "source": [
        "#### **numpy의 자료형**\n",
        "#### 자료형 뒤에 붙은 숫자는 자료의 크기(비트 수)를 의미\n",
        "- 부호가 있는 정수: int8, int16, int32, int64\n",
        "- 부호가 없는 정수: unit8, unit16, unit32, unit64\n",
        "- 실수: float16, float32, float64, float128\n",
        "- 복소수: complex64, complex128, complex256\n",
        "- 불리언: bool\n",
        "- 문자열: string_\n",
        "- 파이썬 오브젝트: object"
      ]
    },
    {
      "cell_type": "markdown",
      "metadata": {
        "id": "awyd_XpEaoLE"
      },
      "source": [
        "#### **2차원 numpy array의 생성**"
      ]
    },
    {
      "cell_type": "code",
      "metadata": {
        "id": "BkYh4JPhar9i"
      },
      "source": [
        "data2 = [[1, 2, 3, 4], [5, 6, 7, 8]]\n",
        "arr2 = np.array(data2, dtype=\"int32\")\n",
        "arr2"
      ],
      "execution_count": null,
      "outputs": []
    },
    {
      "cell_type": "code",
      "metadata": {
        "id": "HGgtjOjTa3xC"
      },
      "source": [
        "# 배열 arr2의 차원 확인\n",
        "arr2.ndim"
      ],
      "execution_count": null,
      "outputs": []
    },
    {
      "cell_type": "code",
      "metadata": {
        "id": "wcF03bYia59b"
      },
      "source": [
        "# 배열 arr2의 모양 확인\n",
        "arr2.shape"
      ],
      "execution_count": null,
      "outputs": []
    },
    {
      "cell_type": "code",
      "metadata": {
        "id": "otnkggEfo55C"
      },
      "source": [
        "# 배열 arr2에 포함된 데이터의 유형 확인\n",
        "arr2.dtype"
      ],
      "execution_count": null,
      "outputs": []
    },
    {
      "cell_type": "code",
      "metadata": {
        "id": "rKNW2qtTpHAR"
      },
      "source": [
        "# 연속적인 수를 원소로 갖는 2차원 배열 생성\n",
        "seq15_2d = np.arange(15).reshape(3, 5)\n",
        "seq15_2d"
      ],
      "execution_count": null,
      "outputs": []
    },
    {
      "cell_type": "code",
      "metadata": {
        "id": "WlhJq0DnpmrZ"
      },
      "source": [
        "# 3행 3열의 단위행렬(정사각형구조) 생성\n",
        "iA = np.identity(3) # 3*3배열의 배열이 만들어지고 대각선으로 1이 저장되며 나머지 배열에는 0으로 채워진다\n",
        "iA"
      ],
      "execution_count": null,
      "outputs": []
    },
    {
      "cell_type": "markdown",
      "metadata": {
        "id": "uFiHlgFHpwuE"
      },
      "source": [
        "##### 새로운 배열 생성\n",
        "\n",
        "np.array외에도 새 배열을 생성하기위한 여러 다른 함수가 있습니다. 예들 들어, 0과 1은 각각 주어진 길이 또는 모양으로 0 또는 1의 배열을 만듭니다. empty는 값을 특정 값으로 초기화하지 않고 배열을 만듭니다. 이러한 메서드를 사용하여 더 높은 차원의 배열을 만들려면 모양에 대한 튜플을 전달합니다."
      ]
    },
    {
      "cell_type": "code",
      "metadata": {
        "id": "FNvejQUxpv7A"
      },
      "source": [
        "# 원소로 10개의 0.0을 가지고 있는 실수형의 일차원 배열 생성\n",
        "a0 = np.zeros(10)\n",
        "a0"
      ],
      "execution_count": null,
      "outputs": []
    },
    {
      "cell_type": "code",
      "metadata": {
        "id": "gJxPm5JQq2yB"
      },
      "source": [
        "# 원소로 10개의 1.0을 가지고 있는 실수형의 일차원 배열 생성\n",
        "a1 = np.ones(10)\n",
        "a1"
      ],
      "execution_count": null,
      "outputs": []
    },
    {
      "cell_type": "code",
      "metadata": {
        "id": "8FEHmod8q__1"
      },
      "source": [
        "# 5개의 정수 1을 원소로 갖는 일차원 배열 생성\n",
        "a1_5 = np.ones(5, dtype=\"int32\")\n",
        "a1_5"
      ],
      "execution_count": null,
      "outputs": []
    },
    {
      "cell_type": "code",
      "metadata": {
        "id": "nTxMuB8brdeO"
      },
      "source": [
        "# 0.0을 원소로 가지는 3행 6열의 이차원 배열 생성\n",
        "s = (3, 6)\n",
        "a0_36 = np.zeros(s)\n",
        "a0_36"
      ],
      "execution_count": null,
      "outputs": []
    },
    {
      "cell_type": "code",
      "metadata": {
        "id": "01r8kXiJrnKx"
      },
      "source": [
        "# 3차원의 빈 배열 생성 - 실제로 비었을까?\n",
        "emp = np.empty((2, 3, 4))\n",
        "emp"
      ],
      "execution_count": null,
      "outputs": []
    },
    {
      "cell_type": "code",
      "metadata": {
        "id": "JT0SgQ7oryMS"
      },
      "source": [
        "# 2행 3열의 행렬을 생성하고 모든 원소를 5.0으로 채우기\n",
        "arrValue5_1 = np.zeros((2, 3)) + 5\n",
        "arrValue5_1"
      ],
      "execution_count": null,
      "outputs": []
    },
    {
      "cell_type": "code",
      "metadata": {
        "id": "StT1hFBRsNeg"
      },
      "source": [
        "arrValue5_2 = np.ones((2, 3)) *5\n",
        "arrValue5_2"
      ],
      "execution_count": null,
      "outputs": []
    },
    {
      "cell_type": "code",
      "metadata": {
        "id": "_Bs1r9mpswnc"
      },
      "source": [
        "arrValue5_3 = np.full((2,3), 5.0)\n",
        "arrValue5_3"
      ],
      "execution_count": null,
      "outputs": []
    },
    {
      "cell_type": "markdown",
      "metadata": {
        "id": "9kzifXdctHj5"
      },
      "source": [
        "## 4. ndarrays의 자료형 변환\n",
        "- numpy의 데이터 형태: Boolean, Integer, Unsigned Integer, Float, Complex, string\n",
        "  - Integer: int8, int16, int32, int64\n",
        "  - Unsigned Integer: unit8, unit16, unit32, unit64\n",
        "  - float: float16, float 32, float 64\n",
        "- **Numpy의 데이터 형태 지정하기** \n"
      ]
    },
    {
      "cell_type": "code",
      "metadata": {
        "id": "dVywjIcJtnHM"
      },
      "source": [
        "arrOnes = np.ones(10, dtype=\"float32\")\n",
        "arrOnes"
      ],
      "execution_count": null,
      "outputs": []
    },
    {
      "cell_type": "code",
      "metadata": {
        "id": "T_hMe6MHt7Wp"
      },
      "source": [
        "arrOnesi = arrOnes.astype('int32')\n",
        "arrOnesi"
      ],
      "execution_count": null,
      "outputs": []
    },
    {
      "cell_type": "code",
      "metadata": {
        "id": "S5r44BE0uZRD"
      },
      "source": [
        "arr1 = np.array([1, 2, 3], dtype = \"int32\")\n",
        "arr1.dtype"
      ],
      "execution_count": null,
      "outputs": []
    },
    {
      "cell_type": "code",
      "metadata": {
        "id": "fmoS8WOMu8rx"
      },
      "source": [
        "arr2 = np.array([3.7, -1.2, -2.6, 0.5, 12.9, 10.1], dtype=\"float32\")\n",
        "arr2.dtype"
      ],
      "execution_count": null,
      "outputs": []
    },
    {
      "cell_type": "code",
      "metadata": {
        "id": "Sn0P-3ZuvJPy"
      },
      "source": [
        "arr3 = arr1.astype(\"float64\") # 자료형의 변환\n",
        "arr3"
      ],
      "execution_count": null,
      "outputs": []
    },
    {
      "cell_type": "code",
      "metadata": {
        "id": "NTnlABcsvR_A"
      },
      "source": [
        "# 실수를 원소로 갖는 배열 생성\n",
        "arr4 = np.array([3.7, -1.2, -2.6, 0.5, 12.9, 10.1])\n",
        "arr4"
      ],
      "execution_count": null,
      "outputs": []
    },
    {
      "cell_type": "code",
      "metadata": {
        "id": "3Zpy2vZovZuV"
      },
      "source": [
        "# 실수형 원소를 정수형으로 변환하여 로운 numpy 배열에 저장\n",
        "arr5 = arr4.astype(\"int32\")\n",
        "arr5"
      ],
      "execution_count": null,
      "outputs": []
    },
    {
      "cell_type": "markdown",
      "metadata": {
        "id": "KTdYseWzySj8"
      },
      "source": [
        "## 5. Numpy 인덱싱(Indexing)과 슬라이싱(Slicing)"
      ]
    },
    {
      "cell_type": "code",
      "metadata": {
        "colab": {
          "base_uri": "https://localhost:8080/"
        },
        "id": "irnQwa6SyXgi",
        "outputId": "d053fc59-3eab-4b92-c1d9-371aa237d6c8"
      },
      "source": [
        "arr = np.arange(12).reshape(3, 4)\n",
        "arr"
      ],
      "execution_count": null,
      "outputs": [
        {
          "output_type": "execute_result",
          "data": {
            "text/plain": [
              "array([[ 0,  1,  2,  3],\n",
              "       [ 4,  5,  6,  7],\n",
              "       [ 8,  9, 10, 11]])"
            ]
          },
          "metadata": {
            "tags": []
          },
          "execution_count": 61
        }
      ]
    },
    {
      "cell_type": "code",
      "metadata": {
        "colab": {
          "base_uri": "https://localhost:8080/"
        },
        "id": "-EZIk392ydTS",
        "outputId": "bf124ce5-f7da-489e-b780-56f0c0fc08aa"
      },
      "source": [
        "# 인덱싱\n",
        "print(\"arr[1][3] = \", arr[1, 3])\n",
        "print(\"arr[2, 3] = \", arr[2][2])"
      ],
      "execution_count": null,
      "outputs": [
        {
          "output_type": "stream",
          "text": [
            "arr[1][3] =  7\n",
            "arr[2, 3] =  10\n"
          ],
          "name": "stdout"
        }
      ]
    },
    {
      "cell_type": "code",
      "metadata": {
        "id": "b4cf32O0zEL8"
      },
      "source": [
        "arr = np.arange(16).reshape(4, 4)\n",
        "arr"
      ],
      "execution_count": null,
      "outputs": []
    },
    {
      "cell_type": "code",
      "metadata": {
        "colab": {
          "base_uri": "https://localhost:8080/"
        },
        "id": "9AygKljtzNE6",
        "outputId": "f37eab96-b87c-4e40-9d84-8029765770f5"
      },
      "source": [
        "# 슬라이싱\n",
        "sub00 = arr[:2, :2]\n",
        "sub01 = arr[:2, 2:]\n",
        "sub10 = arr[2:, :2]\n",
        "sub11 = arr[2:, 2:]\n",
        "sub11"
      ],
      "execution_count": null,
      "outputs": [
        {
          "output_type": "execute_result",
          "data": {
            "text/plain": [
              "array([[10, 11],\n",
              "       [14, 15]])"
            ]
          },
          "metadata": {
            "tags": []
          },
          "execution_count": 67
        }
      ]
    },
    {
      "cell_type": "code",
      "metadata": {
        "id": "fWqvar3b0Ybu"
      },
      "source": [
        "## 6. Numpy 연산\n",
        "- 사칙연산\n",
        "  - 연산자: + - * /\n",
        "  - 함수: add(), subtract(), multiply(), divide()"
      ],
      "execution_count": null,
      "outputs": []
    },
    {
      "cell_type": "code",
      "metadata": {
        "id": "s3VJ9v8d0npP"
      },
      "source": [
        "a = np.array([2, 4, 6, 8, 10])\n",
        "b = np.array([3, 5, 6, 2, 8])\n",
        "\n",
        "hap = np.add(a, b) \n",
        "cha = np.subtract(a, b)\n",
        "gob = np.multiply(a, b)\n",
        "jae = np.divide(a, b)\n",
        "\n",
        "print(hap)\n",
        "print(cha)\n",
        "print(gob)\n",
        "print(jae)"
      ],
      "execution_count": null,
      "outputs": []
    },
    {
      "cell_type": "code",
      "metadata": {
        "id": "1A1uZiR41iXi"
      },
      "source": [
        "a = np.array([[1, 2], [3, 4]])\n",
        "b = np.array([[5, 6], [7, 8]])\n",
        "\n",
        "dotP = np.dot(a, b)\n",
        "dotP"
      ],
      "execution_count": null,
      "outputs": []
    },
    {
      "cell_type": "markdown",
      "metadata": {
        "id": "MomMzcdy2qN1"
      },
      "source": [
        "행렬 원소의 합계와 평균 계산"
      ]
    },
    {
      "cell_type": "code",
      "metadata": {
        "id": "nsS7YGEI2t3n"
      },
      "source": [
        "score = np.array([[96, 90, 92], [78, 60, 82], [88, 90, 87], [60, 65, 70], [82, 88, 85]])\n",
        "score"
      ],
      "execution_count": null,
      "outputs": []
    },
    {
      "cell_type": "code",
      "metadata": {
        "id": "ar6LVySr29gj"
      },
      "source": [
        "# 모든 원소의 합계와  계산\n",
        "totalSum = np.sum(score)\n",
        "totalAvg = np.mean(score)\n",
        "print(\"전체 합계 = %d\" % totalSum, \"전체 평균 = %.2f\" % totalAvg)"
      ],
      "execution_count": null,
      "outputs": []
    },
    {
      "cell_type": "code",
      "metadata": {
        "colab": {
          "base_uri": "https://localhost:8080/"
        },
        "id": "srLNp-tQ5YDH",
        "outputId": "d324dc82-6301-4b2e-9e16-e6778aa8687b"
      },
      "source": [
        "# 과목별 합계, 평균계산\n",
        "subjSum = np.sum(score, axis = 0)\n",
        "subjAvg = np.mean(score, axis=0)\n",
        "print(\"과목별 합계= \", subjSum)\n",
        "print(\"과목별 평균= \", subjAvg)"
      ],
      "execution_count": null,
      "outputs": [
        {
          "output_type": "stream",
          "text": [
            "과목별 합계=  [404 393 416]\n",
            "과목별 평균=  [80.8 78.6 83.2]\n"
          ],
          "name": "stdout"
        }
      ]
    },
    {
      "cell_type": "code",
      "metadata": {
        "id": "4582Nkne5osu"
      },
      "source": [
        "# 개인별 합계, 평균 계산\n",
        "persSum = np.sum(score, axis=1)\n",
        "persAvg = np.mean(score, axis=1)\n",
        "print(\"개인별 합계 = \", persSum)\n",
        "print(\"개인별 평균= \", persAvg)"
      ],
      "execution_count": null,
      "outputs": []
    },
    {
      "cell_type": "markdown",
      "metadata": {
        "id": "jcGaSzF46QSN"
      },
      "source": [
        "**기억해두면 좋아요**"
      ]
    },
    {
      "cell_type": "code",
      "metadata": {
        "id": "6DtV9Kg_6Scm"
      },
      "source": [
        "# Numpy float 출력 옵션 (소수 2자리까지만 출력) - 방법 1\n",
        "np.set_printoptions(precision=2)\n",
        "\n",
        "persSum = np.sum(score, axis=1)\n",
        "persAvg = np.mean(score, axis=1)\n",
        "print(\"개인별 합계 = \", persSum)\n",
        "print(\"개인별 평균 = \", persAvg)"
      ],
      "execution_count": null,
      "outputs": []
    },
    {
      "cell_type": "code",
      "metadata": {
        "id": "F3FDZJgp65YZ"
      },
      "source": [
        "# Numpy float 출력 옵션 (소수 2자리까지만 출력) - 방법 2\n",
        "np.set_printoptions(formatter={\"float_kind\":lambda x: \"{0:0.2f}\".format(x)})\n",
        "\n",
        "persSum = np.sum(score, axis=1)\n",
        "persAvg = np.mean(score, axis=1)\n",
        "print(\"개인별 합계 = \", persSum)\n",
        "print(\"개인별 평균 = \", persAvg)"
      ],
      "execution_count": null,
      "outputs": []
    }
  ]
}