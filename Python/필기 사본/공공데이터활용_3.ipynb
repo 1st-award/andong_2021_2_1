{
  "nbformat": 4,
  "nbformat_minor": 0,
  "metadata": {
    "colab": {
      "name": "공공데이터활용_3.ipynb",
      "provenance": [],
      "authorship_tag": "ABX9TyM5VYAVgYQfH6NbWNyeXSEm",
      "include_colab_link": true
    },
    "kernelspec": {
      "name": "python3",
      "display_name": "Python 3"
    },
    "language_info": {
      "name": "python"
    }
  },
  "cells": [
    {
      "cell_type": "markdown",
      "metadata": {
        "id": "view-in-github",
        "colab_type": "text"
      },
      "source": [
        "<a href=\"https://colab.research.google.com/github/1st-award/andong_2021_2_1/blob/main/Python/%ED%95%84%EA%B8%B0%20%EC%82%AC%EB%B3%B8/%EA%B3%B5%EA%B3%B5%EB%8D%B0%EC%9D%B4%ED%84%B0%ED%99%9C%EC%9A%A9_3.ipynb\" target=\"_parent\"><img src=\"https://colab.research.google.com/assets/colab-badge.svg\" alt=\"Open In Colab\"/></a>"
      ]
    },
    {
      "cell_type": "markdown",
      "metadata": {
        "id": "-K_FiSyQBz4i"
      },
      "source": [
        "# 구글 드라이브에 저장된 파일을 구글 코랩으로 불러오기"
      ]
    },
    {
      "cell_type": "markdown",
      "metadata": {
        "id": "tp2ymk43B6AA"
      },
      "source": [
        "## 구글 드라이브를 연동할 계정 인증하기"
      ]
    },
    {
      "cell_type": "code",
      "metadata": {
        "id": "-TN87QqBAmbd",
        "colab": {
          "base_uri": "https://localhost:8080/"
        },
        "outputId": "14236fd3-dbd4-4a0d-daed-6bb4774e7943"
      },
      "source": [
        "from google.colab import drive\n",
        "drive.mount('/gdrive', force_remount=True)"
      ],
      "execution_count": null,
      "outputs": [
        {
          "output_type": "stream",
          "text": [
            "Mounted at /gdrive\n"
          ],
          "name": "stdout"
        }
      ]
    },
    {
      "cell_type": "markdown",
      "metadata": {
        "id": "dKh24n0kB-sf"
      },
      "source": [
        "## 불러올 파일의 경로와 이름 설정\n"
      ]
    },
    {
      "cell_type": "code",
      "metadata": {
        "id": "rnuUjcn7CHIA"
      },
      "source": [
        "import numpy as np\n",
        "import pandas as pd\n",
        "popu_data =pd.read_excel('/gdrive/My Drive/Python/202104_경상북도연령별인구현황.xlsx')\n",
        "popu_data"
      ],
      "execution_count": null,
      "outputs": []
    },
    {
      "cell_type": "markdown",
      "metadata": {
        "id": "LbMy_brMCVfe"
      },
      "source": [
        "### 인덱스 번호 0, 2, 3행 삭제"
      ]
    },
    {
      "cell_type": "code",
      "metadata": {
        "id": "LcFIukTkCZeY"
      },
      "source": [
        "popu_data.drop(index=[0, 2, 3], inplace=True)\n",
        "popu_data"
      ],
      "execution_count": null,
      "outputs": []
    },
    {
      "cell_type": "markdown",
      "metadata": {
        "id": "z8nEtjYFDsno"
      },
      "source": [
        "### 인덱스 번호 0, 2, 3열 삭제"
      ]
    },
    {
      "cell_type": "code",
      "metadata": {
        "id": "PYyhv_enDsXi"
      },
      "source": [
        "popu_data.drop(['행정기관코드', '총 거주자수', '연령구간인구수'], axis=1, inplace=True)\n",
        "popu_data"
      ],
      "execution_count": null,
      "outputs": []
    },
    {
      "cell_type": "markdown",
      "metadata": {
        "id": "r1b7F2dADM6z"
      },
      "source": [
        "### '행정기관' 칼럼 내용을 간소화하여 인덱스로 설정"
      ]
    },
    {
      "cell_type": "code",
      "metadata": {
        "id": "84J3oCwODSvb"
      },
      "source": [
        "city_name = []\n",
        "for c in popu_data['행정기관']:\n",
        "  city_name.append(c[5:])\n",
        "del popu_data['행정기관']\n",
        "popu_data.index = city_name\n",
        "popu_data"
      ],
      "execution_count": null,
      "outputs": []
    },
    {
      "cell_type": "code",
      "metadata": {
        "id": "DZaZMZodFJwt"
      },
      "source": [
        "# 폰트 설치\n",
        "!apt -qq -y install fonts-nanum\n",
        "!apt-get install fonts-nanum* -qq"
      ],
      "execution_count": null,
      "outputs": []
    },
    {
      "cell_type": "markdown",
      "metadata": {
        "id": "NlzqzLScFNxw"
      },
      "source": [
        "[런타임] - [런타임 다시 시작]"
      ]
    },
    {
      "cell_type": "code",
      "metadata": {
        "id": "OEEVtNNBFQHq"
      },
      "source": [
        "import matplotlib.pyplot as plt\n",
        "import numpy as np\n",
        "import matplotlib.font_manager as fm\n",
        "\n",
        "plt.rcParams['font.family'] = 'NanumGothic'\n",
        "plt.rcParams['font.size'] = 12\n",
        "# 마이너스 부호 깨짐 현상 없애기\n",
        "plt.rcParams['axes.unicode_minus'] = False\n",
        "fm._rebuild()"
      ],
      "execution_count": null,
      "outputs": []
    },
    {
      "cell_type": "markdown",
      "metadata": {
        "id": "7zt4v9WlFivZ"
      },
      "source": [
        "지금까지의 코드를 하나의 셀에 정리하기"
      ]
    },
    {
      "cell_type": "code",
      "metadata": {
        "id": "kuF0iOrBFkfz"
      },
      "source": [
        "import numpy as np\n",
        "import pandas as pd\n",
        "\n",
        "popu_data =pd.read_excel('/gdrive/My Drive/Python/202104_경상북도연령별인구현황.xlsx')\n",
        "popu_data.drop(index=[0, 2, 3], inplace=True)\n",
        "popu_data.drop(['행정기관코드', '총 거주자수', '연령구간인구수'], axis=1, inplace=True)\n",
        "city_name = []\n",
        "for c in popu_data['행정기관']:\n",
        "  city_name.append(c[5:8])\n",
        "del popu_data['행정기관']\n",
        "popu_data.index = city_name\n",
        "popu_data"
      ],
      "execution_count": null,
      "outputs": []
    },
    {
      "cell_type": "markdown",
      "metadata": {
        "id": "PGxwrHJCGM-k"
      },
      "source": [
        "## 포항과 안동의 연령별 인구를 가로 막대그래프(항아리형 그래프)로 표시하여 비교하기"
      ]
    },
    {
      "cell_type": "code",
      "metadata": {
        "id": "cDflDmQOGQmA"
      },
      "source": [
        "import matplotlib.pyplot as plt\n",
        "# sub_popu = pd.DataFrame(popu_data.iloc[[0, 3]])\n",
        "sub_popu = pd.DataFrame(popu_data.loc[['포항시', '안동시']])\n",
        "sub_popu = sub_popu.T\n",
        "sub_popu"
      ],
      "execution_count": null,
      "outputs": []
    },
    {
      "cell_type": "code",
      "metadata": {
        "id": "caygkwqgGd_3"
      },
      "source": [
        "pohang, andong = sub_popu['포항시'], sub_popu['안동시']\n",
        "for i in range(len(sub_popu['포항시'])):\n",
        "  if type(pohang[i]) == type('abc'):\n",
        "    pohang[i] = pohang[i].replace(',', '')\n",
        "    pohang[i] = pd.to_numeric(pohang[i])\n",
        "for i in range(len(sub_popu['안동시'])):\n",
        "  if type(andong[i]) == type('abc'):\n",
        "    andong[i] = andong[i].replace(',', '')\n",
        "    andong[i] = pd.to_numeric(andong[i])"
      ],
      "execution_count": null,
      "outputs": []
    },
    {
      "cell_type": "code",
      "metadata": {
        "id": "wvILB8ZWIWt6"
      },
      "source": [
        "import matplotlib.pyplot as plt\n",
        "plt.barh(range(101), pohang)\n",
        "plt.barh(range(101), andong)\n",
        "plt.show()"
      ],
      "execution_count": null,
      "outputs": []
    },
    {
      "cell_type": "code",
      "metadata": {
        "colab": {
          "base_uri": "https://localhost:8080/",
          "height": 391
        },
        "id": "0fW3n00GIvrg",
        "outputId": "6351de72-605c-40ff-cb79-66861783180b"
      },
      "source": [
        "import matplotlib.pyplot as plt\n",
        "pohang *= -1\n",
        "plt.title('포항과 안동의 인구 비교')\n",
        "plt.barh(range(101), pohang, label='포항')\n",
        "plt.barh(range(101), andong, label='안동')\n",
        "plt.legend()\n",
        "plt.rcParams['figure.figsize'] = (12, 6)\n",
        "plt.show()"
      ],
      "execution_count": null,
      "outputs": [
        {
          "output_type": "display_data",
          "data": {
            "image/png": "[encoded data removed]",
            "text/plain": [
              "<Figure size 864x432 with 1 Axes>"
            ]
          },
          "metadata": {
            "tags": [],
            "needs_background": "light"
          }
        }
      ]
    }
  ]
}