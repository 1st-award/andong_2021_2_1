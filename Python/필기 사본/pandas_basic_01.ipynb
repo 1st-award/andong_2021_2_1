{
  "nbformat": 4,
  "nbformat_minor": 0,
  "metadata": {
    "colab": {
      "name": "pandas_basic_01.ipynb",
      "provenance": [],
      "collapsed_sections": [],
      "toc_visible": true,
      "authorship_tag": "ABX9TyNHbYZ5NOkVhrLFf1u5pNDH",
      "include_colab_link": true
    },
    "kernelspec": {
      "name": "python3",
      "display_name": "Python 3"
    },
    "language_info": {
      "name": "python"
    }
  },
  "cells": [
    {
      "cell_type": "markdown",
      "metadata": {
        "id": "view-in-github",
        "colab_type": "text"
      },
      "source": [
        "<a href=\"https://colab.research.google.com/github/1st-award/andong_2021_2_1/blob/main/Python/%ED%95%84%EA%B8%B0%20%EC%82%AC%EB%B3%B8/pandas_basic_01.ipynb\" target=\"_parent\"><img src=\"https://colab.research.google.com/assets/colab-badge.svg\" alt=\"Open In Colab\"/></a>"
      ]
    },
    {
      "cell_type": "markdown",
      "metadata": {
        "id": "axEKWJ8XOQrB"
      },
      "source": [
        "# pandas 라이브러리\n",
        "pandas는\n",
        "- 파이썬프로그래밍 언어를 기반으로 구축된 데이터분석 및 조작 라이브러리\n",
        "- 빠르고 강력하고 유연하며 사용하기 쉬운 오픈 소스\n",
        "- 2008년 AQR Capital Management에서 처음 개발\n",
        "- 2009년 말 오픈 소스로 개방\n",
        "- 현재 전 세계의 커뮤니케이터들의 기여로 지속적으로 업데이트\n",
        "특히, 행과 열로 이루어진 표 형태의 데이터 객체를 만들고 처리할 수 있으며 보다 안정적으로 대용량의 데이터들을 처리하는데 매우 편리하다."
      ]
    },
    {
      "cell_type": "markdown",
      "metadata": {
        "id": "yYTe_LWROuEW"
      },
      "source": [
        "**pandas를 사용하기에 앞서 numpy와 pandas 라이브러리를 import 하자.**"
      ]
    },
    {
      "cell_type": "code",
      "metadata": {
        "id": "Ne3boLF1OPuE"
      },
      "source": [
        "import numpy as np\n",
        "import pandas as pd"
      ],
      "execution_count": null,
      "outputs": []
    },
    {
      "cell_type": "markdown",
      "metadata": {
        "id": "IdRfUbqSPBD1"
      },
      "source": [
        "## pandas 자료구조\n",
        "- Series\n",
        "- DataFrame"
      ]
    },
    {
      "cell_type": "markdown",
      "metadata": {
        "id": "U7si-Xw_PFpx"
      },
      "source": [
        "### Series\n",
        "일련의 자료를 담을 수 있는 1차원 배열과 같은 자료구조로, Series의 실제 데이터는 numpy의 1차원 array 구조로 저장"
      ]
    },
    {
      "cell_type": "markdown",
      "metadata": {
        "id": "nwQ7iDR8POIj"
      },
      "source": [
        "#### Series의 생성\n",
        "\n",
        "정수형 인덱스를 갖는 시리즈(Series)의 생성"
      ]
    },
    {
      "cell_type": "code",
      "metadata": {
        "colab": {
          "base_uri": "https://localhost:8080/"
        },
        "id": "9uSzz4dcPTbT",
        "outputId": "86729779-87bd-4b87-d468-079bf9f597b6"
      },
      "source": [
        "sc = pd.Series([98, 77, 100, 64])\n",
        "print(sc)"
      ],
      "execution_count": null,
      "outputs": [
        {
          "output_type": "stream",
          "text": [
            "0     98\n",
            "1     77\n",
            "2    100\n",
            "3     64\n",
            "dtype: int64\n"
          ],
          "name": "stdout"
        }
      ]
    },
    {
      "cell_type": "markdown",
      "metadata": {
        "id": "pnPz6lwwPjv_"
      },
      "source": [
        "##### Series 객체는 색인(Index)과 값(Values)을 갖는다."
      ]
    },
    {
      "cell_type": "code",
      "metadata": {
        "colab": {
          "base_uri": "https://localhost:8080/"
        },
        "id": "qnUcfWJXPpFE",
        "outputId": "22995ea8-b7c4-43c0-94b8-bf2ea1e9f1cf"
      },
      "source": [
        "# 시리즈의 색인 확인\n",
        "print(sc.index)"
      ],
      "execution_count": null,
      "outputs": [
        {
          "output_type": "stream",
          "text": [
            "RangeIndex(start=0, stop=4, step=1)\n"
          ],
          "name": "stdout"
        }
      ]
    },
    {
      "cell_type": "code",
      "metadata": {
        "colab": {
          "base_uri": "https://localhost:8080/"
        },
        "id": "lCmj-xmKP02p",
        "outputId": "0ff2863b-4a8c-4315-d4f5-aeb6e33bc553"
      },
      "source": [
        "# 시리즈의 값 확인\n",
        "print(sc.values)"
      ],
      "execution_count": null,
      "outputs": [
        {
          "output_type": "execute_result",
          "data": {
            "text/plain": [
              "array([ 98,  77, 100,  64])"
            ]
          },
          "metadata": {
            "tags": []
          },
          "execution_count": 7
        }
      ]
    },
    {
      "cell_type": "markdown",
      "metadata": {
        "id": "58MCKFgmPyp6"
      },
      "source": [
        "##### 문자열을 이용한 색인"
      ]
    },
    {
      "cell_type": "code",
      "metadata": {
        "colab": {
          "base_uri": "https://localhost:8080/"
        },
        "id": "9N6JNzkBQPGl",
        "outputId": "a23d47a5-8846-4d0c-9bd3-51b2d84a110d"
      },
      "source": [
        "obj = pd.Series([69, 77, 100, 75], index= ['a', 'b', 'c', 'd'])\n",
        "print(obj)"
      ],
      "execution_count": null,
      "outputs": [
        {
          "output_type": "stream",
          "text": [
            "a     69\n",
            "b     77\n",
            "c    100\n",
            "d     75\n",
            "dtype: int64\n"
          ],
          "name": "stdout"
        }
      ]
    },
    {
      "cell_type": "code",
      "metadata": {
        "colab": {
          "base_uri": "https://localhost:8080/"
        },
        "id": "Qw0C7lBbQcS5",
        "outputId": "6de550cd-ea33-44c1-c0ce-0284af46b616"
      },
      "source": [
        "# 사전 구조를 이용한 시리즈의 생성\n",
        "dic = {'a': 69, 'b': 77, 'c': 100, 'd': 75}\n",
        "obj = pd.Series(dic)\n",
        "print(obj)"
      ],
      "execution_count": null,
      "outputs": [
        {
          "output_type": "stream",
          "text": [
            "a     69\n",
            "b     77\n",
            "c    100\n",
            "d     75\n",
            "dtype: int64\n"
          ],
          "name": "stdout"
        }
      ]
    },
    {
      "cell_type": "code",
      "metadata": {
        "colab": {
          "base_uri": "https://localhost:8080/"
        },
        "id": "2ywnwZVvQ38g",
        "outputId": "512164e0-4542-42fc-f446-59e29bf61b12"
      },
      "source": [
        "score = pd.Series([96, 88, 100, 68], index=['김은서', '박민철', '정윤주', '홍길동'])\n",
        "print(score)"
      ],
      "execution_count": null,
      "outputs": [
        {
          "output_type": "stream",
          "text": [
            "김은서     96\n",
            "박민철     88\n",
            "정윤주    100\n",
            "홍길동     68\n",
            "dtype: int64\n"
          ],
          "name": "stdout"
        }
      ]
    },
    {
      "cell_type": "markdown",
      "metadata": {
        "id": "XY4T6eaERCKO"
      },
      "source": [
        "#### 색인을 이용한 데이터 검색"
      ]
    },
    {
      "cell_type": "code",
      "metadata": {
        "id": "01SY1PyzRENV"
      },
      "source": [
        "score['정윤주']\n",
        "# score[2]\n"
      ],
      "execution_count": null,
      "outputs": []
    },
    {
      "cell_type": "markdown",
      "metadata": {
        "id": "VGROd5wKROI6"
      },
      "source": [
        "##### 색인을 이용한 데이터 수정"
      ]
    },
    {
      "cell_type": "code",
      "metadata": {
        "id": "_RcGPWHqRUnJ"
      },
      "source": [
        "score['박민철'] = 85\n",
        "score"
      ],
      "execution_count": null,
      "outputs": []
    },
    {
      "cell_type": "markdown",
      "metadata": {
        "id": "qB-bM7ScReLp"
      },
      "source": [
        "\n",
        "##### 특정 조건을 만족하는 값을 가진 데이터 검색"
      ]
    },
    {
      "cell_type": "code",
      "metadata": {
        "id": "JMAbgp6WRhwz"
      },
      "source": [
        "# 점수가 80점 이상인 데이터들을 검색하여 출력\n",
        "score[score>=80]"
      ],
      "execution_count": null,
      "outputs": []
    },
    {
      "cell_type": "markdown",
      "metadata": {
        "id": "wZpdsV7WRzZG"
      },
      "source": [
        "#### Series 요소의 연산"
      ]
    },
    {
      "cell_type": "markdown",
      "metadata": {
        "id": "gYgqv_LsSODd"
      },
      "source": [
        "##### pandas 데이터 객체의 모든 요소에 한꺼번에 스칼라 연산이 가능하다."
      ]
    },
    {
      "cell_type": "code",
      "metadata": {
        "id": "UeXmc6sBSUd7"
      },
      "source": [
        "obj1 = pd.Series([1, 3, 5, 7, 9])\n",
        "obj2 = obj1 * 2\n",
        "print(obj2)"
      ],
      "execution_count": null,
      "outputs": []
    },
    {
      "cell_type": "markdown",
      "metadata": {
        "id": "4GAgtiYuSn5W"
      },
      "source": [
        "##### pandas의 데이터 객체에 numpy함수를 적용할 수 있다."
      ]
    },
    {
      "cell_type": "code",
      "metadata": {
        "id": "ICcA48v9SsfX"
      },
      "source": [
        "obj1 = pd.Series([1, 3, 5, 7, 9])\n",
        "obj2 = np.sqrt(obj1)\n",
        "print(obj2)"
      ],
      "execution_count": null,
      "outputs": []
    },
    {
      "cell_type": "markdown",
      "metadata": {
        "id": "9pK7643XS289"
      },
      "source": [
        "#### 코로나19 데이터를 이용한 Series 연습"
      ]
    },
    {
      "cell_type": "markdown",
      "metadata": {
        "id": "nT6JuKR_S6_R"
      },
      "source": [
        "##### **사전을 이용한 시리즈의 생성**"
      ]
    },
    {
      "cell_type": "code",
      "metadata": {
        "id": "yjPHKPYnS-eY"
      },
      "source": [
        "#2021-04-19\n",
        "covid19 = {'서울': 35628, '대구': 9176, '경기': 31946, '경북': 3843, '인천': 5488, '광주': 2295, '충남': 2886, '부산': 4670}\n",
        "covid_19 = pd.Series(covid19)\n",
        "covid_19"
      ],
      "execution_count": null,
      "outputs": []
    },
    {
      "cell_type": "code",
      "metadata": {
        "id": "e7JDZeICTZkn"
      },
      "source": [
        "covid_19 = pd.Series([35628, 9176, 31946, 3843, 5488, 2295, 2886, 4670], index=['세울', '대구', '경기', '경북', '안천', '광주', '충남', '부산'])\n",
        "covid_19"
      ],
      "execution_count": null,
      "outputs": []
    },
    {
      "cell_type": "markdown",
      "metadata": {
        "id": "T8KtCmMdULRv"
      },
      "source": [
        "##### **색인(Index) 변경**"
      ]
    },
    {
      "cell_type": "code",
      "metadata": {
        "id": "LuMY2aImUKQH"
      },
      "source": [
        "# covid_19.index = ['서울', '대구', '경기', '경북', '인천', '광주', '충남', '부산']\n",
        "covid_19 = covid_19.rename({'세울': '서울', '안천': '인천'})\n",
        "covid_19"
      ],
      "execution_count": null,
      "outputs": []
    },
    {
      "cell_type": "code",
      "metadata": {
        "id": "_KJ9Goz_UxQG"
      },
      "source": [
        "covid_19.name = '2021-04-19 COVID19 확진자 수'\n",
        "covid_19.index.name = '지역'\n",
        "covid_19"
      ],
      "execution_count": null,
      "outputs": []
    },
    {
      "cell_type": "markdown",
      "metadata": {
        "id": "hqTRnbGQU-q8"
      },
      "source": [
        "### DataFrame\n",
        "numpy의 2차원 array와 유사"
      ]
    },
    {
      "cell_type": "markdown",
      "metadata": {
        "id": "SmduqNiJVC7K"
      },
      "source": [
        "####DataFrame의 생성"
      ]
    },
    {
      "cell_type": "code",
      "metadata": {
        "colab": {
          "base_uri": "https://localhost:8080/",
          "height": 294
        },
        "id": "89bXNSryVG_t",
        "outputId": "9f099dbe-6a71-4eca-bdf0-0eb8546ed16e"
      },
      "source": [
        "data = {'지역': ['서울', '대구', '경기', '경북', '인천', '광주', '충남', '부산'], \n",
        "        '2020-10-19': [5702, 7142, 4869, 1573, 999, 502, 505, 571], \n",
        "        '2021-04-19': [35628, 9176, 31946, 3843, 5488, 2295, 2886, 4670]}\n",
        "covid_19f = pd.DataFrame(data)\n",
        "covid_19f.name = '2020년 10월과 2021년 4월의 COVID19 확진자 수 비교'\n",
        "covid_19f"
      ],
      "execution_count": null,
      "outputs": [
        {
          "output_type": "execute_result",
          "data": {
            "text/html": [
              "<div>\n",
              "<style scoped>\n",
              "    .dataframe tbody tr th:only-of-type {\n",
              "        vertical-align: middle;\n",
              "    }\n",
              "\n",
              "    .dataframe tbody tr th {\n",
              "        vertical-align: top;\n",
              "    }\n",
              "\n",
              "    .dataframe thead th {\n",
              "        text-align: right;\n",
              "    }\n",
              "</style>\n",
              "<table border=\"1\" class=\"dataframe\">\n",
              "  <thead>\n",
              "    <tr style=\"text-align: right;\">\n",
              "      <th></th>\n",
              "      <th>지역</th>\n",
              "      <th>2020-10-19</th>\n",
              "      <th>2021-04-19</th>\n",
              "    </tr>\n",
              "  </thead>\n",
              "  <tbody>\n",
              "    <tr>\n",
              "      <th>0</th>\n",
              "      <td>서울</td>\n",
              "      <td>5702</td>\n",
              "      <td>35628</td>\n",
              "    </tr>\n",
              "    <tr>\n",
              "      <th>1</th>\n",
              "      <td>대구</td>\n",
              "      <td>7142</td>\n",
              "      <td>9176</td>\n",
              "    </tr>\n",
              "    <tr>\n",
              "      <th>2</th>\n",
              "      <td>경기</td>\n",
              "      <td>4869</td>\n",
              "      <td>31946</td>\n",
              "    </tr>\n",
              "    <tr>\n",
              "      <th>3</th>\n",
              "      <td>경북</td>\n",
              "      <td>1573</td>\n",
              "      <td>3843</td>\n",
              "    </tr>\n",
              "    <tr>\n",
              "      <th>4</th>\n",
              "      <td>인천</td>\n",
              "      <td>999</td>\n",
              "      <td>5488</td>\n",
              "    </tr>\n",
              "    <tr>\n",
              "      <th>5</th>\n",
              "      <td>광주</td>\n",
              "      <td>502</td>\n",
              "      <td>2295</td>\n",
              "    </tr>\n",
              "    <tr>\n",
              "      <th>6</th>\n",
              "      <td>충남</td>\n",
              "      <td>505</td>\n",
              "      <td>2886</td>\n",
              "    </tr>\n",
              "    <tr>\n",
              "      <th>7</th>\n",
              "      <td>부산</td>\n",
              "      <td>571</td>\n",
              "      <td>4670</td>\n",
              "    </tr>\n",
              "  </tbody>\n",
              "</table>\n",
              "</div>"
            ],
            "text/plain": [
              "   지역  2020-10-19  2021-04-19\n",
              "0  서울        5702       35628\n",
              "1  대구        7142        9176\n",
              "2  경기        4869       31946\n",
              "3  경북        1573        3843\n",
              "4  인천         999        5488\n",
              "5  광주         502        2295\n",
              "6  충남         505        2886\n",
              "7  부산         571        4670"
            ]
          },
          "metadata": {
            "tags": []
          },
          "execution_count": 96
        }
      ]
    },
    {
      "cell_type": "markdown",
      "metadata": {
        "id": "-nfuw_xXWbrn"
      },
      "source": [
        "##### '지역' 칼럼을 인덱스로 사용"
      ]
    },
    {
      "cell_type": "code",
      "metadata": {
        "colab": {
          "base_uri": "https://localhost:8080/",
          "height": 325
        },
        "id": "wkPElXrSWeHA",
        "outputId": "f3dd3c63-068a-4497-e334-20c88e08153e"
      },
      "source": [
        "covid_19f = covid_19f.set_index('지역')\n",
        "covid_19f"
      ],
      "execution_count": null,
      "outputs": [
        {
          "output_type": "execute_result",
          "data": {
            "text/html": [
              "<div>\n",
              "<style scoped>\n",
              "    .dataframe tbody tr th:only-of-type {\n",
              "        vertical-align: middle;\n",
              "    }\n",
              "\n",
              "    .dataframe tbody tr th {\n",
              "        vertical-align: top;\n",
              "    }\n",
              "\n",
              "    .dataframe thead th {\n",
              "        text-align: right;\n",
              "    }\n",
              "</style>\n",
              "<table border=\"1\" class=\"dataframe\">\n",
              "  <thead>\n",
              "    <tr style=\"text-align: right;\">\n",
              "      <th></th>\n",
              "      <th>2020-10-19</th>\n",
              "      <th>2021-04-19</th>\n",
              "    </tr>\n",
              "    <tr>\n",
              "      <th>지역</th>\n",
              "      <th></th>\n",
              "      <th></th>\n",
              "    </tr>\n",
              "  </thead>\n",
              "  <tbody>\n",
              "    <tr>\n",
              "      <th>서울</th>\n",
              "      <td>5702</td>\n",
              "      <td>35628</td>\n",
              "    </tr>\n",
              "    <tr>\n",
              "      <th>대구</th>\n",
              "      <td>7142</td>\n",
              "      <td>9176</td>\n",
              "    </tr>\n",
              "    <tr>\n",
              "      <th>경기</th>\n",
              "      <td>4869</td>\n",
              "      <td>31946</td>\n",
              "    </tr>\n",
              "    <tr>\n",
              "      <th>경북</th>\n",
              "      <td>1573</td>\n",
              "      <td>3843</td>\n",
              "    </tr>\n",
              "    <tr>\n",
              "      <th>인천</th>\n",
              "      <td>999</td>\n",
              "      <td>5488</td>\n",
              "    </tr>\n",
              "    <tr>\n",
              "      <th>광주</th>\n",
              "      <td>502</td>\n",
              "      <td>2295</td>\n",
              "    </tr>\n",
              "    <tr>\n",
              "      <th>충남</th>\n",
              "      <td>505</td>\n",
              "      <td>2886</td>\n",
              "    </tr>\n",
              "    <tr>\n",
              "      <th>부산</th>\n",
              "      <td>571</td>\n",
              "      <td>4670</td>\n",
              "    </tr>\n",
              "  </tbody>\n",
              "</table>\n",
              "</div>"
            ],
            "text/plain": [
              "    2020-10-19  2021-04-19\n",
              "지역                        \n",
              "서울        5702       35628\n",
              "대구        7142        9176\n",
              "경기        4869       31946\n",
              "경북        1573        3843\n",
              "인천         999        5488\n",
              "광주         502        2295\n",
              "충남         505        2886\n",
              "부산         571        4670"
            ]
          },
          "metadata": {
            "tags": []
          },
          "execution_count": 97
        }
      ]
    },
    {
      "cell_type": "markdown",
      "metadata": {
        "id": "f0ckIKtqWxNL"
      },
      "source": [
        "##### head()함수: 처음 5개의 행만 출력"
      ]
    },
    {
      "cell_type": "code",
      "metadata": {
        "colab": {
          "base_uri": "https://localhost:8080/",
          "height": 233
        },
        "id": "NAESMkuuW0sP",
        "outputId": "2dc95543-7b81-485d-cf29-e109afa443fa"
      },
      "source": [
        "covid_19f.head()"
      ],
      "execution_count": null,
      "outputs": [
        {
          "output_type": "execute_result",
          "data": {
            "text/html": [
              "<div>\n",
              "<style scoped>\n",
              "    .dataframe tbody tr th:only-of-type {\n",
              "        vertical-align: middle;\n",
              "    }\n",
              "\n",
              "    .dataframe tbody tr th {\n",
              "        vertical-align: top;\n",
              "    }\n",
              "\n",
              "    .dataframe thead th {\n",
              "        text-align: right;\n",
              "    }\n",
              "</style>\n",
              "<table border=\"1\" class=\"dataframe\">\n",
              "  <thead>\n",
              "    <tr style=\"text-align: right;\">\n",
              "      <th></th>\n",
              "      <th>2020-10-19</th>\n",
              "      <th>2021-04-19</th>\n",
              "    </tr>\n",
              "    <tr>\n",
              "      <th>지역</th>\n",
              "      <th></th>\n",
              "      <th></th>\n",
              "    </tr>\n",
              "  </thead>\n",
              "  <tbody>\n",
              "    <tr>\n",
              "      <th>서울</th>\n",
              "      <td>5702</td>\n",
              "      <td>35628</td>\n",
              "    </tr>\n",
              "    <tr>\n",
              "      <th>대구</th>\n",
              "      <td>7142</td>\n",
              "      <td>9176</td>\n",
              "    </tr>\n",
              "    <tr>\n",
              "      <th>경기</th>\n",
              "      <td>4869</td>\n",
              "      <td>31946</td>\n",
              "    </tr>\n",
              "    <tr>\n",
              "      <th>경북</th>\n",
              "      <td>1573</td>\n",
              "      <td>3843</td>\n",
              "    </tr>\n",
              "    <tr>\n",
              "      <th>인천</th>\n",
              "      <td>999</td>\n",
              "      <td>5488</td>\n",
              "    </tr>\n",
              "  </tbody>\n",
              "</table>\n",
              "</div>"
            ],
            "text/plain": [
              "    2020-10-19  2021-04-19\n",
              "지역                        \n",
              "서울        5702       35628\n",
              "대구        7142        9176\n",
              "경기        4869       31946\n",
              "경북        1573        3843\n",
              "인천         999        5488"
            ]
          },
          "metadata": {
            "tags": []
          },
          "execution_count": 98
        }
      ]
    },
    {
      "cell_type": "markdown",
      "metadata": {
        "id": "3qcFJw3wW7tZ"
      },
      "source": [
        "##### 사전에 없는 값을 넘기면 결측치로 저장"
      ]
    },
    {
      "cell_type": "code",
      "metadata": {
        "colab": {
          "base_uri": "https://localhost:8080/",
          "height": 325
        },
        "id": "8eRYN3JNW-I9",
        "outputId": "16aac480-8064-43b0-da8f-ed6db08fbd47"
      },
      "source": [
        "co210419 = pd.DataFrame(covid_19f, columns = ['2021-04-19', '격리해제', '사망', '완치율'])\n",
        "co210419"
      ],
      "execution_count": null,
      "outputs": [
        {
          "output_type": "execute_result",
          "data": {
            "text/html": [
              "<div>\n",
              "<style scoped>\n",
              "    .dataframe tbody tr th:only-of-type {\n",
              "        vertical-align: middle;\n",
              "    }\n",
              "\n",
              "    .dataframe tbody tr th {\n",
              "        vertical-align: top;\n",
              "    }\n",
              "\n",
              "    .dataframe thead th {\n",
              "        text-align: right;\n",
              "    }\n",
              "</style>\n",
              "<table border=\"1\" class=\"dataframe\">\n",
              "  <thead>\n",
              "    <tr style=\"text-align: right;\">\n",
              "      <th></th>\n",
              "      <th>2021-04-19</th>\n",
              "      <th>격리해제</th>\n",
              "      <th>사망</th>\n",
              "      <th>완치율</th>\n",
              "    </tr>\n",
              "    <tr>\n",
              "      <th>지역</th>\n",
              "      <th></th>\n",
              "      <th></th>\n",
              "      <th></th>\n",
              "      <th></th>\n",
              "    </tr>\n",
              "  </thead>\n",
              "  <tbody>\n",
              "    <tr>\n",
              "      <th>서울</th>\n",
              "      <td>35628</td>\n",
              "      <td>NaN</td>\n",
              "      <td>NaN</td>\n",
              "      <td>NaN</td>\n",
              "    </tr>\n",
              "    <tr>\n",
              "      <th>대구</th>\n",
              "      <td>9176</td>\n",
              "      <td>NaN</td>\n",
              "      <td>NaN</td>\n",
              "      <td>NaN</td>\n",
              "    </tr>\n",
              "    <tr>\n",
              "      <th>경기</th>\n",
              "      <td>31946</td>\n",
              "      <td>NaN</td>\n",
              "      <td>NaN</td>\n",
              "      <td>NaN</td>\n",
              "    </tr>\n",
              "    <tr>\n",
              "      <th>경북</th>\n",
              "      <td>3843</td>\n",
              "      <td>NaN</td>\n",
              "      <td>NaN</td>\n",
              "      <td>NaN</td>\n",
              "    </tr>\n",
              "    <tr>\n",
              "      <th>인천</th>\n",
              "      <td>5488</td>\n",
              "      <td>NaN</td>\n",
              "      <td>NaN</td>\n",
              "      <td>NaN</td>\n",
              "    </tr>\n",
              "    <tr>\n",
              "      <th>광주</th>\n",
              "      <td>2295</td>\n",
              "      <td>NaN</td>\n",
              "      <td>NaN</td>\n",
              "      <td>NaN</td>\n",
              "    </tr>\n",
              "    <tr>\n",
              "      <th>충남</th>\n",
              "      <td>2886</td>\n",
              "      <td>NaN</td>\n",
              "      <td>NaN</td>\n",
              "      <td>NaN</td>\n",
              "    </tr>\n",
              "    <tr>\n",
              "      <th>부산</th>\n",
              "      <td>4670</td>\n",
              "      <td>NaN</td>\n",
              "      <td>NaN</td>\n",
              "      <td>NaN</td>\n",
              "    </tr>\n",
              "  </tbody>\n",
              "</table>\n",
              "</div>"
            ],
            "text/plain": [
              "    2021-04-19  격리해제  사망  완치율\n",
              "지역                           \n",
              "서울       35628   NaN NaN  NaN\n",
              "대구        9176   NaN NaN  NaN\n",
              "경기       31946   NaN NaN  NaN\n",
              "경북        3843   NaN NaN  NaN\n",
              "인천        5488   NaN NaN  NaN\n",
              "광주        2295   NaN NaN  NaN\n",
              "충남        2886   NaN NaN  NaN\n",
              "부산        4670   NaN NaN  NaN"
            ]
          },
          "metadata": {
            "tags": []
          },
          "execution_count": 99
        }
      ]
    },
    {
      "cell_type": "markdown",
      "metadata": {
        "id": "Q6zvTOndXZDr"
      },
      "source": [
        "##### 칼럼명 변경"
      ]
    },
    {
      "cell_type": "code",
      "metadata": {
        "colab": {
          "base_uri": "https://localhost:8080/",
          "height": 325
        },
        "id": "5hfJeXp0Xbzu",
        "outputId": "6163cd48-d8da-4373-823c-68dd178dfa20"
      },
      "source": [
        "co210419 = co210419.rename({'2021-04-19': '확진'}, axis=1)\n",
        "co210419"
      ],
      "execution_count": null,
      "outputs": [
        {
          "output_type": "execute_result",
          "data": {
            "text/html": [
              "<div>\n",
              "<style scoped>\n",
              "    .dataframe tbody tr th:only-of-type {\n",
              "        vertical-align: middle;\n",
              "    }\n",
              "\n",
              "    .dataframe tbody tr th {\n",
              "        vertical-align: top;\n",
              "    }\n",
              "\n",
              "    .dataframe thead th {\n",
              "        text-align: right;\n",
              "    }\n",
              "</style>\n",
              "<table border=\"1\" class=\"dataframe\">\n",
              "  <thead>\n",
              "    <tr style=\"text-align: right;\">\n",
              "      <th></th>\n",
              "      <th>확진</th>\n",
              "      <th>격리해제</th>\n",
              "      <th>사망</th>\n",
              "      <th>완치율</th>\n",
              "    </tr>\n",
              "    <tr>\n",
              "      <th>지역</th>\n",
              "      <th></th>\n",
              "      <th></th>\n",
              "      <th></th>\n",
              "      <th></th>\n",
              "    </tr>\n",
              "  </thead>\n",
              "  <tbody>\n",
              "    <tr>\n",
              "      <th>서울</th>\n",
              "      <td>35628</td>\n",
              "      <td>NaN</td>\n",
              "      <td>NaN</td>\n",
              "      <td>NaN</td>\n",
              "    </tr>\n",
              "    <tr>\n",
              "      <th>대구</th>\n",
              "      <td>9176</td>\n",
              "      <td>NaN</td>\n",
              "      <td>NaN</td>\n",
              "      <td>NaN</td>\n",
              "    </tr>\n",
              "    <tr>\n",
              "      <th>경기</th>\n",
              "      <td>31946</td>\n",
              "      <td>NaN</td>\n",
              "      <td>NaN</td>\n",
              "      <td>NaN</td>\n",
              "    </tr>\n",
              "    <tr>\n",
              "      <th>경북</th>\n",
              "      <td>3843</td>\n",
              "      <td>NaN</td>\n",
              "      <td>NaN</td>\n",
              "      <td>NaN</td>\n",
              "    </tr>\n",
              "    <tr>\n",
              "      <th>인천</th>\n",
              "      <td>5488</td>\n",
              "      <td>NaN</td>\n",
              "      <td>NaN</td>\n",
              "      <td>NaN</td>\n",
              "    </tr>\n",
              "    <tr>\n",
              "      <th>광주</th>\n",
              "      <td>2295</td>\n",
              "      <td>NaN</td>\n",
              "      <td>NaN</td>\n",
              "      <td>NaN</td>\n",
              "    </tr>\n",
              "    <tr>\n",
              "      <th>충남</th>\n",
              "      <td>2886</td>\n",
              "      <td>NaN</td>\n",
              "      <td>NaN</td>\n",
              "      <td>NaN</td>\n",
              "    </tr>\n",
              "    <tr>\n",
              "      <th>부산</th>\n",
              "      <td>4670</td>\n",
              "      <td>NaN</td>\n",
              "      <td>NaN</td>\n",
              "      <td>NaN</td>\n",
              "    </tr>\n",
              "  </tbody>\n",
              "</table>\n",
              "</div>"
            ],
            "text/plain": [
              "       확진  격리해제  사망  완치율\n",
              "지역                      \n",
              "서울  35628   NaN NaN  NaN\n",
              "대구   9176   NaN NaN  NaN\n",
              "경기  31946   NaN NaN  NaN\n",
              "경북   3843   NaN NaN  NaN\n",
              "인천   5488   NaN NaN  NaN\n",
              "광주   2295   NaN NaN  NaN\n",
              "충남   2886   NaN NaN  NaN\n",
              "부산   4670   NaN NaN  NaN"
            ]
          },
          "metadata": {
            "tags": []
          },
          "execution_count": 100
        }
      ]
    },
    {
      "cell_type": "markdown",
      "metadata": {
        "id": "HZMm0cm5X1CV"
      },
      "source": [
        "##### 결측치를 가진 칼럼에 값을 대입"
      ]
    },
    {
      "cell_type": "code",
      "metadata": {
        "colab": {
          "base_uri": "https://localhost:8080/",
          "height": 325
        },
        "id": "bY6VgldtYATk",
        "outputId": "1fb6b0e3-7838-41e8-cc08-1ee55148c7b1"
      },
      "source": [
        "co210419['격리해제'] = 0\n",
        "co210419['사망'] = 0\n",
        "co210419['완치율'] = 0.0\n",
        "co210419"
      ],
      "execution_count": null,
      "outputs": [
        {
          "output_type": "execute_result",
          "data": {
            "text/html": [
              "<div>\n",
              "<style scoped>\n",
              "    .dataframe tbody tr th:only-of-type {\n",
              "        vertical-align: middle;\n",
              "    }\n",
              "\n",
              "    .dataframe tbody tr th {\n",
              "        vertical-align: top;\n",
              "    }\n",
              "\n",
              "    .dataframe thead th {\n",
              "        text-align: right;\n",
              "    }\n",
              "</style>\n",
              "<table border=\"1\" class=\"dataframe\">\n",
              "  <thead>\n",
              "    <tr style=\"text-align: right;\">\n",
              "      <th></th>\n",
              "      <th>확진</th>\n",
              "      <th>격리해제</th>\n",
              "      <th>사망</th>\n",
              "      <th>완치율</th>\n",
              "    </tr>\n",
              "    <tr>\n",
              "      <th>지역</th>\n",
              "      <th></th>\n",
              "      <th></th>\n",
              "      <th></th>\n",
              "      <th></th>\n",
              "    </tr>\n",
              "  </thead>\n",
              "  <tbody>\n",
              "    <tr>\n",
              "      <th>서울</th>\n",
              "      <td>35628</td>\n",
              "      <td>0</td>\n",
              "      <td>0</td>\n",
              "      <td>0.0</td>\n",
              "    </tr>\n",
              "    <tr>\n",
              "      <th>대구</th>\n",
              "      <td>9176</td>\n",
              "      <td>0</td>\n",
              "      <td>0</td>\n",
              "      <td>0.0</td>\n",
              "    </tr>\n",
              "    <tr>\n",
              "      <th>경기</th>\n",
              "      <td>31946</td>\n",
              "      <td>0</td>\n",
              "      <td>0</td>\n",
              "      <td>0.0</td>\n",
              "    </tr>\n",
              "    <tr>\n",
              "      <th>경북</th>\n",
              "      <td>3843</td>\n",
              "      <td>0</td>\n",
              "      <td>0</td>\n",
              "      <td>0.0</td>\n",
              "    </tr>\n",
              "    <tr>\n",
              "      <th>인천</th>\n",
              "      <td>5488</td>\n",
              "      <td>0</td>\n",
              "      <td>0</td>\n",
              "      <td>0.0</td>\n",
              "    </tr>\n",
              "    <tr>\n",
              "      <th>광주</th>\n",
              "      <td>2295</td>\n",
              "      <td>0</td>\n",
              "      <td>0</td>\n",
              "      <td>0.0</td>\n",
              "    </tr>\n",
              "    <tr>\n",
              "      <th>충남</th>\n",
              "      <td>2886</td>\n",
              "      <td>0</td>\n",
              "      <td>0</td>\n",
              "      <td>0.0</td>\n",
              "    </tr>\n",
              "    <tr>\n",
              "      <th>부산</th>\n",
              "      <td>4670</td>\n",
              "      <td>0</td>\n",
              "      <td>0</td>\n",
              "      <td>0.0</td>\n",
              "    </tr>\n",
              "  </tbody>\n",
              "</table>\n",
              "</div>"
            ],
            "text/plain": [
              "       확진  격리해제  사망  완치율\n",
              "지역                      \n",
              "서울  35628     0   0  0.0\n",
              "대구   9176     0   0  0.0\n",
              "경기  31946     0   0  0.0\n",
              "경북   3843     0   0  0.0\n",
              "인천   5488     0   0  0.0\n",
              "광주   2295     0   0  0.0\n",
              "충남   2886     0   0  0.0\n",
              "부산   4670     0   0  0.0"
            ]
          },
          "metadata": {
            "tags": []
          },
          "execution_count": 101
        }
      ]
    },
    {
      "cell_type": "code",
      "metadata": {
        "colab": {
          "base_uri": "https://localhost:8080/",
          "height": 325
        },
        "id": "l2y6s369YYPz",
        "outputId": "1ba780ce-43ef-4db5-a635-507e147717dd"
      },
      "source": [
        "co210419['격리해제'] = [32468, 4009, 28842, 3515, 5210, 2207, 2652, 4009]\n",
        "co210419['사망'] = [443, 219, 570, 77, 58, 21, 36, 121]\n",
        "co210419"
      ],
      "execution_count": null,
      "outputs": [
        {
          "output_type": "execute_result",
          "data": {
            "text/html": [
              "<div>\n",
              "<style scoped>\n",
              "    .dataframe tbody tr th:only-of-type {\n",
              "        vertical-align: middle;\n",
              "    }\n",
              "\n",
              "    .dataframe tbody tr th {\n",
              "        vertical-align: top;\n",
              "    }\n",
              "\n",
              "    .dataframe thead th {\n",
              "        text-align: right;\n",
              "    }\n",
              "</style>\n",
              "<table border=\"1\" class=\"dataframe\">\n",
              "  <thead>\n",
              "    <tr style=\"text-align: right;\">\n",
              "      <th></th>\n",
              "      <th>확진</th>\n",
              "      <th>격리해제</th>\n",
              "      <th>사망</th>\n",
              "      <th>완치율</th>\n",
              "    </tr>\n",
              "    <tr>\n",
              "      <th>지역</th>\n",
              "      <th></th>\n",
              "      <th></th>\n",
              "      <th></th>\n",
              "      <th></th>\n",
              "    </tr>\n",
              "  </thead>\n",
              "  <tbody>\n",
              "    <tr>\n",
              "      <th>서울</th>\n",
              "      <td>35628</td>\n",
              "      <td>32468</td>\n",
              "      <td>443</td>\n",
              "      <td>0.0</td>\n",
              "    </tr>\n",
              "    <tr>\n",
              "      <th>대구</th>\n",
              "      <td>9176</td>\n",
              "      <td>4009</td>\n",
              "      <td>219</td>\n",
              "      <td>0.0</td>\n",
              "    </tr>\n",
              "    <tr>\n",
              "      <th>경기</th>\n",
              "      <td>31946</td>\n",
              "      <td>28842</td>\n",
              "      <td>570</td>\n",
              "      <td>0.0</td>\n",
              "    </tr>\n",
              "    <tr>\n",
              "      <th>경북</th>\n",
              "      <td>3843</td>\n",
              "      <td>3515</td>\n",
              "      <td>77</td>\n",
              "      <td>0.0</td>\n",
              "    </tr>\n",
              "    <tr>\n",
              "      <th>인천</th>\n",
              "      <td>5488</td>\n",
              "      <td>5210</td>\n",
              "      <td>58</td>\n",
              "      <td>0.0</td>\n",
              "    </tr>\n",
              "    <tr>\n",
              "      <th>광주</th>\n",
              "      <td>2295</td>\n",
              "      <td>2207</td>\n",
              "      <td>21</td>\n",
              "      <td>0.0</td>\n",
              "    </tr>\n",
              "    <tr>\n",
              "      <th>충남</th>\n",
              "      <td>2886</td>\n",
              "      <td>2652</td>\n",
              "      <td>36</td>\n",
              "      <td>0.0</td>\n",
              "    </tr>\n",
              "    <tr>\n",
              "      <th>부산</th>\n",
              "      <td>4670</td>\n",
              "      <td>4009</td>\n",
              "      <td>121</td>\n",
              "      <td>0.0</td>\n",
              "    </tr>\n",
              "  </tbody>\n",
              "</table>\n",
              "</div>"
            ],
            "text/plain": [
              "       확진   격리해제   사망  완치율\n",
              "지역                        \n",
              "서울  35628  32468  443  0.0\n",
              "대구   9176   4009  219  0.0\n",
              "경기  31946  28842  570  0.0\n",
              "경북   3843   3515   77  0.0\n",
              "인천   5488   5210   58  0.0\n",
              "광주   2295   2207   21  0.0\n",
              "충남   2886   2652   36  0.0\n",
              "부산   4670   4009  121  0.0"
            ]
          },
          "metadata": {
            "tags": []
          },
          "execution_count": 102
        }
      ]
    },
    {
      "cell_type": "markdown",
      "metadata": {
        "id": "iOgd-B4zYsUJ"
      },
      "source": [
        "###### 완치율 계산"
      ]
    },
    {
      "cell_type": "code",
      "metadata": {
        "colab": {
          "base_uri": "https://localhost:8080/",
          "height": 325
        },
        "id": "7qR4hwYnYu4-",
        "outputId": "d9702517-aff0-45fd-bef2-1f93bbc09987"
      },
      "source": [
        "co210419['완치율'] = co210419['격리해제']/co210419['확진']\n",
        "co210419"
      ],
      "execution_count": null,
      "outputs": [
        {
          "output_type": "execute_result",
          "data": {
            "text/html": [
              "<div>\n",
              "<style scoped>\n",
              "    .dataframe tbody tr th:only-of-type {\n",
              "        vertical-align: middle;\n",
              "    }\n",
              "\n",
              "    .dataframe tbody tr th {\n",
              "        vertical-align: top;\n",
              "    }\n",
              "\n",
              "    .dataframe thead th {\n",
              "        text-align: right;\n",
              "    }\n",
              "</style>\n",
              "<table border=\"1\" class=\"dataframe\">\n",
              "  <thead>\n",
              "    <tr style=\"text-align: right;\">\n",
              "      <th></th>\n",
              "      <th>확진</th>\n",
              "      <th>격리해제</th>\n",
              "      <th>사망</th>\n",
              "      <th>완치율</th>\n",
              "    </tr>\n",
              "    <tr>\n",
              "      <th>지역</th>\n",
              "      <th></th>\n",
              "      <th></th>\n",
              "      <th></th>\n",
              "      <th></th>\n",
              "    </tr>\n",
              "  </thead>\n",
              "  <tbody>\n",
              "    <tr>\n",
              "      <th>서울</th>\n",
              "      <td>35628</td>\n",
              "      <td>32468</td>\n",
              "      <td>443</td>\n",
              "      <td>0.911306</td>\n",
              "    </tr>\n",
              "    <tr>\n",
              "      <th>대구</th>\n",
              "      <td>9176</td>\n",
              "      <td>4009</td>\n",
              "      <td>219</td>\n",
              "      <td>0.436901</td>\n",
              "    </tr>\n",
              "    <tr>\n",
              "      <th>경기</th>\n",
              "      <td>31946</td>\n",
              "      <td>28842</td>\n",
              "      <td>570</td>\n",
              "      <td>0.902836</td>\n",
              "    </tr>\n",
              "    <tr>\n",
              "      <th>경북</th>\n",
              "      <td>3843</td>\n",
              "      <td>3515</td>\n",
              "      <td>77</td>\n",
              "      <td>0.914650</td>\n",
              "    </tr>\n",
              "    <tr>\n",
              "      <th>인천</th>\n",
              "      <td>5488</td>\n",
              "      <td>5210</td>\n",
              "      <td>58</td>\n",
              "      <td>0.949344</td>\n",
              "    </tr>\n",
              "    <tr>\n",
              "      <th>광주</th>\n",
              "      <td>2295</td>\n",
              "      <td>2207</td>\n",
              "      <td>21</td>\n",
              "      <td>0.961656</td>\n",
              "    </tr>\n",
              "    <tr>\n",
              "      <th>충남</th>\n",
              "      <td>2886</td>\n",
              "      <td>2652</td>\n",
              "      <td>36</td>\n",
              "      <td>0.918919</td>\n",
              "    </tr>\n",
              "    <tr>\n",
              "      <th>부산</th>\n",
              "      <td>4670</td>\n",
              "      <td>4009</td>\n",
              "      <td>121</td>\n",
              "      <td>0.858458</td>\n",
              "    </tr>\n",
              "  </tbody>\n",
              "</table>\n",
              "</div>"
            ],
            "text/plain": [
              "       확진   격리해제   사망       완치율\n",
              "지역                             \n",
              "서울  35628  32468  443  0.911306\n",
              "대구   9176   4009  219  0.436901\n",
              "경기  31946  28842  570  0.902836\n",
              "경북   3843   3515   77  0.914650\n",
              "인천   5488   5210   58  0.949344\n",
              "광주   2295   2207   21  0.961656\n",
              "충남   2886   2652   36  0.918919\n",
              "부산   4670   4009  121  0.858458"
            ]
          },
          "metadata": {
            "tags": []
          },
          "execution_count": 103
        }
      ]
    },
    {
      "cell_type": "markdown",
      "metadata": {
        "id": "EZPJ6G75Zv6P"
      },
      "source": [
        "#### DataFrame의 전치 (행과 열을 뒤집음)"
      ]
    },
    {
      "cell_type": "code",
      "metadata": {
        "id": "RXohVB-JaQ9m"
      },
      "source": [
        "co210419.T"
      ],
      "execution_count": null,
      "outputs": []
    },
    {
      "cell_type": "code",
      "metadata": {
        "colab": {
          "base_uri": "https://localhost:8080/",
          "height": 171
        },
        "id": "ZEPx9SFuZvcF",
        "outputId": "51240ceb-e63e-44de-b0cc-4767c01f4c12"
      },
      "source": [
        "co210419 = co210419.astype({'확진': 'Int32', '격리해제': 'Int32', '사망': 'Int32'})\n",
        "co210419.T"
      ],
      "execution_count": null,
      "outputs": [
        {
          "output_type": "execute_result",
          "data": {
            "text/html": [
              "<div>\n",
              "<style scoped>\n",
              "    .dataframe tbody tr th:only-of-type {\n",
              "        vertical-align: middle;\n",
              "    }\n",
              "\n",
              "    .dataframe tbody tr th {\n",
              "        vertical-align: top;\n",
              "    }\n",
              "\n",
              "    .dataframe thead th {\n",
              "        text-align: right;\n",
              "    }\n",
              "</style>\n",
              "<table border=\"1\" class=\"dataframe\">\n",
              "  <thead>\n",
              "    <tr style=\"text-align: right;\">\n",
              "      <th>지역</th>\n",
              "      <th>서울</th>\n",
              "      <th>대구</th>\n",
              "      <th>경기</th>\n",
              "      <th>경북</th>\n",
              "      <th>인천</th>\n",
              "      <th>광주</th>\n",
              "      <th>충남</th>\n",
              "      <th>부산</th>\n",
              "    </tr>\n",
              "  </thead>\n",
              "  <tbody>\n",
              "    <tr>\n",
              "      <th>확진</th>\n",
              "      <td>35628</td>\n",
              "      <td>9176</td>\n",
              "      <td>31946</td>\n",
              "      <td>3843</td>\n",
              "      <td>5488</td>\n",
              "      <td>2295</td>\n",
              "      <td>2886</td>\n",
              "      <td>4670</td>\n",
              "    </tr>\n",
              "    <tr>\n",
              "      <th>격리해제</th>\n",
              "      <td>32468</td>\n",
              "      <td>4009</td>\n",
              "      <td>28842</td>\n",
              "      <td>3515</td>\n",
              "      <td>5210</td>\n",
              "      <td>2207</td>\n",
              "      <td>2652</td>\n",
              "      <td>4009</td>\n",
              "    </tr>\n",
              "    <tr>\n",
              "      <th>사망</th>\n",
              "      <td>443</td>\n",
              "      <td>219</td>\n",
              "      <td>570</td>\n",
              "      <td>77</td>\n",
              "      <td>58</td>\n",
              "      <td>21</td>\n",
              "      <td>36</td>\n",
              "      <td>121</td>\n",
              "    </tr>\n",
              "    <tr>\n",
              "      <th>완치율</th>\n",
              "      <td>0.911306</td>\n",
              "      <td>0.436901</td>\n",
              "      <td>0.902836</td>\n",
              "      <td>0.91465</td>\n",
              "      <td>0.949344</td>\n",
              "      <td>0.961656</td>\n",
              "      <td>0.918919</td>\n",
              "      <td>0.858458</td>\n",
              "    </tr>\n",
              "  </tbody>\n",
              "</table>\n",
              "</div>"
            ],
            "text/plain": [
              "지역          서울        대구        경기  ...        광주        충남        부산\n",
              "확진       35628      9176     31946  ...      2295      2886      4670\n",
              "격리해제     32468      4009     28842  ...      2207      2652      4009\n",
              "사망         443       219       570  ...        21        36       121\n",
              "완치율   0.911306  0.436901  0.902836  ...  0.961656  0.918919  0.858458\n",
              "\n",
              "[4 rows x 8 columns]"
            ]
          },
          "metadata": {
            "tags": []
          },
          "execution_count": 104
        }
      ]
    },
    {
      "cell_type": "markdown",
      "metadata": {
        "id": "d98EzkckaY_D"
      },
      "source": [
        "#### DataFrame 편집\n",
        "##### 재색인"
      ]
    },
    {
      "cell_type": "code",
      "metadata": {
        "colab": {
          "base_uri": "https://localhost:8080/"
        },
        "id": "uSFasej3aYP4",
        "outputId": "b50947ab-4a4a-4f4a-f45e-b88b55021ab5"
      },
      "source": [
        "# obj_s = pd.Series(np.arange(5.0), index=['d', 'b', 'a', 'c', 'e'])\n",
        "obj_s = pd.Series([0.0, 1.0, 2.0, 3.0, 4.0], index=['d', 'b', 'a', 'c', 'e'])\n",
        "obj_s"
      ],
      "execution_count": null,
      "outputs": [
        {
          "output_type": "execute_result",
          "data": {
            "text/plain": [
              "d    0.0\n",
              "b    1.0\n",
              "a    2.0\n",
              "c    3.0\n",
              "e    4.0\n",
              "dtype: float64"
            ]
          },
          "metadata": {
            "tags": []
          },
          "execution_count": 105
        }
      ]
    },
    {
      "cell_type": "code",
      "metadata": {
        "id": "ehGF2BUuax9H"
      },
      "source": [
        "obj_s = obj_s.reindex(['a', 'b', 'c', 'd', 'e'])\n",
        "obj_s"
      ],
      "execution_count": null,
      "outputs": []
    },
    {
      "cell_type": "code",
      "metadata": {
        "colab": {
          "base_uri": "https://localhost:8080/",
          "height": 325
        },
        "id": "9hILBVJza-jo",
        "outputId": "c7593cdd-4c44-437e-8948-dc562396bbab"
      },
      "source": [
        "co210419 = co210419.reindex(['서울', '경기', '대구', '인천', '부산', '광주', '충남', '광주'])\n",
        "co210419"
      ],
      "execution_count": null,
      "outputs": [
        {
          "output_type": "execute_result",
          "data": {
            "text/html": [
              "<div>\n",
              "<style scoped>\n",
              "    .dataframe tbody tr th:only-of-type {\n",
              "        vertical-align: middle;\n",
              "    }\n",
              "\n",
              "    .dataframe tbody tr th {\n",
              "        vertical-align: top;\n",
              "    }\n",
              "\n",
              "    .dataframe thead th {\n",
              "        text-align: right;\n",
              "    }\n",
              "</style>\n",
              "<table border=\"1\" class=\"dataframe\">\n",
              "  <thead>\n",
              "    <tr style=\"text-align: right;\">\n",
              "      <th></th>\n",
              "      <th>확진</th>\n",
              "      <th>격리해제</th>\n",
              "      <th>사망</th>\n",
              "      <th>완치율</th>\n",
              "    </tr>\n",
              "    <tr>\n",
              "      <th>지역</th>\n",
              "      <th></th>\n",
              "      <th></th>\n",
              "      <th></th>\n",
              "      <th></th>\n",
              "    </tr>\n",
              "  </thead>\n",
              "  <tbody>\n",
              "    <tr>\n",
              "      <th>서울</th>\n",
              "      <td>35628</td>\n",
              "      <td>32468</td>\n",
              "      <td>443</td>\n",
              "      <td>0.911306</td>\n",
              "    </tr>\n",
              "    <tr>\n",
              "      <th>경기</th>\n",
              "      <td>31946</td>\n",
              "      <td>28842</td>\n",
              "      <td>570</td>\n",
              "      <td>0.902836</td>\n",
              "    </tr>\n",
              "    <tr>\n",
              "      <th>대구</th>\n",
              "      <td>9176</td>\n",
              "      <td>4009</td>\n",
              "      <td>219</td>\n",
              "      <td>0.436901</td>\n",
              "    </tr>\n",
              "    <tr>\n",
              "      <th>인천</th>\n",
              "      <td>5488</td>\n",
              "      <td>5210</td>\n",
              "      <td>58</td>\n",
              "      <td>0.949344</td>\n",
              "    </tr>\n",
              "    <tr>\n",
              "      <th>부산</th>\n",
              "      <td>4670</td>\n",
              "      <td>4009</td>\n",
              "      <td>121</td>\n",
              "      <td>0.858458</td>\n",
              "    </tr>\n",
              "    <tr>\n",
              "      <th>광주</th>\n",
              "      <td>2295</td>\n",
              "      <td>2207</td>\n",
              "      <td>21</td>\n",
              "      <td>0.961656</td>\n",
              "    </tr>\n",
              "    <tr>\n",
              "      <th>충남</th>\n",
              "      <td>2886</td>\n",
              "      <td>2652</td>\n",
              "      <td>36</td>\n",
              "      <td>0.918919</td>\n",
              "    </tr>\n",
              "    <tr>\n",
              "      <th>광주</th>\n",
              "      <td>2295</td>\n",
              "      <td>2207</td>\n",
              "      <td>21</td>\n",
              "      <td>0.961656</td>\n",
              "    </tr>\n",
              "  </tbody>\n",
              "</table>\n",
              "</div>"
            ],
            "text/plain": [
              "       확진   격리해제   사망       완치율\n",
              "지역                             \n",
              "서울  35628  32468  443  0.911306\n",
              "경기  31946  28842  570  0.902836\n",
              "대구   9176   4009  219  0.436901\n",
              "인천   5488   5210   58  0.949344\n",
              "부산   4670   4009  121  0.858458\n",
              "광주   2295   2207   21  0.961656\n",
              "충남   2886   2652   36  0.918919\n",
              "광주   2295   2207   21  0.961656"
            ]
          },
          "metadata": {
            "tags": []
          },
          "execution_count": 111
        }
      ]
    },
    {
      "cell_type": "markdown",
      "metadata": {
        "id": "RBaOpi8mbPNn"
      },
      "source": [
        "##### drop()매서드를 이용한 행 또는 열 삭제"
      ]
    },
    {
      "cell_type": "code",
      "metadata": {
        "colab": {
          "base_uri": "https://localhost:8080/"
        },
        "id": "-mEDSENGbTZv",
        "outputId": "33c2fd80-353e-4e86-f498-216a1f0ffa5c"
      },
      "source": [
        "# 한 개의 행 삭제\n",
        "obj_new = obj_s.drop('c')\n",
        "obj_new"
      ],
      "execution_count": null,
      "outputs": [
        {
          "output_type": "execute_result",
          "data": {
            "text/plain": [
              "d    0.0\n",
              "b    1.0\n",
              "a    2.0\n",
              "e    4.0\n",
              "dtype: float64"
            ]
          },
          "metadata": {
            "tags": []
          },
          "execution_count": 112
        }
      ]
    },
    {
      "cell_type": "code",
      "metadata": {
        "colab": {
          "base_uri": "https://localhost:8080/"
        },
        "id": "jquEH98vbdA-",
        "outputId": "3287ef66-7053-4e43-cc18-9c807a1c9d70"
      },
      "source": [
        "# 두 개 이상의 행 삭제\n",
        "obj_new = obj_new.drop(['b', 'd'])\n",
        "obj_new"
      ],
      "execution_count": null,
      "outputs": [
        {
          "output_type": "execute_result",
          "data": {
            "text/plain": [
              "a    2.0\n",
              "e    4.0\n",
              "dtype: float64"
            ]
          },
          "metadata": {
            "tags": []
          },
          "execution_count": 113
        }
      ]
    },
    {
      "cell_type": "code",
      "metadata": {
        "colab": {
          "base_uri": "https://localhost:8080/",
          "height": 294
        },
        "id": "L8UfW-M-bkno",
        "outputId": "c33f347c-9bdd-416e-e602-c6bd760165ae"
      },
      "source": [
        "new_co210419 = co210419.drop('인천')\n",
        "new_co210419"
      ],
      "execution_count": null,
      "outputs": [
        {
          "output_type": "execute_result",
          "data": {
            "text/html": [
              "<div>\n",
              "<style scoped>\n",
              "    .dataframe tbody tr th:only-of-type {\n",
              "        vertical-align: middle;\n",
              "    }\n",
              "\n",
              "    .dataframe tbody tr th {\n",
              "        vertical-align: top;\n",
              "    }\n",
              "\n",
              "    .dataframe thead th {\n",
              "        text-align: right;\n",
              "    }\n",
              "</style>\n",
              "<table border=\"1\" class=\"dataframe\">\n",
              "  <thead>\n",
              "    <tr style=\"text-align: right;\">\n",
              "      <th></th>\n",
              "      <th>확진</th>\n",
              "      <th>격리해제</th>\n",
              "      <th>사망</th>\n",
              "      <th>완치율</th>\n",
              "    </tr>\n",
              "    <tr>\n",
              "      <th>지역</th>\n",
              "      <th></th>\n",
              "      <th></th>\n",
              "      <th></th>\n",
              "      <th></th>\n",
              "    </tr>\n",
              "  </thead>\n",
              "  <tbody>\n",
              "    <tr>\n",
              "      <th>서울</th>\n",
              "      <td>35628</td>\n",
              "      <td>32468</td>\n",
              "      <td>443</td>\n",
              "      <td>0.911306</td>\n",
              "    </tr>\n",
              "    <tr>\n",
              "      <th>경기</th>\n",
              "      <td>31946</td>\n",
              "      <td>28842</td>\n",
              "      <td>570</td>\n",
              "      <td>0.902836</td>\n",
              "    </tr>\n",
              "    <tr>\n",
              "      <th>대구</th>\n",
              "      <td>9176</td>\n",
              "      <td>4009</td>\n",
              "      <td>219</td>\n",
              "      <td>0.436901</td>\n",
              "    </tr>\n",
              "    <tr>\n",
              "      <th>부산</th>\n",
              "      <td>4670</td>\n",
              "      <td>4009</td>\n",
              "      <td>121</td>\n",
              "      <td>0.858458</td>\n",
              "    </tr>\n",
              "    <tr>\n",
              "      <th>광주</th>\n",
              "      <td>2295</td>\n",
              "      <td>2207</td>\n",
              "      <td>21</td>\n",
              "      <td>0.961656</td>\n",
              "    </tr>\n",
              "    <tr>\n",
              "      <th>충남</th>\n",
              "      <td>2886</td>\n",
              "      <td>2652</td>\n",
              "      <td>36</td>\n",
              "      <td>0.918919</td>\n",
              "    </tr>\n",
              "    <tr>\n",
              "      <th>광주</th>\n",
              "      <td>2295</td>\n",
              "      <td>2207</td>\n",
              "      <td>21</td>\n",
              "      <td>0.961656</td>\n",
              "    </tr>\n",
              "  </tbody>\n",
              "</table>\n",
              "</div>"
            ],
            "text/plain": [
              "       확진   격리해제   사망       완치율\n",
              "지역                             \n",
              "서울  35628  32468  443  0.911306\n",
              "경기  31946  28842  570  0.902836\n",
              "대구   9176   4009  219  0.436901\n",
              "부산   4670   4009  121  0.858458\n",
              "광주   2295   2207   21  0.961656\n",
              "충남   2886   2652   36  0.918919\n",
              "광주   2295   2207   21  0.961656"
            ]
          },
          "metadata": {
            "tags": []
          },
          "execution_count": 114
        }
      ]
    },
    {
      "cell_type": "code",
      "metadata": {
        "colab": {
          "base_uri": "https://localhost:8080/",
          "height": 202
        },
        "id": "Ji2JCQ3CbqJu",
        "outputId": "b74e7b06-a2c8-4e07-cef7-81a61fdab30f"
      },
      "source": [
        "# DataFrame의 행 삭제 - 충남, 광주, 인천\n",
        "new_co210419 = co210419.drop(['충남','광주', '인천'])\n",
        "new_co210419"
      ],
      "execution_count": null,
      "outputs": [
        {
          "output_type": "execute_result",
          "data": {
            "text/html": [
              "<div>\n",
              "<style scoped>\n",
              "    .dataframe tbody tr th:only-of-type {\n",
              "        vertical-align: middle;\n",
              "    }\n",
              "\n",
              "    .dataframe tbody tr th {\n",
              "        vertical-align: top;\n",
              "    }\n",
              "\n",
              "    .dataframe thead th {\n",
              "        text-align: right;\n",
              "    }\n",
              "</style>\n",
              "<table border=\"1\" class=\"dataframe\">\n",
              "  <thead>\n",
              "    <tr style=\"text-align: right;\">\n",
              "      <th></th>\n",
              "      <th>확진</th>\n",
              "      <th>격리해제</th>\n",
              "      <th>사망</th>\n",
              "      <th>완치율</th>\n",
              "    </tr>\n",
              "    <tr>\n",
              "      <th>지역</th>\n",
              "      <th></th>\n",
              "      <th></th>\n",
              "      <th></th>\n",
              "      <th></th>\n",
              "    </tr>\n",
              "  </thead>\n",
              "  <tbody>\n",
              "    <tr>\n",
              "      <th>서울</th>\n",
              "      <td>35628</td>\n",
              "      <td>32468</td>\n",
              "      <td>443</td>\n",
              "      <td>0.911306</td>\n",
              "    </tr>\n",
              "    <tr>\n",
              "      <th>경기</th>\n",
              "      <td>31946</td>\n",
              "      <td>28842</td>\n",
              "      <td>570</td>\n",
              "      <td>0.902836</td>\n",
              "    </tr>\n",
              "    <tr>\n",
              "      <th>대구</th>\n",
              "      <td>9176</td>\n",
              "      <td>4009</td>\n",
              "      <td>219</td>\n",
              "      <td>0.436901</td>\n",
              "    </tr>\n",
              "    <tr>\n",
              "      <th>부산</th>\n",
              "      <td>4670</td>\n",
              "      <td>4009</td>\n",
              "      <td>121</td>\n",
              "      <td>0.858458</td>\n",
              "    </tr>\n",
              "  </tbody>\n",
              "</table>\n",
              "</div>"
            ],
            "text/plain": [
              "       확진   격리해제   사망       완치율\n",
              "지역                             \n",
              "서울  35628  32468  443  0.911306\n",
              "경기  31946  28842  570  0.902836\n",
              "대구   9176   4009  219  0.436901\n",
              "부산   4670   4009  121  0.858458"
            ]
          },
          "metadata": {
            "tags": []
          },
          "execution_count": 115
        }
      ]
    },
    {
      "cell_type": "code",
      "metadata": {
        "id": "CkGX18Zwb5_d"
      },
      "source": [
        "# DataFrame 열 삭제 - '삭제'\n",
        "new_co210419 = new_co210419.drop('사망', axis=1)\n",
        "new_co210419"
      ],
      "execution_count": null,
      "outputs": []
    },
    {
      "cell_type": "markdown",
      "metadata": {
        "id": "brdZrEewcHQP"
      },
      "source": [
        "##### 데이터프레임 co210419의 '확진'칼럼을 기준으로 내림차순 정렬"
      ]
    },
    {
      "cell_type": "code",
      "metadata": {
        "id": "evvSNa79cUIE"
      },
      "source": [
        "co210419_s = co210419.sort_values(by=[\"확진\"], ascending= False)\n",
        "co210419_s"
      ],
      "execution_count": null,
      "outputs": []
    },
    {
      "cell_type": "markdown",
      "metadata": {
        "id": "KcTRwDFvda_x"
      },
      "source": [
        "#### DataFrame의 슬라이싱\n",
        "##### 슬라이싱을 이용하여 확진자 수가 가장 많은 세 지역 정보로 새로운 데이터 프레임 co2104919_top3을 생성"
      ]
    },
    {
      "cell_type": "code",
      "metadata": {
        "id": "QEpe_zExdad3"
      },
      "source": [
        "co210419_top3 = co210419_s[:3]\n",
        "co210419_top3"
      ],
      "execution_count": null,
      "outputs": []
    },
    {
      "cell_type": "markdown",
      "metadata": {
        "id": "sfb3xzC-d3iN"
      },
      "source": [
        "##### head() 함수를 이용하여 확진자 수가 가장 많은 세 지역 정보로 새로운 데이터 프레임 co210419_top3을 생성"
      ]
    },
    {
      "cell_type": "code",
      "metadata": {
        "id": "0CePNY4-d_BE"
      },
      "source": [
        "co210419_top3 = co210419_s.head(3)\n",
        "co210419_top3"
      ],
      "execution_count": null,
      "outputs": []
    },
    {
      "cell_type": "markdown",
      "metadata": {
        "id": "a7uelndSeRM1"
      },
      "source": [
        "##### head() 함수를 이용하여 확진자 수가 가장 적은 세 지역 정보로 새로운 데이터 프레임 co210419_top3을 생성"
      ]
    },
    {
      "cell_type": "code",
      "metadata": {
        "id": "0-1ppZiHeKqY"
      },
      "source": [
        "co210419_top3 = co210419_s.tail(3)\n",
        "co210419_top3"
      ],
      "execution_count": null,
      "outputs": []
    }
  ]
}