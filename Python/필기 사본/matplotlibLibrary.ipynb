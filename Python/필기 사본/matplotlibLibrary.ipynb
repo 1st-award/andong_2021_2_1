{
  "nbformat": 4,
  "nbformat_minor": 0,
  "metadata": {
    "colab": {
      "name": "matplotlibLibrary.ipynb",
      "provenance": [],
      "collapsed_sections": [],
      "authorship_tag": "ABX9TyPJPYr6KgjL+PPVgPhpzMs8",
      "include_colab_link": true
    },
    "kernelspec": {
      "name": "python3",
      "display_name": "Python 3"
    },
    "language_info": {
      "name": "python"
    }
  },
  "cells": [
    {
      "cell_type": "markdown",
      "metadata": {
        "id": "view-in-github",
        "colab_type": "text"
      },
      "source": [
        "<a href=\"https://colab.research.google.com/github/1st-award/andong_2021_2_1/blob/main/Python/%ED%95%84%EA%B8%B0%20%EC%82%AC%EB%B3%B8/matplotlibLibrary.ipynb\" target=\"_parent\"><img src=\"https://colab.research.google.com/assets/colab-badge.svg\" alt=\"Open In Colab\"/></a>"
      ]
    },
    {
      "cell_type": "markdown",
      "metadata": {
        "id": "Fl6v1ZHLCfqd"
      },
      "source": [
        "## 1. matplotlib 라이브러리의 포함"
      ]
    },
    {
      "cell_type": "code",
      "metadata": {
        "id": "C3Jl3mYYCjno"
      },
      "source": [
        "import matplotlib.pyplot as plt\n",
        "import numpy as np"
      ],
      "execution_count": null,
      "outputs": []
    },
    {
      "cell_type": "markdown",
      "metadata": {
        "id": "eRSfYBeqCpfa"
      },
      "source": [
        "## 2. 간단한 라인 그래프 작성"
      ]
    },
    {
      "cell_type": "code",
      "metadata": {
        "id": "53idVnPJACTB"
      },
      "source": [
        "import matplotlib.pyplot as plt\n",
        "plt.plot([1, 2, 3, 4], [1, 4, 2, 3])\n",
        "plt.show()"
      ],
      "execution_count": null,
      "outputs": []
    },
    {
      "cell_type": "markdown",
      "metadata": {
        "id": "h1qyQmTGAO6M"
      },
      "source": [
        "그래프를 보기좋게 다듬어봅시다."
      ]
    },
    {
      "cell_type": "code",
      "metadata": {
        "id": "wtT1ipqGANwT"
      },
      "source": [
        "x = [1, 2, 3, 4]\n",
        "y = [1, 4, 2, 3]\n",
        "plt.xticks(x)\n",
        "plt.yticks(x)\n",
        "plt.plot(x, y, \"rp:\") # 선의 색, 스타일, 표식설정\n",
        "plt.show()"
      ],
      "execution_count": null,
      "outputs": []
    },
    {
      "cell_type": "code",
      "metadata": {
        "id": "LyfrEaFTAwnE"
      },
      "source": [
        "import numpy as np\n",
        "x = np.array([1, 2, 3, 4])\n",
        "y1 = x * 0.5\n",
        "y2 = x * 2\n",
        "y3 = x ** 2\n",
        "plt.plot(x, y1, \"ro-\")\n",
        "plt.plot(x, y2, \"gs--\")\n",
        "plt.plot(x, y3, \"b*:\")\n",
        "plt.show()"
      ],
      "execution_count": null,
      "outputs": []
    },
    {
      "cell_type": "code",
      "metadata": {
        "id": "tM3OM3fZBna9"
      },
      "source": [
        "xx= np.linspace(1, 4, 200) # 1에서 4까지 200개의 점 생성\n",
        "y1 = xx * 0.5\n",
        "y2 = xx * 2\n",
        "y3 = xx ** 2\n",
        "plt.plot(xx, y1)\n",
        "plt.plot(xx, y2)\n",
        "plt.plot(xx, y3)\n",
        "plt.show()"
      ],
      "execution_count": null,
      "outputs": []
    },
    {
      "cell_type": "code",
      "metadata": {
        "id": "GX_SBZeHDPN6"
      },
      "source": [
        "x = np.array([1,2, 3, 4])\n",
        "xx = np.linspace(1, 4, 200)\n",
        "y1 = xx * 0.5\n",
        "y2 = xx * 2\n",
        "y3 = xx **2\n",
        "plt.xticks(x)\n",
        "plt.plot(xx, y1, color=\"mediumorchid\")\n",
        "plt.plot(xx, y2, color=\"aqua\")\n",
        "plt.plot(xx, y3, color=\"firebrick\")"
      ],
      "execution_count": null,
      "outputs": []
    },
    {
      "cell_type": "markdown",
      "metadata": {
        "id": "KO5xCIioD-LW"
      },
      "source": [
        "### 제목과 범례 추가"
      ]
    },
    {
      "cell_type": "code",
      "metadata": {
        "id": "mv3GHv09EBVD"
      },
      "source": [
        "x = np.array([1, 2, 3, 4])\n",
        "xx = np.linspace(1, 4, 200)\n",
        "y1 = xx * 0.5\n",
        "y2 = xx * 2\n",
        "y3 = xx ** 2\n",
        "plt.xticks(x)\n",
        "plt.title(\"Plot Example\")\n",
        "plt.plot(xx, y1, label = \"linear 5x\")\n",
        "plt.plot(xx, y2, label = \"linear 2x\")\n",
        "plt.plot(xx, y3, label = \"quadratic\")\n",
        "plt.legend()\n",
        "plt.show()"
      ],
      "execution_count": null,
      "outputs": []
    },
    {
      "cell_type": "markdown",
      "metadata": {
        "id": "h4zf0dL2EeK3"
      },
      "source": [
        "### **Numpy와 Matplotlib를 이용한 sin곡선 그리기**"
      ]
    },
    {
      "cell_type": "code",
      "metadata": {
        "colab": {
          "base_uri": "https://localhost:8080/",
          "height": 265
        },
        "id": "ZtrCKwJxEnkY",
        "outputId": "cdf46979-6108-4059-da70-f3f2b1a9fbef"
      },
      "source": [
        "import numpy as np\n",
        "import matplotlib.pyplot as plt\n",
        "\n",
        "x= np.linspace(0, 2*np.pi, 200)\n",
        "y= np.sin(x)\n",
        "\n",
        "plt.plot(x, y)\n",
        "plt.show()"
      ],
      "execution_count": null,
      "outputs": [
        {
          "output_type": "display_data",
          "data": {
            "image/png": "[encoded data removed]",
            "text/plain": [
              "<Figure size 432x288 with 1 Axes>"
            ]
          },
          "metadata": {
            "tags": [],
            "needs_background": "light"
          }
        }
      ]
    },
    {
      "cell_type": "markdown",
      "metadata": {
        "id": "Sz9W67wmF4wX"
      },
      "source": [
        "**sin 곡선과 cos 곡선 그리기**"
      ]
    },
    {
      "cell_type": "code",
      "metadata": {
        "id": "4EbX7m0cF9yR"
      },
      "source": [
        "import numpy as np\n",
        "import matplotlib.pyplot as plit\n",
        "\n",
        "X = np.linspace(0, 2*np.pi, 200)\n",
        "Y1 = np.sin(X)\n",
        "Y2 = np.cos(X)\n",
        "\n",
        "plt.title(\"Sin & Cos Curve\")\n",
        "plt.plot(X, Y1, \"r--\", label=\"sin curve\")\n",
        "plt.plot(X, Y2, \"b--\", label=\"cos curve\")\n",
        "plt.legend()\n",
        "plt.show()"
      ],
      "execution_count": null,
      "outputs": []
    },
    {
      "cell_type": "markdown",
      "metadata": {
        "id": "ErOY5pDyGhKf"
      },
      "source": [
        "## 3. 막대 그래프 작성하기\n",
        "\n",
        "막대 그래프는 각 항목의 값들의 크기를 쉽게 비교할 수 있어요"
      ]
    },
    {
      "cell_type": "code",
      "metadata": {
        "id": "Wnp2gpo9GmZn"
      },
      "source": [
        "import numpy as np\n",
        "import matplotlib.pyplot as plt\n",
        "\n",
        "x = [x for x in range(1, 11)]\n",
        "# 10이상 50미만의 임의의 정수 열 개를 원소로 가지는 리스트 생성\n",
        "y = [np.random.randint(10, 50) for i in range(len(x))]\n",
        "plt.xticks(x)\n",
        "plt.bar(x, y)\n",
        "plt.show"
      ],
      "execution_count": null,
      "outputs": []
    },
    {
      "cell_type": "markdown",
      "metadata": {
        "id": "A3JtWxSMOrL6"
      },
      "source": [
        "**다중 막대 그래프 그리기**"
      ]
    },
    {
      "cell_type": "code",
      "metadata": {
        "id": "ulSdTbJqOtte"
      },
      "source": [
        "import numpy as np\n",
        "import matplotlib.pyplot as plt\n",
        "\n",
        "x = [x for x in range(1, 11)]\n",
        "y1 = [np.random.randint(10, 50) for i in range(len(x))]\n",
        "y2 = [np.random.randint(10, 50) for i in range(len(x))]\n",
        "plt.xticks(x)\n",
        "plt.bar(x, y1, color=\"y\")\n",
        "plt.bar(x, y2, color=\"g\")\n",
        "plt.show()"
      ],
      "execution_count": null,
      "outputs": []
    },
    {
      "cell_type": "code",
      "metadata": {
        "id": "D0RqTvKbPHZ7"
      },
      "source": [
        "import numpy as np\n",
        "import matplotlib.pyplot as plt\n",
        "\n",
        "x = np.array([x for x in range(1, 11)]).astype(np.float32)\n",
        "y1 = [np.random.randint(10, 50) for i in range(len(x))]\n",
        "y2 = [np.random.randint(10, 50) for i in range(len(x))]\n",
        "plt.xticks(x)\n",
        "plt.bar(x, y1, color=\"y\", width=0.3)\n",
        "plt.bar(x+0.3, y2, color=\"g\", width=0.3)\n",
        "plt.show()"
      ],
      "execution_count": null,
      "outputs": []
    },
    {
      "cell_type": "markdown",
      "metadata": {
        "id": "27430-xUPiAC"
      },
      "source": [
        "## 4. 원형 그래프 그리기\n",
        "\n",
        "원형 그래프는 전체에 대하여 각 항목의 값이 차지하는 비율을 확인할 수 있는 차트입니다."
      ]
    },
    {
      "cell_type": "code",
      "metadata": {
        "id": "9XEtVYimQP3p"
      },
      "source": [
        "import matplotlib.pyplot as plt\n",
        "\n",
        "expenditure = [300000, 150000, 100000, 80000, 30000, 250000]\n",
        "item = ['A', 'B', 'C', 'D', 'E', 'F']\n",
        "\n",
        "plt.pie(expenditure, labels = item, autopct = \"%.2f%%\") # %.2f%% 소숫점 2번째까지 출력을 하고, %를 출력\n",
        "plt.legend()\n",
        "plt.show"
      ],
      "execution_count": null,
      "outputs": []
    },
    {
      "cell_type": "code",
      "metadata": {
        "id": "bm17IobiQosN"
      },
      "source": [
        "import matplotlib.pyplot as plt\n",
        "\n",
        "expenditure = [300000, 150000, 100000, 80000, 30000, 250000]\n",
        "item = ['A', 'B', 'C', 'D', 'E', 'F']\n",
        "\n",
        "plt.pie(expenditure, labels = item, startangle=90, autopct=\"%.1f%%\")\n",
        "plt.legend()\n",
        "plt.show()"
      ],
      "execution_count": null,
      "outputs": []
    },
    {
      "cell_type": "code",
      "metadata": {
        "colab": {
          "base_uri": "https://localhost:8080/",
          "height": 248
        },
        "id": "onunCNbLRavI",
        "outputId": "670d383b-ca28-4a57-973b-dae8f5041019"
      },
      "source": [
        "import matplotlib.pyplot as plt\n",
        "\n",
        "expenditure = [300000, 150000, 100000, 80000, 30000, 250000]\n",
        "item = ['A', 'B', 'C', 'D', 'E', 'F']\n",
        "\n",
        "plt.pie(expenditure, labels = item, startangle=90, shadow = True, explode=(0.1, 0, 0.1, 0, 0, 0), autopct=\"%.1f%%\")\n",
        "plt.legend()\n",
        "plt.show()"
      ],
      "execution_count": null,
      "outputs": [
        {
          "output_type": "display_data",
          "data": {
            "image/png": "[encoded data removed]",
            "text/plain": [
              "<Figure size 432x288 with 1 Axes>"
            ]
          },
          "metadata": {
            "tags": []
          }
        }
      ]
    },
    {
      "cell_type": "markdown",
      "metadata": {
        "id": "Lf7GSm9CLQLw"
      },
      "source": [
        "## 난수를 원소로 가지는 배열 생성\n",
        "\n",
        "np.random.randint(n): 0이상 n미만의 정수형 난수 1개를 생성성"
      ]
    },
    {
      "cell_type": "code",
      "metadata": {
        "id": "WGyUk0XfLXRy"
      },
      "source": [
        "import numpy as np\n",
        "\n",
        "randArr1 = np.random.randint(10) # 0이상 10미만의 정수형 난수 1개 발생\n",
        "randArr1"
      ],
      "execution_count": null,
      "outputs": []
    },
    {
      "cell_type": "markdown",
      "metadata": {
        "id": "Q3zvNl5KLfkU"
      },
      "source": [
        "np.random.randint(m. n): m이상 n미만의 정수형 난수 1개를 생성"
      ]
    },
    {
      "cell_type": "code",
      "metadata": {
        "id": "SiBC29OELkDd"
      },
      "source": [
        "# 10에서 99사이의 랜덤한 두 자리 정수 1개 생성\n",
        "import numpy.random as rd\n",
        "randArr1 = rd.randint(10, 100)\n",
        "randArr1"
      ],
      "execution_count": null,
      "outputs": []
    },
    {
      "cell_type": "markdown",
      "metadata": {
        "id": "ykJCE95lMB2g"
      },
      "source": [
        "np.random.rand(n): 0이상 1미만의 임의의 실수 n개를 균등한 분포로 선택하여 numpy array 생성 n의 크기가 커질수록 분포는 균등해진다."
      ]
    },
    {
      "cell_type": "code",
      "metadata": {
        "id": "0LOqD-nrLn6S"
      },
      "source": [
        "randArr1d = rd.rand(20)\n",
        "randArr2d = rd.rand(20).reshape(4, 5)\n",
        "randArr2d"
      ],
      "execution_count": null,
      "outputs": []
    },
    {
      "cell_type": "markdown",
      "metadata": {
        "id": "a_o4EYXmMdvk"
      },
      "source": [
        "np.random.randn(n): 표준 정규 분포(평균:0, 표준편차:1, 평균을 중심으로 좌우대칭 종모양)를 따르는 n개의 실수 선택하여 numpy array를 생성"
      ]
    },
    {
      "cell_type": "code",
      "metadata": {
        "id": "m0t3I6mkMtqg"
      },
      "source": [
        "randnArr1d = rd.randn(20)\n",
        "randnArr2d = rd.randn(20).reshape(4, 5)\n",
        "randnArr2d"
      ],
      "execution_count": null,
      "outputs": []
    },
    {
      "cell_type": "code",
      "metadata": {
        "id": "QVioooOSNKNJ"
      },
      "source": [
        "randnArr2d = rd.randn(10).reshape(2, 5)\n",
        "randnArr2d"
      ],
      "execution_count": null,
      "outputs": []
    },
    {
      "cell_type": "markdown",
      "metadata": {
        "id": "2aiXQ9NsSI2f"
      },
      "source": [
        "# Colaboratory matplotlib에서 한글 폰트 사용하기\n",
        "\n",
        "## 1. 한글 깨짐 현상상"
      ]
    },
    {
      "cell_type": "code",
      "metadata": {
        "id": "QiGqPRZ5SRrS"
      },
      "source": [
        "import matplotlib.pyplot as plt\n",
        "\n",
        "expenditure = [300000, 150000, 100000, 80000, 30000, 250000]\n",
        "item = ['A', 'B', 'C', 'D', 'E', 'F']\n",
        "\n",
        "plt.title(\"한달 소비현황\") # 구글 서버를 이용하고 있는데 서버에 한글이 없기때문에 에러가 나오면서 깨진다.\n",
        "plt.pie(expenditure, labels = item, startangle=90, shadow = True, explode=(0.1, 0, 0.1, 0, 0, 0), autopct=\"%.1f%%\")\n",
        "plt.legend()\n",
        "plt.show()"
      ],
      "execution_count": null,
      "outputs": []
    },
    {
      "cell_type": "markdown",
      "metadata": {
        "id": "e7fNexmJSoZM"
      },
      "source": [
        "## 2. Colab에 설치된 한글 폰트 확인하기\n",
        "\n",
        "### (1) 설치된 폰트 확인"
      ]
    },
    {
      "cell_type": "code",
      "metadata": {
        "id": "rlYMr3UJS2w6"
      },
      "source": [
        "import matplotlib.font_manager as fm\n",
        "sys_font=fm.findSystemFonts()\n",
        "print(f\"sys_font number:{len(sys_font)}\")\n",
        "print(sys_font)"
      ],
      "execution_count": null,
      "outputs": []
    },
    {
      "cell_type": "markdown",
      "metadata": {
        "id": "Mfen4xcyTEkO"
      },
      "source": [
        "설치된 폰트 중에 한글을 지원하는 것은 없습니다.\n",
        "나눔체를 설치해봅시다."
      ]
    },
    {
      "cell_type": "code",
      "metadata": {
        "id": "Pcs3Dy1FTI4V"
      },
      "source": [
        "# 나눔 폰트를 설치\n",
        "!apt -qq -y install fonts-nanum\n",
        "!apt-get install fonts-nanum* -qq"
      ],
      "execution_count": null,
      "outputs": []
    },
    {
      "cell_type": "markdown",
      "metadata": {
        "id": "OqCoDOngTauq"
      },
      "source": [
        "어떤 나눔 폰트들이 설치되었는지 확인해봅시다."
      ]
    },
    {
      "cell_type": "code",
      "metadata": {
        "id": "-UWDIHeYTdZV"
      },
      "source": [
        "import matplotlib.font_manager as fm\n",
        "sys_font = fm.findSystemFonts()\n",
        "print(f\"sys_font number: {len(sys_font)}\")\n",
        "nanum_font = [f for f in sys_font if \"Nanum\" in f]\n",
        "print(f\"nanum_font number: {len(nanum_font)}\")"
      ],
      "execution_count": null,
      "outputs": []
    },
    {
      "cell_type": "code",
      "metadata": {
        "colab": {
          "base_uri": "https://localhost:8080/"
        },
        "id": "UMp_V3ghTr3s",
        "outputId": "b6699fde-46ed-4eff-aaba-48aa8e52b9dd"
      },
      "source": [
        "nanum_font"
      ],
      "execution_count": null,
      "outputs": [
        {
          "output_type": "execute_result",
          "data": {
            "text/plain": [
              "['/usr/share/fonts/truetype/nanum/NanumGothicCoding.ttf',\n",
              " '/usr/share/fonts/truetype/nanum/NanumBarunpenB.ttf',\n",
              " '/usr/share/fonts/truetype/nanum/NanumSquareR.ttf',\n",
              " '/usr/share/fonts/truetype/nanum/NanumMyeongjoBold.ttf',\n",
              " '/usr/share/fonts/truetype/nanum/NanumBarunGothicBold.ttf',\n",
              " '/usr/share/fonts/truetype/nanum/NanumSquareEB.ttf',\n",
              " '/usr/share/fonts/truetype/nanum/NanumBarunpenR.ttf',\n",
              " '/usr/share/fonts/truetype/nanum/NanumMyeongjo.ttf',\n",
              " '/usr/share/fonts/truetype/nanum/NanumMyeongjoExtraBold.ttf',\n",
              " '/usr/share/fonts/truetype/nanum/NanumGothicEcoBold.ttf',\n",
              " '/usr/share/fonts/truetype/nanum/NanumSquareRoundR.ttf',\n",
              " '/usr/share/fonts/truetype/nanum/NanumGothicCoding-Bold.ttf',\n",
              " '/usr/share/fonts/truetype/nanum/NanumBrush.ttf',\n",
              " '/usr/share/fonts/truetype/nanum/NanumGothicEco.ttf',\n",
              " '/usr/share/fonts/truetype/nanum/NanumMyeongjoEcoBold.ttf',\n",
              " '/usr/share/fonts/truetype/nanum/NanumGothicEcoExtraBold.ttf',\n",
              " '/usr/share/fonts/truetype/nanum/NanumGothicExtraBold.ttf',\n",
              " '/usr/share/fonts/truetype/nanum/NanumSquareRoundB.ttf',\n",
              " '/usr/share/fonts/truetype/nanum/NanumMyeongjoEco.ttf',\n",
              " '/usr/share/fonts/truetype/nanum/NanumSquareRoundL.ttf',\n",
              " '/usr/share/fonts/truetype/nanum/NanumGothic.ttf',\n",
              " '/usr/share/fonts/truetype/nanum/NanumSquareB.ttf',\n",
              " '/usr/share/fonts/truetype/nanum/NanumSquareL.ttf',\n",
              " '/usr/share/fonts/truetype/nanum/NanumBarunGothicUltraLight.ttf',\n",
              " '/usr/share/fonts/truetype/nanum/NanumMyeongjoEcoExtraBold.ttf',\n",
              " '/usr/share/fonts/truetype/nanum/NanumPen.ttf',\n",
              " '/usr/share/fonts/truetype/nanum/NanumBarunGothic.ttf',\n",
              " '/usr/share/fonts/truetype/nanum/NanumGothicLight.ttf',\n",
              " '/usr/share/fonts/truetype/nanum/NanumBarunGothicLight.ttf',\n",
              " '/usr/share/fonts/truetype/nanum/NanumSquareRoundEB.ttf',\n",
              " '/usr/share/fonts/truetype/nanum/NanumGothicBold.ttf']"
            ]
          },
          "metadata": {
            "tags": []
          },
          "execution_count": 4
        }
      ]
    },
    {
      "cell_type": "markdown",
      "metadata": {
        "id": "5xej5ssaT_oy"
      },
      "source": [
        "Colab의 런타임을 다시 시작하자. **런타임 - 런타임 다시 시작**\n",
        "\n",
        "한글 제목이 붙은 원형 그래프를 다시 그려보자"
      ]
    },
    {
      "cell_type": "code",
      "metadata": {
        "colab": {
          "base_uri": "https://localhost:8080/",
          "height": 263
        },
        "id": "UYdehFX1UGrn",
        "outputId": "6d4fb3c5-844a-4ee4-9fd3-f02a902015b5"
      },
      "source": [
        "import matplotlib.pyplot as plt\n",
        "import numpy as np\n",
        "import matplotlib.font_manager as fm\n",
        "from google.colab import files\n",
        "fontPath = '/usr/share/fonts/truetype/nanum/NanumGothic.ttf'\n",
        "plt.rcParams[\"font.family\"] = \"NanumGothic\"\n",
        "plt.rcParams[\"font.size\"] = 10\n",
        "fm._rebuild()\n",
        "fig = plt.figure()\n",
        "expenditure = [300000, 150000, 100000, 80000, 30000, 250000]\n",
        "item = [\"식비\", \"의류비\", \"문화비\", \"교통비\", \"통신비\", \"기타\"]\n",
        "\n",
        "plt.title(\"한 달 소비 현황 분석\")\n",
        "plt.pie(expenditure, labels = item, startangle=90, shadow=True, explode=(0.1, 0, 0, 0, 0, 0), autopct=\"%.1f%%\")\n",
        "plt.legend()\n",
        "plt.show()\n",
        "\n",
        "fig.savefig(\"graph_c.png\")\n",
        "files.download(\"graph_c.png\")"
      ],
      "execution_count": null,
      "outputs": [
        {
          "output_type": "display_data",
          "data": {
            "image/png": "[encoded data removed]",
            "text/plain": [
              "<Figure size 432x288 with 1 Axes>"
            ]
          },
          "metadata": {
            "tags": []
          }
        },
        {
          "output_type": "display_data",
          "data": {
            "application/javascript": [
              "\n",
              "    async function download(id, filename, size) {\n",
              "      if (!google.colab.kernel.accessAllowed) {\n",
              "        return;\n",
              "      }\n",
              "      const div = document.createElement('div');\n",
              "      const label = document.createElement('label');\n",
              "      label.textContent = `Downloading \"${filename}\": `;\n",
              "      div.appendChild(label);\n",
              "      const progress = document.createElement('progress');\n",
              "      progress.max = size;\n",
              "      div.appendChild(progress);\n",
              "      document.body.appendChild(div);\n",
              "\n",
              "      const buffers = [];\n",
              "      let downloaded = 0;\n",
              "\n",
              "      const channel = await google.colab.kernel.comms.open(id);\n",
              "      // Send a message to notify the kernel that we're ready.\n",
              "      channel.send({})\n",
              "\n",
              "      for await (const message of channel.messages) {\n",
              "        // Send a message to notify the kernel that we're ready.\n",
              "        channel.send({})\n",
              "        if (message.buffers) {\n",
              "          for (const buffer of message.buffers) {\n",
              "            buffers.push(buffer);\n",
              "            downloaded += buffer.byteLength;\n",
              "            progress.value = downloaded;\n",
              "          }\n",
              "        }\n",
              "      }\n",
              "      const blob = new Blob(buffers, {type: 'application/binary'});\n",
              "      const a = document.createElement('a');\n",
              "      a.href = window.URL.createObjectURL(blob);\n",
              "      a.download = filename;\n",
              "      div.appendChild(a);\n",
              "      a.click();\n",
              "      div.remove();\n",
              "    }\n",
              "  "
            ],
            "text/plain": [
              "<IPython.core.display.Javascript object>"
            ]
          },
          "metadata": {
            "tags": []
          }
        },
        {
          "output_type": "display_data",
          "data": {
            "application/javascript": [
              "download(\"download_8c668b41-b8e3-40f9-ad92-5915a9aceb1b\", \"graph_c.png\", 20837)"
            ],
            "text/plain": [
              "<IPython.core.display.Javascript object>"
            ]
          },
          "metadata": {
            "tags": []
          }
        }
      ]
    },
    {
      "cell_type": "markdown",
      "metadata": {
        "id": "lCIjDQ_kVpbf"
      },
      "source": [
        "**x축 눈금을 문자열로 작성하기**"
      ]
    },
    {
      "cell_type": "code",
      "metadata": {
        "colab": {
          "base_uri": "https://localhost:8080/",
          "height": 280
        },
        "id": "IujgeI1wWXEU",
        "outputId": "2e619052-3f97-4a04-a3d2-b6d11945ce24"
      },
      "source": [
        "import numpy as np\n",
        "import matplotlib.pyplot as plt\n",
        "month = [m for m in range(12)]\n",
        "xlabels = [\"1월\", \"2월\", \"3월\", \"4월\", \"5월\", \"6월\", \"7월\", \"8월\", \"9월\", \"10월\", \"11월\", \"12월\"]\n",
        "y = [380000, 420000, 300000, 280000, 560000, 310000, 380000, 420000, 390000, 360000, 280000, 600000]\n",
        "\n",
        "plt.title(\"연간 생활비의 비교(2019)\")\n",
        "plt.xticks(month, xlabels)\n",
        "plt.bar(xlabels, y)\n",
        "plt.show()"
      ],
      "execution_count": null,
      "outputs": [
        {
          "output_type": "display_data",
          "data": {
            "image/png": "[encoded data removed]",
            "text/plain": [
              "<Figure size 432x288 with 1 Axes>"
            ]
          },
          "metadata": {
            "tags": [],
            "needs_background": "light"
          }
        }
      ]
    },
    {
      "cell_type": "markdown",
      "metadata": {
        "id": "WQZTLwq9XSV1"
      },
      "source": [
        "x축 제목과 y축 제목 달기"
      ]
    },
    {
      "cell_type": "code",
      "metadata": {
        "colab": {
          "base_uri": "https://localhost:8080/",
          "height": 294
        },
        "id": "nz97cZ4nXUn5",
        "outputId": "e5194ddf-f029-4560-94be-aa753af93d60"
      },
      "source": [
        "import numpy as np\n",
        "import matplotlib.pyplot as plt\n",
        "\n",
        "month = [m for m in range(12)]\n",
        "xlabels = [\"1월\", \"2월\", \"3월\", \"4월\", \"5월\", \"6월\", \"7월\", \"8월\", \"9월\", \"10월\", \"11월\", \"12월\"]\n",
        "y = [380000, 420000, 300000, 280000, 560000, 310000, 380000, 420000, 390000, 360000, 280000, 600000]\n",
        "\n",
        "plt.xlabel(\"월별\")\n",
        "plt.ylabel(\"지출액\")\n",
        "plt.title(\"연간 생활비의 비교(2019\")\n",
        "plt.xticks(month, xlabels)\n",
        "plt.bar(xlabels, y)\n",
        "plt.show()"
      ],
      "execution_count": null,
      "outputs": [
        {
          "output_type": "display_data",
          "data": {
            "image/png": "[encoded data removed]",
            "text/plain": [
              "<Figure size 432x288 with 1 Axes>"
            ]
          },
          "metadata": {
            "tags": [],
            "needs_background": "light"
          }
        }
      ]
    },
    {
      "cell_type": "markdown",
      "metadata": {
        "id": "_pAS1k2nXxqE"
      },
      "source": [
        "## 그래프를 파일로 출력하기기"
      ]
    },
    {
      "cell_type": "code",
      "metadata": {
        "id": "yyB6e4fHX03a"
      },
      "source": [
        "import numpy as np\n",
        "import matplotlib.pyplot as plt\n",
        "from google.colab import files\n",
        "month = [m for m in range(12)]\n",
        "xlabels = [\"1월\", \"2월\", \"3월\", \"4월\", \"5월\", \"6월\", \"7월\", \"8월\", \"9월\", \"10월\", \"11월\", \"12월\"]\n",
        "y = [380000, 420000, 300000, 280000, 560000, 310000, 380000, 420000, 390000, 360000, 280000, 600000]\n",
        "\n",
        "fig = plt.figure()\n",
        "\n",
        "plt.xlabel(\"월별\")\n",
        "plt.ylabel(\"지출액\")\n",
        "plt.title(\"연간 생활비의 비교(2019\")\n",
        "plt.xticks(month, xlabels)\n",
        "plt.bar(xlabels, y)\n",
        "plt.show()\n",
        "fig.savefig(\"graph.png\") # 구글 내 드라이브에 저장\n",
        "files.download(\"graph.png\") # 목적지 : 내 컴퓨터"
      ],
      "execution_count": null,
      "outputs": []
    }
  ]
}