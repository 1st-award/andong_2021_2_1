{
  "nbformat": 4,
  "nbformat_minor": 0,
  "metadata": {
    "colab": {
      "name": "실전연습_01_2.ipynb",
      "provenance": [],
      "collapsed_sections": [],
      "authorship_tag": "ABX9TyOzzvJ969ywNJRRuiISjSei",
      "include_colab_link": true
    },
    "kernelspec": {
      "name": "python3",
      "display_name": "Python 3"
    }
  },
  "cells": [
    {
      "cell_type": "markdown",
      "metadata": {
        "id": "view-in-github",
        "colab_type": "text"
      },
      "source": [
        "<a href=\"https://colab.research.google.com/github/1st-award/andong_2021_2_1/blob/main/Python/%ED%95%84%EA%B8%B0%20%EC%82%AC%EB%B3%B8/%EC%8B%A4%EC%A0%84%EC%97%B0%EC%8A%B5_01_2.ipynb\" target=\"_parent\"><img src=\"https://colab.research.google.com/assets/colab-badge.svg\" alt=\"Open In Colab\"/></a>"
      ]
    },
    {
      "cell_type": "markdown",
      "metadata": {
        "id": "mucXfRaPdPxX"
      },
      "source": [
        "#문자열 처리 관련 실전 연습"
      ]
    },
    {
      "cell_type": "markdown",
      "metadata": {
        "id": "hV-_WWkAdTNs"
      },
      "source": [
        "###1. 다음 문자열을 변수 poem에 할당하시오.\n",
        "\n",
        "\"애기 바람이 나뭇가지에 소올소올\""
      ]
    },
    {
      "cell_type": "code",
      "metadata": {
        "id": "4miZrI_0ddYF"
      },
      "source": [
        ""
      ],
      "execution_count": null,
      "outputs": []
    },
    {
      "cell_type": "markdown",
      "metadata": {
        "id": "jicRi3zLdyvA"
      },
      "source": [
        "####2. 위 1번의 문자열에서 \"애기 바람\"만 출력하시오"
      ]
    },
    {
      "cell_type": "code",
      "metadata": {
        "id": "xA52uEL8d2gn"
      },
      "source": [
        ""
      ],
      "execution_count": null,
      "outputs": []
    },
    {
      "cell_type": "markdown",
      "metadata": {
        "id": "qZEflByGeIMx"
      },
      "source": [
        "####3. 다음과 같은 코드를 이용하여 위 1번의 문자열에서 \"소올소올\"을 \"살랑살랑\"으로 변경하려고 하는데 문제가 발생하였습니다. 왜 그럴까요?"
      ]
    },
    {
      "cell_type": "code",
      "metadata": {
        "id": "V5Ce_xsheRnn"
      },
      "source": [
        "poem[13:]= '살랑살랑' #문자열을 중간에 바꿀 수 없다"
      ],
      "execution_count": null,
      "outputs": []
    },
    {
      "cell_type": "markdown",
      "metadata": {
        "id": "_DmwyP9Ld_5H"
      },
      "source": [
        "####4. 위 3번 문제를 replace()함수를 이용하여 해결하시오."
      ]
    },
    {
      "cell_type": "code",
      "metadata": {
        "id": "QQpI2DTLeHUG"
      },
      "source": [
        ""
      ],
      "execution_count": null,
      "outputs": []
    },
    {
      "cell_type": "markdown",
      "metadata": {
        "id": "nr2Lv44te0_Y"
      },
      "source": [
        "####5. 모바일 폰 번호의 중간 4자리는 최초 가입할 당시의 통신사를 의미하고, 뒤의 4자리는 개인 구분 번호입니다. 다음과 같이 출력 할 수 있는 코드를 작성하시오."
      ]
    },
    {
      "cell_type": "code",
      "metadata": {
        "id": "N5WAoBYNfBo8"
      },
      "source": [
        "phoneNumber= '010-1234-5678'"
      ],
      "execution_count": null,
      "outputs": []
    },
    {
      "cell_type": "markdown",
      "metadata": {
        "id": "yjAIZAirfIQH"
      },
      "source": [
        "**출력결과**\n",
        "\n",
        "통신사 번호: 1234\n",
        "\n",
        "개인 번호: 5678"
      ]
    },
    {
      "cell_type": "code",
      "metadata": {
        "colab": {
          "base_uri": "https://localhost:8080/"
        },
        "id": "P4yj4LfsfL9d",
        "outputId": "ed0ddf37-4d64-4ae6-d28a-f31e4b6d5935"
      },
      "source": [
        ""
      ],
      "execution_count": null,
      "outputs": [
        {
          "output_type": "stream",
          "text": [
            "통신사 번호: 1234\n",
            "개인 번호: 5678\n"
          ],
          "name": "stdout"
        }
      ]
    },
    {
      "cell_type": "markdown",
      "metadata": {
        "id": "o1Q0Zds-fsgz"
      },
      "source": [
        "####6. 위 4번의 전화번호에서 하이픈(-) 대신 공백을 넗어서 출력하시오."
      ]
    },
    {
      "cell_type": "code",
      "metadata": {
        "colab": {
          "base_uri": "https://localhost:8080/"
        },
        "id": "vnsKXDEsfxO7",
        "outputId": "5200cd7d-4f8f-42c8-cdd5-ee7f225f5bc7"
      },
      "source": [
        ""
      ],
      "execution_count": null,
      "outputs": [
        {
          "output_type": "stream",
          "text": [
            "010 1234 5678\n"
          ],
          "name": "stdout"
        }
      ]
    },
    {
      "cell_type": "markdown",
      "metadata": {
        "id": "U3kD-AQYf3Mq"
      },
      "source": [
        "####7. 위 4번의 전화번호에서 하이픈(-)을 제거하고 출력하시오.\n"
      ]
    },
    {
      "cell_type": "code",
      "metadata": {
        "colab": {
          "base_uri": "https://localhost:8080/"
        },
        "id": "wVfGTROWf8fo",
        "outputId": "59b3013f-3929-4571-e122-4991b9fab26a"
      },
      "source": [
        ""
      ],
      "execution_count": null,
      "outputs": [
        {
          "output_type": "stream",
          "text": [
            "01012345678\n"
          ],
          "name": "stdout"
        }
      ]
    },
    {
      "cell_type": "markdown",
      "metadata": {
        "id": "tTs-fIpKgKlf"
      },
      "source": [
        "####8. 문자열 곱셈 연산\n",
        "\n",
        "다음 코드의 실행 결과를 예상하시오"
      ]
    },
    {
      "cell_type": "code",
      "metadata": {
        "id": "JffZ-H18gPJ7"
      },
      "source": [
        "lang= 'Python'\n",
        "print(lang*3) #'Python'을 3번 출력한다."
      ],
      "execution_count": null,
      "outputs": []
    },
    {
      "cell_type": "markdown",
      "metadata": {
        "id": "ltatcQ5tgZEI"
      },
      "source": [
        "####9. 다음 문자열에서 쉼표(,)를 제거한고 정수로 변환한 후 계산을 완성하시오."
      ]
    },
    {
      "cell_type": "code",
      "metadata": {
        "id": "z-A5g1t9geL5",
        "colab": {
          "base_uri": "https://localhost:8080/"
        },
        "outputId": "c5c26eb8-e3e5-49ea-9139-e53e5bf54677"
      },
      "source": [
        "unitPrice= '5,840' #단가\n",
        "#######################\n",
        "unitPrice= int(unitPrice.replace(',', ''))\n",
        "#######################\n",
        "quantity= 12 #수량\n",
        "price= unitPrice * quantity\n",
        "print('총 금액=', price)"
      ],
      "execution_count": null,
      "outputs": [
        {
          "output_type": "stream",
          "text": [
            "총 금액= 70080\n"
          ],
          "name": "stdout"
        }
      ]
    },
    {
      "cell_type": "markdown",
      "metadata": {
        "id": "vj4ZNB0whMs2"
      },
      "source": [
        "####10.다음 문자열을 단어 단위로 분리하여 리스트에 저장하시오.\n",
        "\n",
        "\"아저씨 해님이 하늘 한가운데서 째앵째앵\""
      ]
    },
    {
      "cell_type": "code",
      "metadata": {
        "colab": {
          "base_uri": "https://localhost:8080/"
        },
        "id": "44Oe4PqehSb4",
        "outputId": "fcd8168c-231c-4128-93a6-2d9c9285d58f"
      },
      "source": [
        ""
      ],
      "execution_count": null,
      "outputs": [
        {
          "output_type": "execute_result",
          "data": {
            "text/plain": [
              "['아저씨', '해님이', '하늘', '한가운데서', '째앵째앵']"
            ]
          },
          "metadata": {
            "tags": []
          },
          "execution_count": 11
        }
      ]
    }
  ]
}