{
  "nbformat": 4,
  "nbformat_minor": 0,
  "metadata": {
    "colab": {
      "name": "회귀분석.ipynb",
      "provenance": [],
      "collapsed_sections": [],
      "toc_visible": true,
      "authorship_tag": "ABX9TyMXQKJh84wXi+J5DeWOb230",
      "include_colab_link": true
    },
    "kernelspec": {
      "name": "python3",
      "display_name": "Python 3"
    },
    "language_info": {
      "name": "python"
    }
  },
  "cells": [
    {
      "cell_type": "markdown",
      "metadata": {
        "id": "view-in-github",
        "colab_type": "text"
      },
      "source": [
        "<a href=\"https://colab.research.google.com/github/1st-award/andong_2021_2_1/blob/main/Python/%ED%95%84%EA%B8%B0%20%EC%82%AC%EB%B3%B8/%ED%9A%8C%EA%B7%80%EB%B6%84%EC%84%9D.ipynb\" target=\"_parent\"><img src=\"https://colab.research.google.com/assets/colab-badge.svg\" alt=\"Open In Colab\"/></a>"
      ]
    },
    {
      "cell_type": "markdown",
      "metadata": {
        "id": "bKLolWKr1227"
      },
      "source": [
        "# 회귀분석(Regression Analysis)\n",
        "\n",
        "**회귀분석**: 독립변수(x)와 종속변수(y) 사이으이 관계를 찾는 통계적 방법\n",
        "**선형회귀분석(단순회귀분석)**: 독립변수와 종속변수 사이에 **직선적인 형태의 관계**가 있다고 가정하는 것"
      ]
    },
    {
      "cell_type": "markdown",
      "metadata": {
        "id": "EiU01r-Z2LTu"
      },
      "source": [
        "## 독립변수와 종속변수\n",
        "- 독립변수(independent variable)또는 설명변수(explanatory variable): 두 변수의 인과관계에서 영향을 주는 변수, 즉 원인이 되는 변수(X)\n",
        "- 종속변수(dependent variable)또는 반응변수(response variable): 두 변수 중 다른 변수의 변화에 따라 값이 변화하는 변수(Y)\n",
        "\n",
        "회귀분석에 대한 자세한 내용은 첨부한 강의자료를 참조하세요.\n"
      ]
    },
    {
      "cell_type": "markdown",
      "metadata": {
        "id": "G7ykyrKB2lws"
      },
      "source": [
        "## 간단한 회귀분석 예"
      ]
    },
    {
      "cell_type": "code",
      "metadata": {
        "id": "7hRXfLpNz2SM"
      },
      "source": [
        "from google.colab import drive\n",
        "drive.mount('/gdrive', force_remount=True)"
      ],
      "execution_count": null,
      "outputs": []
    },
    {
      "cell_type": "code",
      "metadata": {
        "id": "QyvLgf5e3jeW"
      },
      "source": [
        "import pandas as pd\n",
        "import numpy as np\n",
        "import matplotlib.pyplot as plt\n",
        "\n",
        "info = pd.read_excel('/gdrive/My Drive/Python/2015_korean_data.xlsx')\n",
        "info.head() # head는 가장 위에 있는 5개 출력 반대로 tail이 있다."
      ],
      "execution_count": null,
      "outputs": []
    },
    {
      "cell_type": "markdown",
      "metadata": {
        "id": "Oi-5mDKN34ax"
      },
      "source": [
        "## (1) 키와 몸무게 사이의 관계 분석"
      ]
    },
    {
      "cell_type": "code",
      "metadata": {
        "id": "fkAMrdkV3-Bg"
      },
      "source": [
        "# 남자 데이터 추출\n",
        "is_male = info['성별'] == '남'\n",
        "male_info = info[is_male]\n",
        "# 여자 데이터 추출\n",
        "is_female = info['성별'] == '여'\n",
        "female_info = info[is_female]"
      ],
      "execution_count": null,
      "outputs": []
    },
    {
      "cell_type": "code",
      "metadata": {
        "id": "KFt6XmYh4Zok"
      },
      "source": [
        "# 데이터프레임 정보 확인 - 결측치 포함 여부 확인\n",
        "male_info.info()\n",
        "female_info.info()"
      ],
      "execution_count": null,
      "outputs": []
    },
    {
      "cell_type": "code",
      "metadata": {
        "id": "AEzmQCfb50Tw"
      },
      "source": [
        "# 결측치가 포함된 행 전체 삭제\n",
        "# 남자 결측치 제거\n",
        "male_info = male_info.dropna(axis=0)\n",
        "male_info.info()\n",
        "# 여자 결측치 제거\n",
        "female_info = female_info.dropna(axis=0)\n",
        "female_info.info()"
      ],
      "execution_count": null,
      "outputs": []
    },
    {
      "cell_type": "code",
      "metadata": {
        "id": "qlnG19wb6fmX"
      },
      "source": [
        "# 남자의 키와 몸무게 사이의 관계 분석\n",
        "x = male_info['키']\n",
        "y = male_info['몸무게']\n",
        "plt.scatter(x, y, alpha=0.5)\n",
        "plt.title(\"Analysis of hegiht and weight relationship(male)\")\n",
        "plt.xlabel(\"height\")\n",
        "plt.ylabel(\"weight\")\n",
        "plt.grid()\n",
        "plt.show()"
      ],
      "execution_count": null,
      "outputs": []
    },
    {
      "cell_type": "markdown",
      "metadata": {
        "id": "dt3vGHZa657n"
      },
      "source": [
        "### 선형회귀식 추정"
      ]
    },
    {
      "cell_type": "code",
      "metadata": {
        "id": "aePVufp-68S5"
      },
      "source": [
        "# 1. 남자 키와 몸무게 사이의 회귀분석\n",
        "from sklearn.linear_model import LinearRegression\n",
        "fitter = LinearRegression()\n",
        "fitter.fit(x.values.reshape(-1, 1), y)\n",
        "b1 = fitter.coef_\n",
        "b0 = fitter.intercept_\n",
        "print(b1, b0)"
      ],
      "execution_count": null,
      "outputs": []
    },
    {
      "cell_type": "code",
      "metadata": {
        "id": "8I5QriZP8xru"
      },
      "source": [
        "# 2. 남자의 키와 몸무게 사이의 회귀분석 결과의 시각화\n",
        "import pandas as pd\n",
        "import numpy as np\n",
        "import matplotlib.pyplot as plt\n",
        "from sklearn.linear_model import LinearRegression\n",
        "info = pd.read_excel('/gdrive/My Drive/Python/2015_korean_data.xlsx')\n",
        "\n",
        "# 남자 데이터 추출\n",
        "is_male = info['성별'] == '남'\n",
        "male_info = info[is_male]\n",
        "male_info = male_info.dropna(axis=0)\n",
        "\n",
        "x = male_info['키']\n",
        "y = male_info['몸무게']\n",
        "fitter = LinearRegression()\n",
        "fitter.fit(x.values.reshape(-1, 1), y) # 직선 추정\n",
        "y_h = fitter.predict(x.values.reshape(-1, 1)) # 추정된 직선의 방정식\n",
        "plt.scatter(x, y, color=\"slateblue\", alpha=0.6) # 산점도 그리기\n",
        "plt.plot(x, y_h, color='red') # 추정된 직선 그리기\n",
        "plt.title(\"Analyis of height and weight relationship(male)\")\n",
        "plt.xlabel(\"height\")\n",
        "plt.ylabel(\"weight\")\n",
        "plt.grid() # 격자무늬 표시\n",
        "plt.show()\n",
        "\n"
      ],
      "execution_count": null,
      "outputs": []
    },
    {
      "cell_type": "markdown",
      "metadata": {
        "id": "apDJGNBU_KlJ"
      },
      "source": [
        "[과제1] 여자의 키와 몸무게 사이의 선형회귀분석을 실시하고 그 결과를 시각화하시오"
      ]
    },
    {
      "cell_type": "code",
      "metadata": {
        "id": "woWHNP3G_gTf"
      },
      "source": [
        "# [과제1] 여자의 키, 몸무게 사이의 회귀분석\n",
        "import pandas as pd\n",
        "import numpy as np\n",
        "import matplotlib.pyplot as plt\n",
        "from sklearn.linear_model import LinearRegression\n",
        "info = pd.read_excel('/gdrive/My Drive/Python/2015_korean_data.xlsx')\n",
        "\n",
        "# 여자 데이터 추출\n",
        "is_female = info['성별'] == '여'\n",
        "female_info = info[is_female]\n",
        "female_info = female_info.dropna(axis=0)\n",
        "\n",
        "x = female_info['키']\n",
        "y = female_info['몸무게']\n",
        "fitter = LinearRegression()\n",
        "fitter.fit(x.values.reshape(-1, 1), y) # 직선 추정\n",
        "y_h = fitter.predict(x.values.reshape(-1, 1)) # 추정된 직선의 방정식\n",
        "plt.scatter(x, y, color=\"slateblue\", alpha=0.6) # 산점도 그리기\n",
        "plt.plot(x, y_h, color='red') # 추정된 직선 그리기\n",
        "plt.title(\"Analyis of height and weight relationship(male)\")\n",
        "plt.xlabel(\"height\")\n",
        "plt.ylabel(\"weight\")\n",
        "plt.grid() # 격자무늬 표시\n",
        "plt.show()"
      ],
      "execution_count": null,
      "outputs": []
    },
    {
      "cell_type": "markdown",
      "metadata": {
        "id": "m0oHjofU_PsC"
      },
      "source": [
        "[과제2] 흔히 발이 크면 키도 크다는 속설이 있습니다. 남자 데이터프레임을 이용하여 발 길이(독립변수 x)와 키(종속변수, y)사이의 회귀분석을 시행하고 그 결과를 시각화하시오."
      ]
    },
    {
      "cell_type": "code",
      "metadata": {
        "id": "0VUmQ7uiAHbm"
      },
      "source": [
        "# [과제2] 남자의 발. 키 사이의 회귀분석\n",
        "import pandas as pd\n",
        "import numpy as np\n",
        "import matplotlib.pyplot as plt\n",
        "from sklearn.linear_model import LinearRegression\n",
        "info = pd.read_excel('/gdrive/My Drive/Python/2015_korean_data.xlsx')\n",
        "\n",
        "# 남자 데이터 추출\n",
        "is_male = info['성별'] == '남'\n",
        "male_info = info[is_male]\n",
        "male_info = male_info.dropna(axis=0)\n",
        "\n",
        "x = male_info['발길이']\n",
        "y = male_info['키']\n",
        "fitter = LinearRegression()\n",
        "fitter.fit(x.values.reshape(-1, 1), y) # 직선 추정\n",
        "y_h = fitter.predict(x.values.reshape(-1, 1)) # 추정된 직선의 방정식\n",
        "plt.scatter(x, y, color=\"slateblue\", alpha=0.6) # 산점도 그리기\n",
        "plt.plot(x, y_h, color='red') # 추정된 직선 그리기\n",
        "plt.title(\"Analyis of foot length and height relationship(male)\")\n",
        "plt.xlabel(\"foot length\")\n",
        "plt.ylabel(\"height\")\n",
        "plt.grid() # 격자무늬 표시\n",
        "plt.show()\n"
      ],
      "execution_count": null,
      "outputs": []
    },
    {
      "cell_type": "markdown",
      "metadata": {
        "id": "78zREXL0BAsk"
      },
      "source": [
        "## 결정계수(R<sup>2</sup>) 의 계산"
      ]
    },
    {
      "cell_type": "markdown",
      "metadata": {
        "id": "mkIw5RLuBdeI"
      },
      "source": [
        "결정계수(Coefficient of determination)\n",
        "- 추정한 선형모델(선형회귀직선)이 주어진 자료에 적합한 정도를 나타내는 척도\n",
        "- 추정한 선형모델의 설명력\n",
        "- 결정계수의 범위: 0부터 1사이의 실수 값\n",
        "    - 결정계수의 값이 1에 가까울수록 추정한 선형회귀직선의 유용성이 높고, 0에 가까울수록 유용성이 낮다"
      ]
    },
    {
      "cell_type": "markdown",
      "metadata": {
        "id": "h-iIfrXzCynO"
      },
      "source": [
        "### 결정계수(R<sup>2</sup>)를 이용한 남자 키와 몸무게 사잉의 회귀 분석 검증"
      ]
    },
    {
      "cell_type": "code",
      "metadata": {
        "id": "CLfRHCz2BdAl"
      },
      "source": [
        "# sklearn 라이브러리를 이용한 결정 계수 계산\n",
        "from sklearn.metrics import r2_score\n",
        "r2 = r2_score(male_info['몸무게'], y_h)\n",
        "r2"
      ],
      "execution_count": null,
      "outputs": []
    },
    {
      "cell_type": "code",
      "metadata": {
        "colab": {
          "base_uri": "https://localhost:8080/"
        },
        "id": "jfrRzaL0BTTb",
        "outputId": "8ca8b80e-dbd3-4223-d6e9-820c559e1774"
      },
      "source": [
        "# yi의 추정치 계산\n",
        "f = np.polyfit(x, y, 1) # x = male_info['키'], y = male_info['몸무게']\n",
        "f = np.poly1d(f)\n",
        "x = np.array(x) # y = f(x)\n",
        "# SST = np.sum((male_info['몸무게']- exp_B)**2)\n",
        "SST = np.sum((y-np.mean(y))**2)\n",
        "SSR = np.sum((f(x)-np.mean(y))**2)\n",
        "R2 = SSR/SST\n",
        "R2"
      ],
      "execution_count": null,
      "outputs": [
        {
          "output_type": "execute_result",
          "data": {
            "text/plain": [
              "0.16137317613311758"
            ]
          },
          "metadata": {
            "tags": []
          },
          "execution_count": 56
        }
      ]
    },
    {
      "cell_type": "markdown",
      "metadata": {
        "id": "9yGoAXktFP0o"
      },
      "source": [
        "결론: 결정계수의 값이 약 0.16137으로 추정된 회귀직선이 유의밍하게 키와 몸무게 사이의 관계를 표현한다고 보기 어렵다."
      ]
    },
    {
      "cell_type": "markdown",
      "metadata": {
        "id": "1OGdyN-8FXdI"
      },
      "source": [
        "### 머리 크기와 몸무게 사이의 회귀분석 및 검증 - 여자 데이터 이용"
      ]
    },
    {
      "cell_type": "code",
      "metadata": {
        "id": "pB7PDFrQFPYO"
      },
      "source": [
        "import pandas as pd\n",
        "import numpy as np\n",
        "import matplotlib.pyplot as plt\n",
        "from sklearn.linear_model import LinearRegression\n",
        "from sklearn.metrics import r2_score\n",
        "\n",
        "# 파일 읽기\n",
        "info = pd.read_excel('/gdrive/My Drive/Python/2015_korean_data.xlsx')\n",
        "\n",
        "# 여자 데이터 추출\n",
        "is_female = info['성별'] == '여'\n",
        "female_info = info[is_female]\n",
        "female_info = female_info.dropna(axis=0) # 결측치가 포함된 행 전체 삭제\n",
        "\n",
        "x = female_info['머리둘레']\n",
        "y = female_info['몸무게']\n",
        "fitter = LinearRegression()\n",
        "fitter.fit(x.values.reshape(-1, 1), y)\n",
        "y_h = fitter.predict(x.values.reshape(-1, 1)) # 추정된 선형회귀 직선\n",
        "plt.scatter(x, y, color='slateblue', alpha=0.6)\n",
        "plt.plot(x, y_h, color='red')\n",
        "plt.title(\"Analysis of head size and weight relationship(female)\")\n",
        "plt.xlabel(\"head size\")\n",
        "plt.ylabel(\"weight\")\n",
        "plt.grid()\n",
        "plt.show()"
      ],
      "execution_count": null,
      "outputs": []
    },
    {
      "cell_type": "code",
      "metadata": {
        "id": "pl3nv_mBGe2T"
      },
      "source": [
        "# 결정계수를 이용한 회귀분석 결과 검증\n",
        "r2 = r2_score(female_info['몸무게'], y_h)\n",
        "r2"
      ],
      "execution_count": null,
      "outputs": []
    },
    {
      "cell_type": "code",
      "metadata": {
        "colab": {
          "base_uri": "https://localhost:8080/"
        },
        "id": "uFoqjLJrGnqr",
        "outputId": "bc4e3bfe-1764-4ba4-e130-e04582f415d9"
      },
      "source": [
        "# yi의 추정치 계산\n",
        "f = np.polyfit(female_info['머리둘레'], female_info['몸무게'], 1)\n",
        "f = np.poly1d(f)\n",
        "\n",
        "SST = np.sum((y - np.mean(y))**2)\n",
        "SSR = np.sum((f(x) - np.mean(y))**2)\n",
        "R2 = SSR / SST\n",
        "R2"
      ],
      "execution_count": null,
      "outputs": [
        {
          "output_type": "execute_result",
          "data": {
            "text/plain": [
              "0.11981438698325955"
            ]
          },
          "metadata": {
            "tags": []
          },
          "execution_count": 62
        }
      ]
    },
    {
      "cell_type": "markdown",
      "metadata": {
        "id": "2NWhaVtoHVN4"
      },
      "source": [
        "결론: (여자) 머리둘레의 길이와 몸무게 사이의 관계를 추정하는 선형회귀분석 모델이 데이터를 잘 설명하기 어렵다."
      ]
    }
  ]
}