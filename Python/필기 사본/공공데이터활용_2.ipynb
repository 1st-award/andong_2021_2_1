{
  "nbformat": 4,
  "nbformat_minor": 0,
  "metadata": {
    "colab": {
      "name": "공공데이터활용_2.ipynb",
      "provenance": [],
      "authorship_tag": "ABX9TyMdDApT+VrJoFaHkfpgstGT",
      "include_colab_link": true
    },
    "kernelspec": {
      "name": "python3",
      "display_name": "Python 3"
    },
    "language_info": {
      "name": "python"
    }
  },
  "cells": [
    {
      "cell_type": "markdown",
      "metadata": {
        "id": "view-in-github",
        "colab_type": "text"
      },
      "source": [
        "<a href=\"https://colab.research.google.com/github/1st-award/andong_2021_2_1/blob/main/Python/%ED%95%84%EA%B8%B0%20%EC%82%AC%EB%B3%B8/%EA%B3%B5%EA%B3%B5%EB%8D%B0%EC%9D%B4%ED%84%B0%ED%99%9C%EC%9A%A9_2.ipynb\" target=\"_parent\"><img src=\"https://colab.research.google.com/assets/colab-badge.svg\" alt=\"Open In Colab\"/></a>"
      ]
    },
    {
      "cell_type": "markdown",
      "metadata": {
        "id": "tiYWWmdp3hYE"
      },
      "source": [
        "# 안동 기온 데이터 분석(1973/01/01 ~ 2020/12/31)"
      ]
    },
    {
      "cell_type": "markdown",
      "metadata": {
        "id": "EpI0s9pM3n5C"
      },
      "source": [
        "## 공공 데이터 얻기\n",
        "1. 기상자료개방포털(https://data.kma.go.kr/)접속\n",
        "2. 기후통계분석 >> 통계분석 >> 기온분석 메뉴로 들어가서\n",
        "3. 기간 설정: 1973년 1월 1일부터 2020년 12월 31일까지\n",
        "4. 지역: 경상북도 안동\n",
        "5. 검색 버튼 클릭\n",
        "6. 그래프가 나타나면[Excel] 버튼 클릭\n",
        "7. 'andongTemp.xls'라는 이름으로 저장\n",
        "8. 다운로드한 xls파일을 메모장 프로그램으로 열고 1~7행을 모두 삭제한 후 'Excel 통합 문서(*.xlsx)'형식으로 다시 저장\n",
        "9. andongTemp.xlsx 파일을 현재 작업중인 구글 드라이브에 업로드한다.\n",
        "\n",
        "- csv: comma-separated values, 몇 가지 필드를 쉼표로 구분한 텍스트 데이터 및 텍스트 파일"
      ]
    },
    {
      "cell_type": "markdown",
      "metadata": {
        "id": "7XUOr1034kHg"
      },
      "source": [
        "## EXCEL 파일 열기"
      ]
    },
    {
      "cell_type": "code",
      "metadata": {
        "id": "2dVYfywK3eCO"
      },
      "source": [
        "from google.colab import drive\n",
        "drive.mount('/gdrive', force_remount=True)"
      ],
      "execution_count": null,
      "outputs": []
    },
    {
      "cell_type": "code",
      "metadata": {
        "id": "IsYkYz1-44EO"
      },
      "source": [
        "import numpy as np\n",
        "import pandas as pd\n",
        "import matplotlib.pyplot as plt\n",
        "\n",
        "temp_data =pd.read_excel('/gdrive/My Drive/Python/andongTemp.xlsx')\n",
        "temp_data"
      ],
      "execution_count": null,
      "outputs": []
    },
    {
      "cell_type": "code",
      "metadata": {
        "id": "-UGOOv8p45bk"
      },
      "source": [
        "# '지점' 컬럼 삭제하고 '날짜' 컬럼을 인덱스로 설정\n",
        "temp_data.drop('지점', axis=1, inplace=True)\n",
        "temp_data.set_index('날짜', inplace=True)\n",
        "temp_data"
      ],
      "execution_count": null,
      "outputs": []
    },
    {
      "cell_type": "markdown",
      "metadata": {
        "id": "kZnpBkP653ou"
      },
      "source": [
        "## 1973년 1월 1일 이후 안동의 최고 기온을 상자 그래프로 표시"
      ]
    },
    {
      "cell_type": "markdown",
      "metadata": {
        "id": "n3xeq75Q57Le"
      },
      "source": [
        "### 상자 그래프(boxplot)를 그려서 기상 관측 이래 안동의 하루 중 최고 기온의 범위 파악"
      ]
    },
    {
      "cell_type": "code",
      "metadata": {
        "colab": {
          "base_uri": "https://localhost:8080/",
          "height": 265
        },
        "id": "cExsC2kr6AU7",
        "outputId": "a91996f2-78ca-4c59-abd1-d49ce810bd3b"
      },
      "source": [
        "high_temp = np.array(temp_data.loc[:, '최고기온(℃)'])\n",
        "plt.boxplot(high_temp)\n",
        "plt.show()"
      ],
      "execution_count": null,
      "outputs": [
        {
          "output_type": "display_data",
          "data": {
            "image/png": "[encoded data removed]",
            "text/plain": [
              "<Figure size 432x288 with 1 Axes>"
            ]
          },
          "metadata": {
            "tags": [],
            "needs_background": "light"
          }
        }
      ]
    },
    {
      "cell_type": "markdown",
      "metadata": {
        "id": "pou0O_dD6X3b"
      },
      "source": [
        "## 1973년 이후 안동의 1월과 8월의 최고 기온을 히스토그램으로 그리기"
      ]
    },
    {
      "cell_type": "code",
      "metadata": {
        "id": "nEpm6_Oy6Xko"
      },
      "source": [
        "jan = []\n",
        "aug = []\n",
        "for i in range(len(temp_data)):\n",
        "  month = str(temp_data.index[i]).split('-')[1]\n",
        "  if month == '01' :\n",
        "    jan.append(temp_data.iloc[i][-1])\n",
        "  elif month == '08':\n",
        "    aug.append(temp_data.iloc[i][-1])\n",
        "\n",
        "plt.hist(jan, bins=50, color='b', label='Jan')\n",
        "plt.hist(aug, bins=50, color='r', label='Aug')\n",
        "plt.legend()\n",
        "plt.show()"
      ],
      "execution_count": null,
      "outputs": []
    },
    {
      "cell_type": "markdown",
      "metadata": {
        "id": "WQ4lXVIN7jw5"
      },
      "source": [
        "## 1973년 이후 안동의 1월과 8월의 최고 기온을 상자 그래프로 그리기"
      ]
    },
    {
      "cell_type": "code",
      "metadata": {
        "colab": {
          "base_uri": "https://localhost:8080/",
          "height": 265
        },
        "id": "6gUcpk4j7nNS",
        "outputId": "26d59dd9-fe4b-4c86-8e17-fba985d86acd"
      },
      "source": [
        "jan = []\n",
        "aug = []\n",
        "for i in range(len(temp_data)):\n",
        "  month = str(temp_data.index[i]).split('-')[1]\n",
        "  if month == '01' :\n",
        "    jan.append(temp_data.iloc[i][-1])\n",
        "  elif month == '08':\n",
        "    aug.append(temp_data.iloc[i][-1])\n",
        "plt.xticks([1], ['high'])\n",
        "plt.boxplot(jan)\n",
        "plt.boxplot(aug)\n",
        "plt.show()"
      ],
      "execution_count": null,
      "outputs": [
        {
          "output_type": "display_data",
          "data": {
            "image/png": "[encoded data removed]",
            "text/plain": [
              "<Figure size 432x288 with 1 Axes>"
            ]
          },
          "metadata": {
            "tags": [],
            "needs_background": "light"
          }
        }
      ]
    },
    {
      "cell_type": "markdown",
      "metadata": {
        "id": "mtVTwiYD8PtM"
      },
      "source": [
        "상자 그래프의 위, 아래에 그려진 동그라미는 이상치(outlier)를 표현한 것으로 다른 수치에 비하여 너무 크거나 작은 값들을 자동으로 나타낸 것"
      ]
    },
    {
      "cell_type": "code",
      "metadata": {
        "id": "lf_Ce5fD7-LH"
      },
      "source": [
        "jan = []\n",
        "aug = []\n",
        "for i in range(len(temp_data)):\n",
        "  month = str(temp_data.index[i]).split('-')[1]\n",
        "  if month == '01' :\n",
        "    jan.append(temp_data.iloc[i][-1])\n",
        "  elif month == '08':\n",
        "    aug.append(temp_data.iloc[i][-1])\n",
        "plt.xticks([1, 2], ['Jan', 'Aug'])\n",
        "plt.boxplot([jan, aug])\n",
        "plt.show()"
      ],
      "execution_count": null,
      "outputs": []
    },
    {
      "cell_type": "markdown",
      "metadata": {
        "id": "atn9hrwp8zUb"
      },
      "source": [
        "## 한글 폰트 설치"
      ]
    },
    {
      "cell_type": "code",
      "metadata": {
        "id": "CAfeckU18022"
      },
      "source": [
        "# 폰트 설치\n",
        "!apt -qq -y install fonts-nanum\n",
        "!apt-get install fonts-nanum* -qq"
      ],
      "execution_count": null,
      "outputs": []
    },
    {
      "cell_type": "markdown",
      "metadata": {
        "id": "kueKmV8Q85tG"
      },
      "source": [
        "[런타임] - [런타임 다시 시작]"
      ]
    },
    {
      "cell_type": "code",
      "metadata": {
        "id": "IwbVTaft85RR"
      },
      "source": [
        "import matplotlib.pyplot as plt\n",
        "import numpy as np\n",
        "import matplotlib.font_manager as fm\n",
        "\n",
        "plt.rcParams['font.family'] = 'NanumGothic'\n",
        "plt.rcParams['font.size'] = 12\n",
        "fm._rebuild()"
      ],
      "execution_count": null,
      "outputs": []
    },
    {
      "cell_type": "markdown",
      "metadata": {
        "id": "o_49k_Ay9BLU"
      },
      "source": [
        "아래의 코드를 다시 실행"
      ]
    },
    {
      "cell_type": "code",
      "metadata": {
        "id": "Rpy0MIjA9Dlo"
      },
      "source": [
        "import numpy as np\n",
        "import pandas as pd\n",
        "import matplotlib.pyplot as plt\n",
        "temp_data = pd.read_excel('/gdrive/My Drive/Python/andongTemp.xlsx')\n",
        "# '지점' 컬럼 삭제하고 '날짜' 컬럼을 인덱스로 설정\n",
        "temp_data.drop('지점', axis=1, inplace=True)\n",
        "temp_data.set_index('날짜', inplace=True)\n",
        "temp_data"
      ],
      "execution_count": null,
      "outputs": []
    },
    {
      "cell_type": "code",
      "metadata": {
        "id": "MVbj_sJG9ROv"
      },
      "source": [
        "jan = []\n",
        "aug = []\n",
        "for i in range(len(temp_data)):\n",
        "  month = str(temp_data.index[i]).split('-')[1]\n",
        "  if month == '01' :\n",
        "    jan.append(temp_data.iloc[i][-1])\n",
        "  elif month == '08':\n",
        "    aug.append(temp_data.iloc[i][-1])\n",
        "plt.title('안동 지역 1월과 8월의 최고 기온 분석')\n",
        "plt.xticks([], ['1월', '8월'])\n",
        "plt.boxplot([jan, aug])\n",
        "plt.show()"
      ],
      "execution_count": null,
      "outputs": []
    },
    {
      "cell_type": "code",
      "metadata": {
        "id": "fRvVleA1-Ay_"
      },
      "source": [
        "# 마이너스 부호 깨짐 현상 없애기\n",
        "plt.rcParams['axes.unicode_minus'] = False"
      ],
      "execution_count": null,
      "outputs": []
    },
    {
      "cell_type": "markdown",
      "metadata": {
        "id": "Zyd52LFj-K0s"
      },
      "source": [
        "## 안동 지역 월별 최고 기온 분석"
      ]
    },
    {
      "cell_type": "code",
      "metadata": {
        "id": "h260Fd9O-w9u"
      },
      "source": [
        "month = [[], [], [], [], [], [], [], [], [], [], [], []]\n",
        "for i in range(len(temp_data)):\n",
        "  m = int(str(temp_data.index[i]).split('-')[1])-1\n",
        "  month[m].append(float(temp_data.iloc[i][-1]))\n",
        "\n",
        "plt.rcParams[\"figure.figsize\"] = (12, 6)\n",
        "plt.title(\"안동 지역 월별 최고 기온 분석\")\n",
        "plt.boxplot(month)\n",
        "plt.show()"
      ],
      "execution_count": null,
      "outputs": []
    },
    {
      "cell_type": "code",
      "metadata": {
        "id": "zA19KO-i_wDU"
      },
      "source": [
        "month = [[], [], [], [], [], [], [], [], [], [], [], []]\n",
        "for i in range(len(temp_data)):\n",
        "  m = int(str(temp_data.index[i]).split('-')[1])-1\n",
        "  month[m].append(float(temp_data.iloc[i][-1]))\n",
        "\n",
        "plt.style.use('ggplot')\n",
        "plt.rcParams[\"figure.figsize\"] = (12, 6)\n",
        "plt.title(\"안동 지역 월별 최고 기온 분석\")\n",
        "plt.boxplot(month)\n",
        "plt.show()"
      ],
      "execution_count": null,
      "outputs": []
    }
  ]
}