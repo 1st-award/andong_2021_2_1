{
  "nbformat": 4,
  "nbformat_minor": 0,
  "metadata": {
    "colab": {
      "name": "pandas_plot.ipynb",
      "provenance": [],
      "collapsed_sections": [],
      "toc_visible": true,
      "authorship_tag": "ABX9TyMFWkg7kxzL9pjydSYh5haA",
      "include_colab_link": true
    },
    "kernelspec": {
      "name": "python3",
      "display_name": "Python 3"
    },
    "language_info": {
      "name": "python"
    }
  },
  "cells": [
    {
      "cell_type": "markdown",
      "metadata": {
        "id": "view-in-github",
        "colab_type": "text"
      },
      "source": [
        "<a href=\"https://colab.research.google.com/github/1st-award/andong_2021_2_1/blob/main/Python/%ED%95%84%EA%B8%B0%20%EC%82%AC%EB%B3%B8/pandas_plot.ipynb\" target=\"_parent\"><img src=\"https://colab.research.google.com/assets/colab-badge.svg\" alt=\"Open In Colab\"/></a>"
      ]
    },
    {
      "cell_type": "markdown",
      "metadata": {
        "id": "f5wPIwcgcSvP"
      },
      "source": [
        "# Pandas 데이터의 시각화"
      ]
    },
    {
      "cell_type": "markdown",
      "metadata": {
        "id": "0VlCc0H8cVAX"
      },
      "source": [
        "## 한글 폰트 설치"
      ]
    },
    {
      "cell_type": "code",
      "metadata": {
        "id": "8jg1o7YQcFK2"
      },
      "source": [
        "!apt -qq -y install fonts-nanum\n",
        "!apt-get install fonts-nanum* -qq"
      ],
      "execution_count": null,
      "outputs": []
    },
    {
      "cell_type": "markdown",
      "metadata": {
        "id": "SbO9kp-FcgVH"
      },
      "source": [
        "Colab의 런타임을 다시시작하자, 런타임 -런타임 다시시작\n",
        "\n",
        "## 코로나 19 확진자수를 담고 있는 pandas Series 데이터를 가로 막대형 차트로 작성하기"
      ]
    },
    {
      "cell_type": "code",
      "metadata": {
        "colab": {
          "base_uri": "https://localhost:8080/",
          "height": 279
        },
        "id": "9Ge13bdmcyCw",
        "outputId": "9ddf578b-c604-4d03-e26a-ac3a14b7af8b"
      },
      "source": [
        "import numpy as np\n",
        "import pandas as pd\n",
        "import matplotlib.pyplot as plt\n",
        "import matplotlib.font_manager as fm\n",
        "\n",
        "fontPath = '/usr/share/fonts/truetype/nanum/NanumGothic.ttf'\n",
        "plt.rcParams['font.family'] = 'NanumGothic'\n",
        "plt.rcParams['font.size'] = 10\n",
        "fm._rebuild()\n",
        "\n",
        "covid_19 = pd.Series([35628, 9176, 31846, 3843, 5488, 2295, 2886, 4670],\n",
        "                     index = ['서울', '대구', '경기', '경북', '인천', '광주', '충남', '부산'])\n",
        "plt.barh(covid_19.index, covid_19, label='확진자수', color = 'orange')\n",
        "plt.legend()\n",
        "plt.title('2021년 04월 19일 COVID19 확인현황')\n",
        "plt.show()\n"
      ],
      "execution_count": null,
      "outputs": [
        {
          "output_type": "display_data",
          "data": {
            "image/png": "[encoded data removed]",
            "text/plain": [
              "<Figure size 432x288 with 1 Axes>"
            ]
          },
          "metadata": {
            "tags": [],
            "needs_background": "light"
          }
        }
      ]
    },
    {
      "cell_type": "markdown",
      "metadata": {
        "id": "ZWUfbWWSfeoH"
      },
      "source": [
        "## 가로 막대형 차트에 값 레이블 표시하기"
      ]
    },
    {
      "cell_type": "code",
      "metadata": {
        "colab": {
          "base_uri": "https://localhost:8080/",
          "height": 279
        },
        "id": "xRDRKmvcfihf",
        "outputId": "1895345d-42e1-4221-d76d-2456fceb08b8"
      },
      "source": [
        "import numpy as np\n",
        "import pandas as pd\n",
        "import matplotlib.pyplot as plt\n",
        "import matplotlib.font_manager as fm\n",
        "\n",
        "plt.rcParams['font.family'] = 'NanumGothic'\n",
        "plt.rcParams['font.size'] = 10\n",
        "fm._rebuild()\n",
        "\n",
        "covid_19 = pd.Series([35628, 9176, 31846, 3843, 5488, 2295, 2886, 4670],\n",
        "                     index = ['서울', '대구', '경기', '경북', '인천', '광주', '충남', '부산'])\n",
        "plt.barh(covid_19.index, covid_19, label='확진자수', color = 'orange')\n",
        "plt.legend()\n",
        "plt.title('2021년 04월 19일 COVID19 확진현황')\n",
        "\n",
        "for i, v in enumerate(covid_19.index):\n",
        "  plt.text(covid_19[i], v, covid_19[i], \n",
        "           fontsize = 9,\n",
        "           color='blue',\n",
        "           horizontalalignment='left',\n",
        "           verticalalignment='center')\n",
        "plt.show()"
      ],
      "execution_count": null,
      "outputs": [
        {
          "output_type": "display_data",
          "data": {
            "image/png": "[encoded data removed]",
            "text/plain": [
              "<Figure size 432x288 with 1 Axes>"
            ]
          },
          "metadata": {
            "tags": [],
            "needs_background": "light"
          }
        }
      ]
    },
    {
      "cell_type": "markdown",
      "metadata": {
        "id": "s9To3wAjhhTF"
      },
      "source": [
        "## 세로 막대형 차트에 값 레이블 표시하기"
      ]
    },
    {
      "cell_type": "code",
      "metadata": {
        "id": "iQvtcX6PhlQY"
      },
      "source": [
        "covid_19 = pd.Series([35628, 9176, 31846, 3843, 5488, 2295, 2886, 4670],\n",
        "                     index = ['서울', '대구', '경기', '경북', '인천', '광주', '충남', '부산'])\n",
        "plt.bar(covid_19.index, covid_19, label='확진자수', color = 'orange')\n",
        "plt.legend()\n",
        "plt.title('2021년 04월 19일 COVID19 확진현황')\n",
        "\n",
        "for i, v in enumerate(covid_19.index):\n",
        "  plt.text(v, covid_19[i], covid_19[i], \n",
        "           fontsize = 10,\n",
        "           color='blue',\n",
        "           horizontalalignment='center',\n",
        "           verticalalignment='bottom')\n",
        "plt.show()"
      ],
      "execution_count": null,
      "outputs": []
    },
    {
      "cell_type": "markdown",
      "metadata": {
        "id": "gSfZ8jzGiNU1"
      },
      "source": [
        "## 코로나19 데이터를 담고 있는 DataFrame 데이터를 막대 그래프로 시각화하기"
      ]
    },
    {
      "cell_type": "code",
      "metadata": {
        "id": "F6P9qxlPiXGt"
      },
      "source": [
        "import numpy as np\n",
        "import pandas as pd\n",
        "import matplotlib.pyplot as plt\n",
        "\n",
        "covid_19 = pd.DataFrame([[5702, 35628], [7142, 9176], [4869, 31946], [1573, 3843],\n",
        "                         [999, 5488], [502, 2295], [505, 2886], [571, 4670]],\n",
        "                        index = ['서울', '대구', '경기', '경북', '인천', '광주', '충남', '부산'],\n",
        "                        columns = ['2020-10-19', '2021-04-19'])\n",
        "covid_19"
      ],
      "execution_count": null,
      "outputs": []
    },
    {
      "cell_type": "code",
      "metadata": {
        "id": "FL0Gzd9kjKaI"
      },
      "source": [
        "x= np.arange(len(covid_19['2020-10-19'])) # x는 0~7까지의 값을 가진다.\n",
        "plt.bar(x, covid_19['2020-10-19'], label = '2020-10-19', color='green', width=0.4)\n",
        "plt.bar(x+0.4, covid_19['2021-04-19'], label='2021-04-19', color='orange', width=0.4)\n",
        "plt.legend()\n",
        "plt.xticks(x, covid_19.index)\n",
        "plt.title('COVID19 확진자수 비교')\n",
        "plt.show()"
      ],
      "execution_count": null,
      "outputs": []
    }
  ]
}