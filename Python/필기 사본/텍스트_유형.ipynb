{
  "nbformat": 4,
  "nbformat_minor": 0,
  "metadata": {
    "colab": {
      "name": "텍스트 유형",
      "provenance": [],
      "collapsed_sections": [],
      "authorship_tag": "ABX9TyOQy0UpPaS7FrneZ6PNeE4Q",
      "include_colab_link": true
    },
    "kernelspec": {
      "name": "python3",
      "display_name": "Python 3"
    }
  },
  "cells": [
    {
      "cell_type": "markdown",
      "metadata": {
        "id": "view-in-github",
        "colab_type": "text"
      },
      "source": [
        "<a href=\"https://colab.research.google.com/github/1st-award/andong_2021_2_1/blob/main/Python/%ED%95%84%EA%B8%B0%20%EC%82%AC%EB%B3%B8/%ED%85%8D%EC%8A%A4%ED%8A%B8_%EC%9C%A0%ED%98%95.ipynb\" target=\"_parent\"><img src=\"https://colab.research.google.com/assets/colab-badge.svg\" alt=\"Open In Colab\"/></a>"
      ]
    },
    {
      "cell_type": "markdown",
      "metadata": {
        "id": "3OA3RNhjHh2g"
      },
      "source": [
        ""
      ]
    },
    {
      "cell_type": "markdown",
      "metadata": {
        "id": "64YLFwTvHkBv"
      },
      "source": [
        "#Colaboratory를 이용한 첫 프로그램"
      ]
    },
    {
      "cell_type": "code",
      "metadata": {
        "id": "8UTirIV0Irgu"
      },
      "source": [
        "##텍스트 강조"
      ],
      "execution_count": null,
      "outputs": []
    },
    {
      "cell_type": "markdown",
      "metadata": {
        "id": "deUFItysIx4V"
      },
      "source": [
        "*기울임체*<br>\n",
        "**진하게(굵게)**<br>\n",
        "__진하게(굴게)__<br>\n",
        "~~취소선~~<br>\n"
      ]
    },
    {
      "cell_type": "markdown",
      "metadata": {
        "id": "c7N1_TdIHxNs"
      },
      "source": [
        "###3단계 제목(최대 6까지)\n",
        "1.사과\n",
        "2.딸기\n",
        "3.포도\n",
        "4.바나나"
      ]
    },
    {
      "cell_type": "code",
      "metadata": {
        "colab": {
          "base_uri": "https://localhost:8080/"
        },
        "id": "I8D1DDgbFwHZ",
        "outputId": "05aab0cf-b00d-42c5-d52c-1184acecde49"
      },
      "source": [
        "print('hello world')"
      ],
      "execution_count": null,
      "outputs": [
        {
          "output_type": "stream",
          "text": [
            "hello world\n"
          ],
          "name": "stdout"
        }
      ]
    },
    {
      "cell_type": "markdown",
      "metadata": {
        "id": "hVfc1sUWJXlQ"
      },
      "source": [
        "아래 코드에 대한 설명"
      ]
    }
  ]
}