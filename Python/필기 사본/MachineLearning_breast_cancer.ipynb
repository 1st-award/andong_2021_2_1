{
  "nbformat": 4,
  "nbformat_minor": 0,
  "metadata": {
    "colab": {
      "name": "MachineLearning_breast_cancer.ipynb",
      "provenance": [],
      "toc_visible": true,
      "authorship_tag": "ABX9TyPdYYB5Gmli/ymDH05lNjMd",
      "include_colab_link": true
    },
    "kernelspec": {
      "name": "python3",
      "display_name": "Python 3"
    },
    "language_info": {
      "name": "python"
    }
  },
  "cells": [
    {
      "cell_type": "markdown",
      "metadata": {
        "id": "view-in-github",
        "colab_type": "text"
      },
      "source": [
        "<a href=\"https://colab.research.google.com/github/1st-award/andong_2021_2_1/blob/main/Python/%ED%95%84%EA%B8%B0%20%EC%82%AC%EB%B3%B8/MachineLearning_breast_cancer.ipynb\" target=\"_parent\"><img src=\"https://colab.research.google.com/assets/colab-badge.svg\" alt=\"Open In Colab\"/></a>"
      ]
    },
    {
      "cell_type": "markdown",
      "metadata": {
        "id": "OzCfIY3KzQSD"
      },
      "source": [
        "# 머신러닝을 이용한 유방암 예측"
      ]
    },
    {
      "cell_type": "markdown",
      "metadata": {
        "id": "jwJ_4cxQzQCE"
      },
      "source": [
        "\n",
        "## 사이킷 런(Scikit-learn)라이브러리를 이용한 데이터 셋 가져오기"
      ]
    },
    {
      "cell_type": "code",
      "metadata": {
        "id": "-toyw4iZzLRR"
      },
      "source": [
        "import pandas as pd\n",
        "import seaborn as sb\n",
        "from sklearn.datasets import load_breast_cancer"
      ],
      "execution_count": null,
      "outputs": []
    },
    {
      "cell_type": "code",
      "metadata": {
        "colab": {
          "base_uri": "https://localhost:8080/"
        },
        "id": "9_84DvdCz1Dk",
        "outputId": "25ddc4d7-ccab-483e-ed9b-80616b661975"
      },
      "source": [
        "breast_cancer = load_breast_cancer()\n",
        "breast_cancer.keys() # 확인 부분"
      ],
      "execution_count": null,
      "outputs": [
        {
          "output_type": "execute_result",
          "data": {
            "text/plain": [
              "dict_keys(['data', 'target', 'target_names', 'DESCR', 'feature_names', 'filename'])"
            ]
          },
          "metadata": {
            "tags": []
          },
          "execution_count": 7
        }
      ]
    },
    {
      "cell_type": "markdown",
      "metadata": {
        "id": "sOS1uhtDzXsO"
      },
      "source": [
        "## 분류할 그룹 확인"
      ]
    },
    {
      "cell_type": "code",
      "metadata": {
        "colab": {
          "base_uri": "https://localhost:8080/"
        },
        "id": "bFka-CjJ0E-v",
        "outputId": "2f2d760d-1bac-4b1a-b4c6-ba595251c1c2"
      },
      "source": [
        "breast_cancer['target_names']"
      ],
      "execution_count": null,
      "outputs": [
        {
          "output_type": "execute_result",
          "data": {
            "text/plain": [
              "array(['malignant', 'benign'], dtype='<U9')"
            ]
          },
          "metadata": {
            "tags": []
          },
          "execution_count": 9
        }
      ]
    },
    {
      "cell_type": "markdown",
      "metadata": {
        "id": "oxXcEw8-0Wan"
      },
      "source": [
        "### 분류 예측에 사용할 특성 확인"
      ]
    },
    {
      "cell_type": "code",
      "metadata": {
        "id": "zH0IDYD60Yji"
      },
      "source": [
        "for i, f in enumerate(breast_cancer['feature_names']):\n",
        "  print(\"%02d : %s\" %(i, f))"
      ],
      "execution_count": null,
      "outputs": []
    },
    {
      "cell_type": "markdown",
      "metadata": {
        "id": "e6swFo5h0tQh"
      },
      "source": [
        "## 데이터 셋의 크기 확인"
      ]
    },
    {
      "cell_type": "markdown",
      "metadata": {
        "id": "sYRcDcdS1F0s"
      },
      "source": [
        "### 데이터 셋에 대한 간략한 설명 확인\n",
        "\n",
        "**data**: 각 환자별로 유방암 소견을 결정할 수 있는 30개의 특성값을 가지고 있는 numpy 배열"
      ]
    },
    {
      "cell_type": "code",
      "metadata": {
        "id": "07zof_Zo1Nz5"
      },
      "source": [
        "breast_cancer['data'].shape"
      ],
      "execution_count": null,
      "outputs": []
    },
    {
      "cell_type": "code",
      "metadata": {
        "id": "-YhC9tLY1WAJ"
      },
      "source": [
        "print(breast_cancer['DESCR'])"
      ],
      "execution_count": null,
      "outputs": []
    },
    {
      "cell_type": "markdown",
      "metadata": {
        "id": "QcUNaY4q1e4b"
      },
      "source": [
        "## 유방암 판별을 위한 학습과 테스트"
      ]
    },
    {
      "cell_type": "markdown",
      "metadata": {
        "id": "lLJLj6n51hmX"
      },
      "source": [
        "### 훈련 데이터와 테스트 데이터 나누기"
      ]
    },
    {
      "cell_type": "code",
      "metadata": {
        "id": "PIp-sPHl1jfj"
      },
      "source": [
        "from sklearn.model_selection import train_test_split"
      ],
      "execution_count": null,
      "outputs": []
    },
    {
      "cell_type": "code",
      "metadata": {
        "id": "BGR5d6KA1mg4"
      },
      "source": [
        "X_train, X_test, y_train, y_test = train_test_split(breast_cancer['data'], breast_cancer['target'], test_size = 0.2, random_state=42)\n",
        "\n",
        "print(\"X_train의 크기와 모양: {}\".format(X_train.shape))\n",
        "print(\"y_train의 크기와 모양: {}\".format(y_train.shape))\n",
        "print(\"X_test의 크기와 모양: {}\".format(X_test.shape))\n",
        "print(\"y_test의 크기와 모양: {}\".format(y_test.shape))"
      ],
      "execution_count": null,
      "outputs": []
    },
    {
      "cell_type": "markdown",
      "metadata": {
        "id": "n02OOOGE1-10"
      },
      "source": [
        "x_train 데이터를 사용하여 데이터프레임 만들기"
      ]
    },
    {
      "cell_type": "code",
      "metadata": {
        "id": "L4STSHzv2Bhz"
      },
      "source": [
        "# 칼럼의 이름: iris_dataset.feature_names에 있는 문자열을 이용\n",
        "\n",
        "trainCansor = pd.DataFrame(X_train, columns=breast_cancer.feature_names)\n",
        "trainCansor['diagnosis'] = y_train\n",
        "trainCansor.head(3)"
      ],
      "execution_count": null,
      "outputs": []
    },
    {
      "cell_type": "code",
      "metadata": {
        "id": "APYgDezB27O8"
      },
      "source": [
        "trainCansor.info()"
      ],
      "execution_count": null,
      "outputs": []
    },
    {
      "cell_type": "code",
      "metadata": {
        "id": "mFkJB4TC29BF"
      },
      "source": [
        "trainCansor.describe()"
      ],
      "execution_count": null,
      "outputs": []
    },
    {
      "cell_type": "code",
      "metadata": {
        "id": "wflGxacr3J8V"
      },
      "source": [
        "sb.countplot(trainCansor['diagnosis'])"
      ],
      "execution_count": null,
      "outputs": []
    },
    {
      "cell_type": "markdown",
      "metadata": {
        "id": "mu9IpGIV2831"
      },
      "source": [
        "## 머신러닝 알고리즘 적용"
      ]
    },
    {
      "cell_type": "markdown",
      "metadata": {
        "id": "sVg6g6iM3iTr"
      },
      "source": [
        "### SVM(Support Vector Machine) 알고리즘"
      ]
    },
    {
      "cell_type": "code",
      "metadata": {
        "id": "qWovjJCD3hV3"
      },
      "source": [
        "from sklearn import svm, metrics\n",
        "model = svm.SVC(gamma = 'scale') # 모델 생성\n",
        "model.fit(X_train, y_train) # 학습데이터를 이용하여 훈련\n",
        "y_pred = model.predict(X_test) # 테스트 데이터를 이용하여 예측\n",
        "print(\"SVM: %.2f\" %(metrics.accuracy_score(y_pred, y_test)*100)) # 테스트 정확도 측정"
      ],
      "execution_count": null,
      "outputs": []
    },
    {
      "cell_type": "markdown",
      "metadata": {
        "id": "wbb98u9S4D27"
      },
      "source": [
        "#### 분류 결과표(confusion_matrix)\n",
        "\n",
        "- 타겟의 원래 클래스와 모형이 예측한 클래스와 일치하는지는 갯수로 세어서 표로 나타낸 것\n",
        "- 정답 클래스는 행(row)으로 예측한 클래스는 열(column)로 나타냄"
      ]
    },
    {
      "cell_type": "code",
      "metadata": {
        "id": "pjaDkRKh4O5L"
      },
      "source": [
        "metrics.confusion_matrix(y_test, y_pred)"
      ],
      "execution_count": null,
      "outputs": []
    },
    {
      "cell_type": "markdown",
      "metadata": {
        "id": "RvMjTw714aon"
      },
      "source": [
        "### DecisionTreeClassifier(결정트리) 알고리즘"
      ]
    },
    {
      "cell_type": "code",
      "metadata": {
        "id": "1btf2nUk4d54"
      },
      "source": [
        "from sklearn.tree import DecisionTreeClassifier\n",
        "model = DecisionTreeClassifier()\n",
        "model.fit(X_train, y_train)\n",
        "\n",
        "y_pred = model.predict(X_test)\n",
        "print(\"DecisionTreeClassifier: %.2f\" %(metrics.accuracy_score(y_pred, y_test)*100))"
      ],
      "execution_count": null,
      "outputs": []
    },
    {
      "cell_type": "code",
      "metadata": {
        "id": "ZRwLdEiR40u7"
      },
      "source": [
        "metrics.confusion_matrix(y_test, y_pred)"
      ],
      "execution_count": null,
      "outputs": []
    },
    {
      "cell_type": "markdown",
      "metadata": {
        "id": "1N19JtwE45a6"
      },
      "source": [
        "### KNN(K-근접 이웃) 알고리즘"
      ]
    },
    {
      "cell_type": "code",
      "metadata": {
        "id": "R61XqStD45FH"
      },
      "source": [
        "from sklearn.neighbors import KNeighborsClassifier\n",
        "knnModel = KNeighborsClassifier(n_neighbors=15)\n",
        "knnModel.fit(X_train, y_train)\n",
        "y_pred = knnModel.predict(X_test)\n",
        "print(\"KNeighborsClassifier: %.2f\" %(metrics.accuracy_score(y_pred, y_test)*100))"
      ],
      "execution_count": null,
      "outputs": []
    },
    {
      "cell_type": "code",
      "metadata": {
        "id": "A1H-60zR5Y2Y"
      },
      "source": [
        "metrics.confusion_matrix(y_test, y_pred)"
      ],
      "execution_count": null,
      "outputs": []
    },
    {
      "cell_type": "code",
      "metadata": {
        "id": "KjLghRuk5eVL"
      },
      "source": [
        "knnModel = KNeighborsClassifier(n_neighbors=11)\n",
        "knnModel.fit(X_train, y_train)\n",
        "y_pred = knnModel.predict(X_test)\n",
        "print(\"KNeighborsClassifier: %.2f\" %(metrics.accuracy_score(y_pred, y_test)*100))"
      ],
      "execution_count": null,
      "outputs": []
    },
    {
      "cell_type": "code",
      "metadata": {
        "id": "o5n7NU7Q51XP"
      },
      "source": [
        "metrics.confusion_matrix(y_test, y_pred)"
      ],
      "execution_count": null,
      "outputs": []
    },
    {
      "cell_type": "markdown",
      "metadata": {
        "id": "4siQu-2w52dj"
      },
      "source": [
        "### LogisticRegression(로지스틱 회귀) 알고리즘"
      ]
    },
    {
      "cell_type": "code",
      "metadata": {
        "colab": {
          "base_uri": "https://localhost:8080/"
        },
        "id": "6Kvnxbva56QA",
        "outputId": "0831a4d9-0a17-4dcb-bc36-9cbf33d5ac62"
      },
      "source": [
        "from sklearn.linear_model import LogisticRegression\n",
        "model = LogisticRegression(solver='lbfgs', max_iter=4000)\n",
        "model.fit(X_train, y_train)\n",
        "y_pred = model.predict(X_test)\n",
        "print(\"LogisticRegression: %.2f\" %(metrics.accuracy_score(y_pred, y_test)*100))"
      ],
      "execution_count": null,
      "outputs": [
        {
          "output_type": "stream",
          "text": [
            "LogisticRegression: 95.61\n"
          ],
          "name": "stdout"
        }
      ]
    },
    {
      "cell_type": "code",
      "metadata": {
        "colab": {
          "base_uri": "https://localhost:8080/"
        },
        "id": "tpw3GwAD6V7n",
        "outputId": "77c2f8b8-2e18-4e71-e3c2-7bb9fab69669"
      },
      "source": [
        "metrics.confusion_matrix(y_test, y_pred)"
      ],
      "execution_count": null,
      "outputs": [
        {
          "output_type": "execute_result",
          "data": {
            "text/plain": [
              "array([[39,  4],\n",
              "       [ 1, 70]])"
            ]
          },
          "metadata": {
            "tags": []
          },
          "execution_count": 43
        }
      ]
    },
    {
      "cell_type": "markdown",
      "metadata": {
        "id": "ZazHllmI6Wwb"
      },
      "source": [
        "### RandomForestClassifier"
      ]
    },
    {
      "cell_type": "code",
      "metadata": {
        "id": "-psOClQb6ZE7"
      },
      "source": [
        "from sklearn.ensemble import RandomForestClassifier\n",
        "model = RandomForestClassifier(n_estimators = 100)\n",
        "model.fit(X_train, y_train)\n",
        "y_pred = model.predict(X_test)\n",
        "print(\"RandomForestClassifier: %.2f\" %(metrics.accuracy_score(y_pred, y_test)*100))"
      ],
      "execution_count": null,
      "outputs": []
    },
    {
      "cell_type": "code",
      "metadata": {
        "colab": {
          "base_uri": "https://localhost:8080/"
        },
        "id": "dFb78FKw6zj1",
        "outputId": "00a19354-5a2d-429f-f4e7-6c0532b2e80a"
      },
      "source": [
        "metrics.confusion_matrix(y_test, y_pred)"
      ],
      "execution_count": null,
      "outputs": [
        {
          "output_type": "execute_result",
          "data": {
            "text/plain": [
              "array([[40,  3],\n",
              "       [ 1, 70]])"
            ]
          },
          "metadata": {
            "tags": []
          },
          "execution_count": 46
        }
      ]
    },
    {
      "cell_type": "markdown",
      "metadata": {
        "id": "FCI4VY4j63TD"
      },
      "source": [
        "## 코드 정리"
      ]
    },
    {
      "cell_type": "code",
      "metadata": {
        "id": "DuomDK9b624v"
      },
      "source": [
        "import numpy as np\n",
        "import pandas as pd\n",
        "from sklearn.datasets import load_breast_cancer\n",
        "from sklearn.model_selection import train_test_split\n",
        "from sklearn.neighbors import KNeighborsClassifier\n",
        "\n",
        "# 데이터 읽어오기\n",
        "breast_cancer = load_breast_cancer()\n",
        "# 훈련 데이터와 학습 데이터의 분리\n",
        "X_train, X_test, y_train, y_test = train_test_split(breast_cancer['data'], breast_cancer['target'], test_size = 0.2, random_state=42)\n",
        "# 데이터 학습과 평가(KNN)\n",
        "knnModel = KNeighborsClassifier(n_neighbors=11) # 학습모델 생성\n",
        "knnModel.fit(X_train, y_train) # 학습 시작\n",
        "y_pred = knnModel.predict(X_test) # 학습 평가\n",
        "print(\"KNeighborsClassifier: %.2f\" %(metrics.accuracy_score(y_pred, y_test)*100)) # 정확도 출력"
      ],
      "execution_count": null,
      "outputs": []
    },
    {
      "cell_type": "code",
      "metadata": {
        "id": "1MuOOxcI7yHx"
      },
      "source": [
        "# 평가 데이터를 이용하여 데이터프레임 만들기\n",
        "dfCancerTestSet = pd.DataFrame(X_test, columns=breast_cancer.feature_names)\n",
        "dfCancerTestSet['predict'] = y_pred\n",
        "dfCancerTestSet['diagnosis'] = y_test\n",
        "dfCancerTestSet"
      ],
      "execution_count": null,
      "outputs": []
    }
  ]
}